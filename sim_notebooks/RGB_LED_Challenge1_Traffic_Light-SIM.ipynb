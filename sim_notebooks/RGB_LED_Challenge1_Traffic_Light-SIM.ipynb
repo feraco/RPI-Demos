{
 "cells": [
  {
   "cell_type": "markdown",
   "metadata": {},
   "source": [
    "<small>\n",
    "Part of the InnovatED STEM and DroneBlocks Land, Air, and Sea Robotics Curriculum  \n",
    "Licensed for educational use in schools only.  \n",
    "Redistribution, commercial use, or resale is strictly prohibited.  \n",
    "\u00a9 2025 InnovatED STEM & DroneBlocks. All rights reserved.\n",
    "</small>"
   ]
  },
  {
   "cell_type": "markdown",
   "id": "242f6bc4",
   "metadata": {},
   "source": [
    "# \ud83d\udea6 RGB LED Challenge 1: Traffic Light Simulation\n",
    "---\n",
    "\n",
    "Simulate a traffic light using an RGB LED.\n",
    "\n",
    "### \ud83d\udd34 RED (Stop)\n",
    "- On for 2 seconds\n",
    "\n",
    "### \ud83d\udfe1 YELLOW (Caution)\n",
    "- On for 1 second\n",
    "\n",
    "### \ud83d\udfe2 GREEN (Go)\n",
    "- On for 2 seconds"
   ]
  },
  {
   "cell_type": "code",
   "execution_count": null,
   "id": "de8b16d6",
   "metadata": {},
   "outputs": [],
   "source": [
    "from rgb_multi_led_sim import set_color, blink\n",
    "import time\n",
    "\n",
    "# Simulate traffic light on LED 1\n",
    "\n",
    "# \ud83d\udd34 RED\n",
    "set_color(1, 255, 0, 0)\n",
    "time.sleep(2)\n",
    "\n",
    "# \ud83d\udfe1 YELLOW\n",
    "set_color(1, 255, 255, 0)\n",
    "time.sleep(1)\n",
    "\n",
    "# \ud83d\udfe2 GREEN\n",
    "set_color(1, 0, 255, 0)\n",
    "time.sleep(2)\n"
   ]
  },
  {
   "cell_type": "code",
   "execution_count": null,
   "id": "4c6628c3",
   "metadata": {},
   "outputs": [],
   "source": [
    "# \ud83e\uddea Try your own light show version below:\n"
   ]
  }
 ],
 "metadata": {},
 "nbformat": 4,
 "nbformat_minor": 5
}