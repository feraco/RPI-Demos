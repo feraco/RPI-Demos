{
 "cells": [
  {
   "cell_type": "markdown",
   "id": "575f09b9",
   "metadata": {},
   "source": [
    "<small>\n",
    "Part of the InnovatED STEM and DroneBlocks Land, Air, and Sea Robotics Curriculum  \n",
    "Licensed for educational use in schools only.  \n",
    "Redistribution, commercial use, or resale is strictly prohibited.  \n",
    "© 2025 InnovatED STEM & DroneBlocks. All rights reserved.\n",
    "</small>"
   ]
  },
  {
   "cell_type": "markdown",
   "id": "242f6bc4",
   "metadata": {},
   "source": [
    "#  RGB LED Challenge 1: Traffic Light Simulation\n",
    "---\n",
    "\n",
    "Simulate a traffic light using an RGB LED.\n",
    "\n",
    "###  RED (Stop)\n",
    "- On for 2 seconds\n",
    "\n",
    "###  YELLOW (Caution)\n",
    "- On for 1 second\n",
    "\n",
    "###  GREEN (Go)\n",
    "- On for 2 seconds"
   ]
  },
  {
   "cell_type": "code",
   "execution_count": null,
   "id": "de8b16d6",
   "metadata": {},
   "outputs": [],
   "source": [
    "from rgb_multi_led_sim import set_color, blink\n",
    "import time\n",
    "\n",
    "# Simulate traffic light on LED 1\n",
    "\n",
    "#  RED\n",
    "set_color(1, 255, 0, 0)\n",
    "time.sleep(2)\n",
    "\n",
    "#  YELLOW\n",
    "set_color(1, 255, 255, 0)\n",
    "time.sleep(1)\n",
    "\n",
    "#  GREEN\n",
    "set_color(1, 0, 255, 0)\n",
    "time.sleep(2)\n"
   ]
  },
  {
   "cell_type": "code",
   "execution_count": null,
   "id": "4c6628c3",
   "metadata": {},
   "outputs": [],
   "source": [
    "#  Try your own light show version below:\n"
   ]
  }
 ],
 "metadata": {},
 "nbformat": 4,
 "nbformat_minor": 5
}
