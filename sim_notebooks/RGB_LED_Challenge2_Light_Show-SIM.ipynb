{
 "cells": [
  {
   "cell_type": "markdown",
   "id": "558518ed",
   "metadata": {},
   "source": [
    "# 🎆 RGB LED Challenge 2: Light Show\n",
    "---\n",
    "\n",
    "Create a simple LED light show using multiple colors and blinking patterns.\n",
    "\n",
    "- Use at least 3 colors\n",
    "- Blink at least 2 times\n",
    "- Make it loop through your show"
   ]
  },
  {
   "cell_type": "code",
   "execution_count": null,
   "id": "af11415b",
   "metadata": {},
   "outputs": [],
   "source": [
    "from rgb_multi_led_sim import set_color, blink\n",
    "import time\n",
    "\n",
    "# Light show on LED 2\n",
    "for _ in range(2):\n",
    "    # Red\n",
    "    set_color(2, 255, 0, 0)\n",
    "    time.sleep(0.5)\n",
    "\n",
    "    # Purple\n",
    "    set_color(2, 128, 0, 128)\n",
    "    time.sleep(0.5)\n",
    "\n",
    "    # Aqua\n",
    "    set_color(2, 0, 255, 255)\n",
    "    time.sleep(0.5)\n",
    "\n",
    "    # Off\n",
    "    set_color(2, 0, 0, 0)\n",
    "    time.sleep(0.2)\n"
   ]
  },
  {
   "cell_type": "code",
   "execution_count": null,
   "id": "a656ab48",
   "metadata": {},
   "outputs": [],
   "source": [
    "# 🧪 Try your own light show version below:\n"
   ]
  }
 ],
 "metadata": {},
 "nbformat": 4,
 "nbformat_minor": 5
}
