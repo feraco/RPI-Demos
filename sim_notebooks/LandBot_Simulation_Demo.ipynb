{
 "cells": [
  {
   "cell_type": "markdown",
   "id": "da1ddd86",
   "metadata": {},
   "source": [
    "# 🤖 LandBot Simulated Demo: Buzzer + RGB LED + Movement\n",
    "This notebook tests all simulation components:\n",
    "\n",
    "- 🔊 Buzzer with `play_buzzer_sim`\n",
    "- 💡 RGB LEDs with `set_color` and `blink`\n",
    "- 🚗 LandBot movement with animated 2D path\n"
   ]
  },
  {
   "cell_type": "code",
   "execution_count": null,
   "id": "81dea540",
   "metadata": {},
   "outputs": [],
   "source": [
    "# ✅ Import modules\n",
    "from buzzer_sim import play_buzzer_sim\n",
    "from rgb_multi_led_sim import set_color, blink\n",
    "from landbot_sim_slider import LandBotSimulator\n",
    "bot = LandBotSimulator()"
   ]
  },
  {
   "cell_type": "markdown",
   "id": "4e1f8f6b",
   "metadata": {},
   "source": [
    "## 🔊 Test Buzzer"
   ]
  },
  {
   "cell_type": "code",
   "execution_count": null,
   "id": "38fafa05",
   "metadata": {},
   "outputs": [],
   "source": [
    "# Play three short beeps\n",
    "play_buzzer_sim(1000, 0.2, 0.1, 3)\n",
    "\n",
    "# Play a long low tone\n",
    "play_buzzer_sim(400, 0.8, 0, 1)"
   ]
  },
  {
   "cell_type": "markdown",
   "id": "103bf49c",
   "metadata": {},
   "source": [
    "## 💡 Test RGB LEDs"
   ]
  },
  {
   "cell_type": "code",
   "execution_count": null,
   "id": "490ce5f3",
   "metadata": {},
   "outputs": [],
   "source": [
    "# Set LEDs\n",
    "set_color(1, 255, 0, 0)   # Red\n",
    "set_color(2, 0, 255, 0)   # Green\n",
    "set_color(3, 0, 0, 255)   # Blue\n",
    "\n",
    "# Blink LED 1 in Yellow\n",
    "blink(1, 255, 255, 0, repeat=4, delay=0.3)"
   ]
  },
  {
   "cell_type": "markdown",
   "id": "6a9f9a54",
   "metadata": {},
   "source": [
    "## 🚗 Test Movement"
   ]
  },
  {
   "cell_type": "code",
   "execution_count": null,
   "id": "c177a37d",
   "metadata": {},
   "outputs": [],
   "source": [
    "# Move with buzzer alert\n",
    "play_buzzer_sim(800, 0.3, 0.1, 1)\n",
    "bot.move_forward(0.4, 2)\n",
    "\n",
    "# Rotate with high tone\n",
    "play_buzzer_sim(1800, 0.3, 0.1, 2)\n",
    "bot.rotate_left(90)\n",
    "\n",
    "# More movement\n",
    "bot.move_forward(0.3, 1)\n",
    "bot.stop()"
   ]
  },
  {
   "cell_type": "markdown",
   "id": "a8b0b165",
   "metadata": {},
   "source": [
    "## 📈 Show Movement Path"
   ]
  },
  {
   "cell_type": "code",
   "execution_count": null,
   "id": "c1194cb4",
   "metadata": {},
   "outputs": [],
   "source": [
    "bot.animate_2d_path()"
   ]
  }
 ],
 "metadata": {},
 "nbformat": 4,
 "nbformat_minor": 5
}
