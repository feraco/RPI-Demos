{
 "cells": [
  {
   "cell_type": "markdown",
   "metadata": {},
   "source": [
    "<h2> Python Part 4 </h2>"
   ]
  },
  {
   "cell_type": "markdown",
   "metadata": {},
   "source": [
    "The last piece of the python puzzle that will be of use is the creation and use of functions. A function is a block of text that can be helped to reduce the amount of written code, it is often something that has to be called numerous times. Functions have to forms, one that returns a value and one that does not return a value. "
   ]
  },
  {
   "cell_type": "markdown",
   "metadata": {},
   "source": [
    "def Function_Name_Here(name_of_variable_being_sent_over):\n",
    "    \n",
    "    return whatever_you'd_like_to_send_back_from_the_function_call\n",
    "\n",
    "print (Function_Name(Variable_you_are_giving_the_function))"
   ]
  },
  {
   "cell_type": "code",
   "execution_count": null,
   "metadata": {},
   "outputs": [
    {
     "name": "stdout",
     "output_type": "stream",
     "text": [
      "3.14159\n"
     ]
    }
   ],
   "source": [
    "def degrees_to_radians(degrees):\n",
    "    return degrees * (3.14159/180)\n",
    "\n",
    "print (degrees_to_radians(180))"
   ]
  },
  {
   "cell_type": "markdown",
   "metadata": {},
   "source": [
    "Below are a few challenges for you to try."
   ]
  },
  {
   "cell_type": "code",
   "execution_count": null,
   "metadata": {},
   "outputs": [],
   "source": [
    "# Write a function that accepts a distance and a time and returns the current speed of the object\n",
    "# Speed is defined as distance/time"
   ]
  },
  {
   "cell_type": "code",
   "execution_count": null,
   "metadata": {},
   "outputs": [],
   "source": [
    "# Write a function that accepts a current and a resistance and calculates the voltage\n",
    "# Voltage is defined by I*R"
   ]
  },
  {
   "cell_type": "code",
   "execution_count": null,
   "metadata": {},
   "outputs": [],
   "source": [
    "#Write a function the converts a celsisus value into fahrenheit, and one that converts fahrenheit to celsius"
   ]
  },
  {
   "cell_type": "code",
   "execution_count": null,
   "metadata": {},
   "outputs": [],
   "source": [
    "# Write a function that asks a user for the current temperature\n",
    "# It then checks to see if a temperature is over 100 degrees Fahrenheit\n",
    "# Print \"It's Too Hot!\" if it is \n",
    "# If the temperature is less than 65 degrees Fahrenheit\n",
    "# Print \"It's Too Cold!\"\n",
    "# If it's inbetween those values print \"It's Perfect out!\""
   ]
  },
  {
   "cell_type": "code",
   "execution_count": null,
   "metadata": {},
   "outputs": [],
   "source": [
    "# Write a function to check a motors speed\n",
    "# If the motor speed is greater than 0, print \"Motor is moving forward\"\n",
    "# If the motor speed is less than 0, print \"motor is moving backwards\"\n",
    "# If the motor speed is 0, print \"Stopped\""
   ]
  }
 ],
 "metadata": {
  "kernelspec": {
   "display_name": "Python 3",
   "language": "python",
   "name": "python3"
  },
  "language_info": {
   "codemirror_mode": {
    "name": "ipython",
    "version": 3
   },
   "file_extension": ".py",
   "mimetype": "text/x-python",
   "name": "python",
   "nbconvert_exporter": "python",
   "pygments_lexer": "ipython3",
   "version": "3.12.0"
  }
 },
 "nbformat": 4,
 "nbformat_minor": 2
}
