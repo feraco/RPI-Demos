{
 "cells": [
  {
   "cell_type": "markdown",
   "metadata": {},
   "source": [
    "<h1>Python Crash Course Part 2 <h1>\n",
    "<h3>This Notebook will walk you through all the necessary python you need to be successful in this course. <h3\n",
    "\n",
    "\n"
   ]
  },
  {
   "cell_type": "markdown",
   "metadata": {},
   "source": [
    "In this part of the course we are going to deal with operators, mathematical functions, making decisions, and going through loops. "
   ]
  },
  {
   "cell_type": "markdown",
   "metadata": {},
   "source": [
    "Mathematical Operator : What it does\n",
    " \n",
    "    a+b : addition\n",
    "    a-b : subtraction\n",
    "    a*b : multiplication  \n",
    "    a/b : division\n",
    "    a**b : Power\n"
   ]
  },
  {
   "cell_type": "code",
   "execution_count": null,
   "metadata": {},
   "outputs": [],
   "source": [
    "# The code below will output the value 5\n",
    "num_One = 3\n",
    "num_Two = 2\n",
    "print(num_One + num_Two)"
   ]
  },
  {
   "cell_type": "code",
   "execution_count": null,
   "metadata": {},
   "outputs": [],
   "source": [
    "# Using the code above as an example, please ask the user to input positve values. \n",
    "# Then print out the two values added together, subtracted, multiplied, divided and \n",
    "# the first value raised to the second value. \n",
    "\n"
   ]
  },
  {
   "cell_type": "markdown",
   "metadata": {},
   "source": [
    "<h2> Comparisions <h2>\n",
    "\n",
    "<h3>In order to make decisions with a computer you need to be able to compare things. For example, you may need to decide if you have traveled a certain distance. In order to do this you need to ask the computer if a certain value is greater than, less than, or equal to a different value. This can be done with comparision operators. <h3>\n"
   ]
  },
  {
   "cell_type": "markdown",
   "metadata": {},
   "source": [
    " Operator : What it does\n",
    "    \n",
    "    (a>b) : Greater than\n",
    "    (a<b) : Less than\n",
    "    (a==2) : Exactly equal to\n",
    "    (a>=2) : Greater than or equal to\n",
    "    (b<=3) : Less than or equal to\n",
    "    (a>b and a==3) : True if both are true, false if either is False\n",
    "    (a<b or a==3) : True if either is true, false if both are false. \n"
   ]
  },
  {
   "cell_type": "code",
   "execution_count": null,
   "metadata": {},
   "outputs": [],
   "source": [
    "#Try running the code below\n",
    "num_One = input(\"Enter your first number: \")\n",
    "num_Two = input(\"Enter your second number: \")\n",
    "# Remember, the concatenate can only use a string, so we have to convert our boolean output to a string\n",
    "print(\"Is your first number larger than your second number? \" + str(num_One>num_Two))\n",
    "\n",
    "# We can also store our boolean output in a variable and print that\n",
    "isLarger = (num_One>num_Two)\n",
    "print(f\"Is your first number larger than your second number? {isLarger}\")"
   ]
  },
  {
   "cell_type": "code",
   "execution_count": null,
   "metadata": {},
   "outputs": [],
   "source": [
    "# Try writing the follow code\n",
    "# Ask the user to enter two integer numbers\n",
    "# Print whether the first number or second number is larger\n",
    "# Print if the first number is greater than or equal to 5\n",
    "# Print if the second number is smaller than or equal to 10\n"
   ]
  },
  {
   "cell_type": "markdown",
   "metadata": {},
   "source": [
    "<h2> Converting Types<h2>"
   ]
  },
  {
   "cell_type": "markdown",
   "metadata": {},
   "source": [
    "Sometimes it is necessarry to change the variable type. For example, the input command can only store a string value. What if we want to ask the user their age? \n",
    "\n",
    "To do this we can convert our output, for example:\n",
    "\n",
    "Age=int(input(\"Enter your age:\"))\n",
    "print(Age)\n",
    "\n",
    "This will ask the user their age, then store it as an integer in the variable Age."
   ]
  },
  {
   "cell_type": "code",
   "execution_count": null,
   "metadata": {},
   "outputs": [],
   "source": [
    "#Try the code below\n",
    "Age = int(input(\"Enter your age:\"))\n",
    "print(Age)"
   ]
  },
  {
   "cell_type": "markdown",
   "metadata": {},
   "source": [
    "<h2> Decision Making <h2>"
   ]
  },
  {
   "cell_type": "markdown",
   "metadata": {},
   "source": [
    "Now that we understand how to do operators we can start to have the computer make \"decisions\". To do this we will use if, else, and elif (else if) statements. Essentially these statements work by asking the computer to do a task if something is true, or do something else if it is false. You can think of this like needing to turn on the lights of the room. The first thing you need to check is whether or not the room lights are on. If they're on, there is nothing you need to do. If they're off you need to turn on the lights. \n"
   ]
  },
  {
   "cell_type": "code",
   "execution_count": null,
   "metadata": {},
   "outputs": [],
   "source": [
    "# Asking the user if the lights are on\n",
    "# The .strip() removes any empty spaces from the user input\n",
    "# The .lower() makes the user input all lowercase\n",
    "lights_on = input(\"Are the lights on? (yes/no): \").strip().lower()\n",
    "\n",
    "# Decision-making using if-else statements\n",
    "if lights_on == \"yes\":\n",
    "    print(\"The lights are already on. No need to do anything.\")\n",
    "elif lights_on == \"no\":\n",
    "    print(\"The lights are off. Turning them on now!\")\n",
    "else:\n",
    "    print(\"Invalid response. Please enter 'yes' or 'no'.\")"
   ]
  },
  {
   "cell_type": "code",
   "execution_count": null,
   "metadata": {},
   "outputs": [],
   "source": [
    "# Using the space below I would like you to what temperature it is outside\n",
    "# If it is above 85 degrees you should print \"It's hot outside. Stay hydrated.\"\n",
    "# If it is above or equal to 65 or less than or equal to 85 degrees you should print \"It's a beautiful day, go enjoy it!\"\n",
    "# If it is below 65 degrees you should print \"It's Chilly. Wear a jacket!\""
   ]
  }
 ],
 "metadata": {
  "kernelspec": {
   "display_name": "Python 3",
   "language": "python",
   "name": "python3"
  },
  "language_info": {
   "codemirror_mode": {
    "name": "ipython",
    "version": 3
   },
   "file_extension": ".py",
   "mimetype": "text/x-python",
   "name": "python",
   "nbconvert_exporter": "python",
   "pygments_lexer": "ipython3",
   "version": "3.12.0"
  }
 },
 "nbformat": 4,
 "nbformat_minor": 2
}
