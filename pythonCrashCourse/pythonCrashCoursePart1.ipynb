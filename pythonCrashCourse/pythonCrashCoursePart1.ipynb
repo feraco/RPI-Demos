{
 "cells": [
  {
   "cell_type": "markdown",
   "metadata": {},
   "source": [
    "<small>\n",
    "Part of the InnovatED STEM and DroneBlocks Land, Air, and Sea Robotics Curriculum  \n",
    "Licensed for educational use in schools only.  \n",
    "Redistribution, commercial use, or resale is strictly prohibited.  \n",
    "\u00a9 2025 InnovatED STEM & DroneBlocks. All rights reserved.\n",
    "</small>"
   ]
  },
  {
   "cell_type": "markdown",
   "metadata": {},
   "source": [
    "<h1>Python Crash Course Part 1 <h1>\n",
    "<h3>This Notebook will walk you through all the necessary python you need to be successful in this course. <h3\n",
    "\n",
    "\n"
   ]
  },
  {
   "cell_type": "markdown",
   "metadata": {},
   "source": [
    "One of the most basic functions is the \u201cprint()\u201d command which can print a string to the screen. For example:\n",
    "\n",
    "print(\"Hello, world!\")\n",
    "\n",
    "will print Hello, world! to the output. Give it a shot below."
   ]
  },
  {
   "cell_type": "code",
   "execution_count": null,
   "metadata": {},
   "outputs": [],
   "source": [
    "#Try printing Hello world below, then hit the play button to the left\n",
    "\n",
    "print(\"Hello, world!\")"
   ]
  },
  {
   "cell_type": "code",
   "execution_count": null,
   "metadata": {},
   "outputs": [],
   "source": [
    "#Try printing your name below, then hit the play button to the left"
   ]
  },
  {
   "cell_type": "code",
   "execution_count": null,
   "metadata": {},
   "outputs": [],
   "source": [
    "#Try printing your own phrase below, then hit the play button to the left"
   ]
  },
  {
   "cell_type": "markdown",
   "metadata": {},
   "source": [
    "<h2> Interacting with a user. <h2>\n",
    "\n",
    "<h3>In order to interact with a user you will often use the \"input\" command. This will allow you to recieve information from the user via the text window in the form of a string. For example </h3>\n",
    "For example using the following:\n",
    "\n",
    "Name = input(\"Enter your name:\")\n",
    "\n",
    "This will prompt the user with the phrase in the qoute \"Enter your name:\". When the person enters their name and hits \"Enter\" their input will then be stored in the string variable Name.\n",
    "\n",
    "We can then use the print command to print the variable name."
   ]
  },
  {
   "cell_type": "code",
   "execution_count": null,
   "metadata": {},
   "outputs": [],
   "source": [
    "#Try running the code below\n",
    "Name = input(\"Enter your name:\")\n",
    "print(Name)"
   ]
  },
  {
   "cell_type": "code",
   "execution_count": null,
   "metadata": {},
   "outputs": [],
   "source": [
    "#Try writing a command to ask the user their favorite color and then printing \n",
    "# \"Your favorite color is:\" followed by the color."
   ]
  },
  {
   "cell_type": "markdown",
   "metadata": {},
   "source": [
    "<h2> Converting Types</h2>\n",
    "\n",
    "Sometimes it is necessarry to change the variable type. For example, the input command can only store a string value. What if we want to ask the user their age? \n",
    "\n",
    "To do this we can convert our output, for example:\n",
    "\n",
    "Age=int(input(\"Enter your age:\"))\n",
    "print(Age)\n",
    "\n",
    "This will ask the user their age, then store it as an integer in the variable Age."
   ]
  },
  {
   "cell_type": "code",
   "execution_count": null,
   "metadata": {},
   "outputs": [],
   "source": [
    "#Try the code below\n",
    "Age = int(input(\"Enter your age:\"))\n",
    "print(Age)"
   ]
  },
  {
   "cell_type": "markdown",
   "metadata": {},
   "source": [
    "<h2> Dealing with more complex output and input </h2>\n",
    "\n",
    "Sometimes you want to ask the user a series of questions, then print out the inputs as a sentence. For example, you may want to ask them their first name, last name, and then age. You may want to then confirm with them whether what they entered was correct or incorrect. "
   ]
  },
  {
   "cell_type": "code",
   "execution_count": null,
   "metadata": {},
   "outputs": [],
   "source": [
    "#The code below asks the users their first name, last name, and age. Then prints it out.\n",
    "\n",
    "first_name = input(\"Enter your first name:\")\n",
    "last_name = input(\"Enter your last name:\")\n",
    "Age = int(input(\"Enter your Age:\"))\n",
    "\n",
    "#To use the \"+\" symbol with printing, everything must be a string. so we need to use str(Age)\n",
    "#to turn our integer back into a string.\n",
    "print(\"Your full name is: \" + first_name + \" \" + last_name + \" and your age is:  \" + str(Age))\n",
    "\n",
    "#We can also use the f-String function to do this. We just enter the variable we want to print in brackets.\n",
    "#This will replace the backet with whatever is in the string.\n",
    "print(f\"your name is {first_name} {last_name} {Age}\")"
   ]
  },
  {
   "cell_type": "code",
   "execution_count": null,
   "metadata": {},
   "outputs": [],
   "source": [
    "#Using the space below I want you to ask the user their full name, their favorite color,\n",
    "# the favorite food, how many siblings they have, and their favorite number.\n",
    "# I want you to then print this all out in a clear and coherent paragraph. \n",
    "# It should read something like, Your favorite color is..., your favorite food is..."
   ]
  }
 ],
 "metadata": {
  "kernelspec": {
   "display_name": "Python 3",
   "language": "python",
   "name": "python3"
  },
  "language_info": {
   "codemirror_mode": {
    "name": "ipython",
    "version": 3
   },
   "file_extension": ".py",
   "mimetype": "text/x-python",
   "name": "python",
   "nbconvert_exporter": "python",
   "pygments_lexer": "ipython3",
   "version": "3.12.0"
  }
 },
 "nbformat": 4,
 "nbformat_minor": 2
}