{
 "cells": [
  {
   "cell_type": "markdown",
   "metadata": {},
   "source": [
    "<h2> Python Crash Course 3 <h2>"
   ]
  },
  {
   "cell_type": "markdown",
   "metadata": {},
   "source": [
    "In this section we will learn how to deal with two types of loops. The for loop and the while loop.\n",
    "\n",
    "<h2>What are Loops?</h2>\n",
    "Loops help us repeat actions without having to write the same code multiple times. There are two main types of loops in Python:\n",
    "\n",
    "<b>For Loops</b> – Used when we know how many times we want to repeat something.\n",
    "\n",
    "<b>While Loops</b> – Used when we want to repeat something until a condition is met."
   ]
  },
  {
   "cell_type": "code",
   "execution_count": null,
   "metadata": {},
   "outputs": [],
   "source": [
    "#This is an example of a for loop. This loop will count from i=0 to i=4, which is a total of 5 numbers.\n",
    "for i in range(5):\n",
    "    print(f\"This is loop numer {i}\")"
   ]
  },
  {
   "cell_type": "code",
   "execution_count": null,
   "metadata": {},
   "outputs": [],
   "source": [
    "# Create a for loop that will print all the numebrs from 0 to 20. "
   ]
  },
  {
   "cell_type": "code",
   "execution_count": null,
   "metadata": {},
   "outputs": [],
   "source": [
    "# Modify your last code using an if statement to print \"We can fit more people\"\n",
    "#  if less than 10, or \"We can't fit more people.\" if greater than 10."
   ]
  },
  {
   "cell_type": "code",
   "execution_count": null,
   "metadata": {},
   "outputs": [],
   "source": [
    "# Create code that asks the user a number they would like to count up to (between 10 and 100).\n",
    "# If their input is greater than 100 or less than 10 ask them to retype it.\n",
    "# If there number is inbetween, count up to the number. "
   ]
  },
  {
   "cell_type": "markdown",
   "metadata": {},
   "source": [
    "<h2> While Loops</h2>"
   ]
  },
  {
   "cell_type": "markdown",
   "metadata": {},
   "source": [
    "While loops are often used while waiting for a condition to be met. Such as when a certain phrase is entered, a certain time is reached, or etc. "
   ]
  },
  {
   "cell_type": "code",
   "execution_count": null,
   "metadata": {},
   "outputs": [],
   "source": [
    "count = 5\n",
    "\n",
    "while count > 0:\n",
    "    print(f\"Countdown: {count}\")\n",
    "    count -= 1  # Decrease count by 1\n",
    "\n",
    "print(\"Blast off!\")"
   ]
  },
  {
   "cell_type": "code",
   "execution_count": null,
   "metadata": {},
   "outputs": [],
   "source": [
    "answer = \"\"\n",
    "\n",
    "while answer != \"python\":\n",
    "    answer = input(\"What is the best programming language? \").lower()\n",
    "\n",
    "print(\"Correct! Python is awesome!\")"
   ]
  }
 ],
 "metadata": {
  "kernelspec": {
   "display_name": "Python 3",
   "language": "python",
   "name": "python3"
  },
  "language_info": {
   "codemirror_mode": {
    "name": "ipython",
    "version": 3
   },
   "file_extension": ".py",
   "mimetype": "text/x-python",
   "name": "python",
   "nbconvert_exporter": "python",
   "pygments_lexer": "ipython3",
   "version": "3.12.0"
  }
 },
 "nbformat": 4,
 "nbformat_minor": 2
}
