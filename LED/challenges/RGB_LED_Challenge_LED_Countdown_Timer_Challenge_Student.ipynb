{
 "cells": [
  {
   "cell_type": "code",
   "execution_count": null,
   "id": "53ff0ce3",
   "metadata": {},
   "outputs": [],
   "source": [
    "\n",
    "import rclpy\n",
    "from omni_robot_controller import OmniWheelControlNode  # Import control node\n",
    "\n",
    "# Initialize ROS2 node\n",
    "rclpy.init()\n",
    "node = OmniWheelControlNode()"
   ]
  },
  {
   "cell_type": "markdown",
   "id": "cb30a2d4",
   "metadata": {},
   "source": [
    "## **3️⃣ Challenge: LED Countdown Timer**\n",
    "**Goal:** Use LEDs to represent a countdown from 5 to 1, changing colors as time passes.\n",
    "\n",
    "**Example:**\n",
    "```python\n",
    "import time\n",
    "colors = [(255, 0, 0), (255, 165, 0), (255, 255, 0), (0, 255, 0), (0, 0, 255)]\n",
    "for i in range(5, 0, -1):\n",
    "    node.set_color(1, *colors[i-1])\n",
    "    print(f'Countdown: {i}')\n",
    "    time.sleep(1)\n",
    "```\n",
    "\n",
    "**Your Challenge:**\n",
    "- Modify the countdown to start from **10**.\n",
    "- Add blinking effects when the timer reaches **zero**.\n"
   ]
  },
  {
   "cell_type": "code",
   "execution_count": null,
   "id": "62c6f15b",
   "metadata": {},
   "outputs": [],
   "source": [
    "# Implement your countdown timer here\n"
   ]
  }
 ],
 "metadata": {},
 "nbformat": 4,
 "nbformat_minor": 5
}
