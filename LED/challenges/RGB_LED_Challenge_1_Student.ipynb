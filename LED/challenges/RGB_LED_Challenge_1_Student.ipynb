{
 "cells": [
  {
   "cell_type": "markdown",
   "metadata": {},
   "source": [
    "<small>\n",
    "Part of the InnovatED STEM and DroneBlocks Land, Air, and Sea Robotics Curriculum  \n",
    "Licensed for educational use in schools only.  \n",
    "Redistribution, commercial use, or resale is strictly prohibited.  \n",
    "\u00a9 2025 InnovatED STEM & DroneBlocks. All rights reserved.\n",
    "</small>"
   ]
  },
  {
   "cell_type": "code",
   "execution_count": null,
   "id": "53ff0ce3",
   "metadata": {},
   "outputs": [],
   "source": [
    "\n",
    "import rclpy\n",
    "from omni_robot_controller import OmniWheelControlNode  # Import control node\n",
    "\n",
    "# Initialize ROS2 node\n",
    "rclpy.init()\n",
    "node = OmniWheelControlNode()"
   ]
  },
  {
   "cell_type": "markdown",
   "id": "fee79b3d",
   "metadata": {},
   "source": [
    "## **1\ufe0f\u20e3 Challenge: Fading LED Effect**\n",
    "**Goal:** Implement a gradual fading effect by incrementally increasing and decreasing brightness.\n",
    "\n",
    "\n",
    "\n",
    "**Your Challenge:**\n",
    "- Modify the code to fade between **blue** and **green** instead of red.\n",
    "- Try different step sizes for smoother or sharper transitions.\n"
   ]
  },
  {
   "cell_type": "code",
   "execution_count": null,
   "id": "bf315b32",
   "metadata": {},
   "outputs": [],
   "source": [
    "# Implement your fading effect here\n",
    "# Example: Fading between blue and green\n"
   ]
  },
  {
   "cell_type": "code",
   "execution_count": null,
   "id": "c7c694ee",
   "metadata": {},
   "outputs": [],
   "source": [
    "# \u270f\ufe0f Write your solution here"
   ]
  }
 ],
 "metadata": {
  "language_info": {
   "name": "python"
  }
 },
 "nbformat": 4,
 "nbformat_minor": 5
}