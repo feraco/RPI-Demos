{
 "cells": [
  {
   "cell_type": "markdown",
   "id": "94eac1e7",
   "metadata": {},
   "source": [
    "<small>\n",
    "Part of the InnovatED STEM and DroneBlocks Land, Air, and Sea Robotics Curriculum  \n",
    "Licensed for educational use in schools only.  \n",
    "Redistribution, commercial use, or resale is strictly prohibited.  \n",
    "© 2025 InnovatED STEM & DroneBlocks. All rights reserved.\n",
    "</small>"
   ]
  },
  {
   "cell_type": "code",
   "execution_count": null,
   "id": "53ff0ce3",
   "metadata": {},
   "outputs": [],
   "source": [
    "\n",
    "import rclpy\n",
    "from omni_robot_controller import OmniWheelControlNode  # Import control node\n",
    "\n",
    "# Initialize ROS2 node\n",
    "rclpy.init()\n",
    "node = OmniWheelControlNode()"
   ]
  },
  {
   "cell_type": "markdown",
   "id": "d5c2325c",
   "metadata": {},
   "source": [
    "## **2⃣ Challenge: Police Light Simulation**\n",
    "**Goal:** Simulate flashing police lights alternating between red and blue.\n",
    "\n",
    "**Example:**\n",
    "```python\n",
    "import time\n",
    "for _ in range(10):\n",
    "    node.set_color(1, 255, 0, 0)  # Red\n",
    "    node.set_color(2, 0, 0, 255)  # Blue\n",
    "    time.sleep(0.5)\n",
    "    node.set_color(1, 0, 0, 255)  # Blue\n",
    "    node.set_color(2, 255, 0, 0)  # Red\n",
    "    time.sleep(0.5)\n",
    "```\n",
    "\n",
    "**Your Challenge:**\n",
    "- Change the delay time to speed up or slow down the effect.\n",
    "- Add a third LED and modify the pattern to include white flashes.\n"
   ]
  },
  {
   "cell_type": "code",
   "execution_count": null,
   "id": "88b970dd",
   "metadata": {},
   "outputs": [],
   "source": [
    "# Implement your police light simulation here\n"
   ]
  }
 ],
 "metadata": {},
 "nbformat": 4,
 "nbformat_minor": 5
}
