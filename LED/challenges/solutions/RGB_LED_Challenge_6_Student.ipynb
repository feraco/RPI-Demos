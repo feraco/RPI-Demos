{
 "cells": [
  {
   "cell_type": "markdown",
   "metadata": {},
   "source": [
    "<small>\n",
    "Part of the InnovatED STEM and DroneBlocks Land, Air, and Sea Robotics Curriculum  \n",
    "Licensed for educational use in schools only.  \n",
    "Redistribution, commercial use, or resale is strictly prohibited.  \n",
    "\u00a9 2025 InnovatED STEM & DroneBlocks. All rights reserved.\n",
    "</small>"
   ]
  },
  {
   "cell_type": "markdown",
   "id": "58a81b55",
   "metadata": {},
   "source": [
    "# **RGB LED Challenge: Traffic Light Simulation**\n",
    "---\n",
    "Simulate a traffic light using a real RGB LED and ROS2 OmniWheelControlNode.\n",
    "\n",
    "### \ud83d\udee0\ufe0f Objective:\n",
    "- RED for 2 seconds\n",
    "- YELLOW for 1 second\n",
    "- GREEN for 2 seconds\n",
    "\n",
    "Use the `set_led_color` and `sleep` functions to implement the sequence."
   ]
  },
  {
   "cell_type": "code",
   "execution_count": null,
   "id": "fea8a42e",
   "metadata": {},
   "outputs": [],
   "source": [
    "import rclpy\n",
    "from omni_robot_controller import OmniWheelControlNode\n",
    "from time import sleep\n",
    "\n",
    "rclpy.init()\n",
    "node = OmniWheelControlNode()\n",
    "\n",
    "# \ud83d\udea6 Write your traffic light sequence here\n"
   ]
  },
  {
   "cell_type": "markdown",
   "id": "87fd06d6",
   "metadata": {},
   "source": [
    "## \u2705 Remember to shutdown the node at the end:"
   ]
  },
  {
   "cell_type": "code",
   "execution_count": null,
   "id": "6a64ac18",
   "metadata": {},
   "outputs": [],
   "source": [
    "node.destroy_node()\n",
    "rclpy.shutdown()"
   ]
  }
 ],
 "metadata": {},
 "nbformat": 4,
 "nbformat_minor": 5
}