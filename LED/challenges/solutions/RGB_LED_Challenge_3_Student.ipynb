{
 "cells": [
  {
   "cell_type": "markdown",
   "metadata": {},
   "source": [
    "<small>\n",
    "Part of the InnovatED STEM and DroneBlocks Land, Air, and Sea Robotics Curriculum  \n",
    "Licensed for educational use in schools only.  \n",
    "Redistribution, commercial use, or resale is strictly prohibited.  \n",
    "\u00a9 2025 InnovatED STEM & DroneBlocks. All rights reserved.\n",
    "</small>"
   ]
  },
  {
   "cell_type": "markdown",
   "id": "d95d630b",
   "metadata": {},
   "source": [
    "# **RGB LED Challenge: LED Light Show**\n",
    "---\n",
    "Create your own LED light show using patterns and colors.\n",
    "\n",
    "### \ud83d\udee0\ufe0f Requirements:\n",
    "- At least 3 different colors\n",
    "- Blinking or transitions\n",
    "- Use `sleep()` between transitions\n"
   ]
  },
  {
   "cell_type": "code",
   "execution_count": null,
   "id": "d8c9a69d",
   "metadata": {},
   "outputs": [],
   "source": [
    "import rclpy\n",
    "from omni_robot_controller import OmniWheelControlNode\n",
    "from time import sleep\n",
    "\n",
    "rclpy.init()\n",
    "node = OmniWheelControlNode()\n",
    "\n",
    "# \ud83c\udf86 Write your LED light show sequence here\n"
   ]
  },
  {
   "cell_type": "markdown",
   "id": "eee66c86",
   "metadata": {},
   "source": [
    "## \u2705 Remember to shutdown the node at the end:"
   ]
  },
  {
   "cell_type": "code",
   "execution_count": null,
   "id": "688be56d",
   "metadata": {},
   "outputs": [],
   "source": [
    "node.destroy_node()\n",
    "rclpy.shutdown()"
   ]
  }
 ],
 "metadata": {},
 "nbformat": 4,
 "nbformat_minor": 5
}