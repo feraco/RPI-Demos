{
 "cells": [
  {
   "cell_type": "code",
   "execution_count": null,
   "id": "53ff0ce3",
   "metadata": {},
   "outputs": [],
   "source": [
    "\n",
    "import rclpy\n",
    "from omni_robot_controller import OmniWheelControlNode  # Import control node\n",
    "\n",
    "# Initialize ROS2 node\n",
    "rclpy.init()\n",
    "node = OmniWheelControlNode()"
   ]
  },
  {
   "cell_type": "markdown",
   "id": "81c7c4e9",
   "metadata": {},
   "source": [
    "## **4️⃣ Challenge: Night Rider (LED Scanning Effect)**\n",
    "**Goal:** Create a Knight Rider-style LED scanning effect that moves back and forth.\n",
    "\n",
    "\n",
    "\n",
    "**Your Challenge:**\n",
    "- Change the color from red to a gradient effect.\n",
    "- Adjust the timing for a smoother or faster transition.\n"
   ]
  },
  {
   "cell_type": "code",
   "execution_count": null,
   "id": "07d101b5",
   "metadata": {},
   "outputs": [],
   "source": [
    "# Implement your Knight Rider scanning effect here\n"
   ]
  },
  {
   "cell_type": "markdown",
   "id": "eed7067d",
   "metadata": {},
   "source": [
    "## **5️⃣ Shutting Down the Node**\n",
    "Once you’re done, always shut down the node properly to free system resources."
   ]
  },
  {
   "cell_type": "code",
   "execution_count": null,
   "id": "e258c4fa",
   "metadata": {},
   "outputs": [],
   "source": [
    "# Shutdown ROS2 node\n",
    "node.destroy_node()\n",
    "rclpy.shutdown()\n",
    "print('Node shutdown complete.')"
   ]
  }
 ],
 "metadata": {
  "language_info": {
   "name": "python"
  }
 },
 "nbformat": 4,
 "nbformat_minor": 5
}
