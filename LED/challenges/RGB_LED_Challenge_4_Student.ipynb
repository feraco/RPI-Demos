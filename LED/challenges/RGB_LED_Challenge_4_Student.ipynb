{
 "cells": [
  {
   "cell_type": "markdown",
   "metadata": {},
   "source": [
    "<small>\n",
    "Part of the InnovatED STEM and DroneBlocks Land, Air, and Sea Robotics Curriculum  \n",
    "Licensed for educational use in schools only.  \n",
    "Redistribution, commercial use, or resale is strictly prohibited.  \n",
    "\u00a9 2025 InnovatED STEM & DroneBlocks. All rights reserved.\n",
    "</small>"
   ]
  },
  {
   "cell_type": "code",
   "execution_count": null,
   "id": "53ff0ce3",
   "metadata": {},
   "outputs": [],
   "source": [
    "\n",
    "import rclpy\n",
    "from omni_robot_controller import OmniWheelControlNode  # Import control node\n",
    "\n",
    "# Initialize ROS2 node\n",
    "rclpy.init()\n",
    "node = OmniWheelControlNode()"
   ]
  },
  {
   "cell_type": "markdown",
   "id": "81c7c4e9",
   "metadata": {},
   "source": [
    "## **4\ufe0f\u20e3 Challenge: Night Rider (LED Scanning Effect)**\n",
    "**Goal:** Create a Knight Rider-style LED scanning effect that moves back and forth.\n",
    "\n",
    "\n",
    "\n",
    "**Your Challenge:**\n",
    "- Change the color from red to a gradient effect.\n",
    "- Adjust the timing for a smoother or faster transition.\n"
   ]
  },
  {
   "cell_type": "code",
   "execution_count": null,
   "id": "07d101b5",
   "metadata": {},
   "outputs": [],
   "source": [
    "# Implement your Knight Rider scanning effect here\n"
   ]
  },
  {
   "cell_type": "markdown",
   "id": "eed7067d",
   "metadata": {},
   "source": [
    "## **5\ufe0f\u20e3 Shutting Down the Node**\n",
    "Once you\u2019re done, always shut down the node properly to free system resources."
   ]
  },
  {
   "cell_type": "code",
   "execution_count": null,
   "id": "e258c4fa",
   "metadata": {},
   "outputs": [],
   "source": [
    "# Shutdown ROS2 node\n",
    "node.destroy_node()\n",
    "rclpy.shutdown()\n",
    "print('Node shutdown complete.')"
   ]
  },
  {
   "cell_type": "code",
   "execution_count": null,
   "id": "96faf37b",
   "metadata": {},
   "outputs": [],
   "source": [
    "# \u270f\ufe0f Write your solution here"
   ]
  }
 ],
 "metadata": {
  "language_info": {
   "name": "python"
  }
 },
 "nbformat": 4,
 "nbformat_minor": 5
}