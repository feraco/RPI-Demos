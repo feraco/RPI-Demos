{
 "cells": [
  {
   "cell_type": "markdown",
   "metadata": {},
   "source": [
    "<small>\n",
    "Part of the InnovatED STEM and DroneBlocks Land, Air, and Sea Robotics Curriculum  \n",
    "Licensed for educational use in schools only.  \n",
    "Redistribution, commercial use, or resale is strictly prohibited.  \n",
    "\u00a9 2025 InnovatED STEM & DroneBlocks. All rights reserved.\n",
    "</small>"
   ]
  },
  {
   "cell_type": "code",
   "execution_count": null,
   "id": "53ff0ce3",
   "metadata": {},
   "outputs": [],
   "source": [
    "\n",
    "import rclpy\n",
    "from omni_robot_controller import OmniWheelControlNode  # Import control node\n",
    "\n",
    "# Initialize ROS2 node\n",
    "rclpy.init()\n",
    "node = OmniWheelControlNode()"
   ]
  },
  {
   "cell_type": "code",
   "execution_count": null,
   "id": "2459c469",
   "metadata": {},
   "outputs": [],
   "source": [
    "# \u270f\ufe0f Write your solution here"
   ]
  }
 ],
 "metadata": {},
 "nbformat": 4,
 "nbformat_minor": 5
}