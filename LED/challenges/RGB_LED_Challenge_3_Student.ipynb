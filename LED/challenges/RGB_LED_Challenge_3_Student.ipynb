{
 "cells": [
  {
   "cell_type": "markdown",
   "id": "d95d630b",
   "metadata": {},
   "source": [
    "# **RGB LED Challenge: LED Light Show**\n",
    "---\n",
    "Create your own LED light show using patterns and colors.\n",
    "\n",
    "### 🛠️ Requirements:\n",
    "- At least 3 different colors\n",
    "- Blinking or transitions\n",
    "- Use `sleep()` between transitions\n"
   ]
  },
  {
   "cell_type": "code",
   "execution_count": null,
   "id": "d8c9a69d",
   "metadata": {},
   "outputs": [],
   "source": [
    "import rclpy\n",
    "from omni_robot_controller import OmniWheelControlNode\n",
    "from time import sleep\n",
    "\n",
    "rclpy.init()\n",
    "node = OmniWheelControlNode()\n",
    "\n",
    "# 🎆 Write your LED light show sequence here\n"
   ]
  },
  {
   "cell_type": "markdown",
   "id": "eee66c86",
   "metadata": {},
   "source": [
    "## ✅ Remember to shutdown the node at the end:"
   ]
  },
  {
   "cell_type": "code",
   "execution_count": null,
   "id": "688be56d",
   "metadata": {},
   "outputs": [],
   "source": [
    "node.destroy_node()\n",
    "rclpy.shutdown()"
   ]
  },
  {
   "cell_type": "code",
   "execution_count": null,
   "id": "2f81267f",
   "metadata": {},
   "outputs": [],
   "source": [
    "# ✏️ Write your solution here"
   ]
  }
 ],
 "metadata": {},
 "nbformat": 4,
 "nbformat_minor": 5
}
