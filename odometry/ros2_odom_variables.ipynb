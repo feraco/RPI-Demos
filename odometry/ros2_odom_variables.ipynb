{
 "cells": [
  {
   "cell_type": "markdown",
   "metadata": {},
   "source": [
    "# \ud83d\udce1 ROS 2 Odometry Variable Fetcher\n",
    "\n",
    "This notebook uses a helper function to subscribe to the `/odom` topic and fetch one value for each major odometry variable.\n",
    "\n",
    "**Ensure your ROS 2 system is running and publishing to `/odom` before executing the cells.**"
   ]
  },
  {
   "cell_type": "code",
   "execution_count": null,
   "metadata": {},
   "outputs": [],
   "source": [
    "# \u2705 Step 1: Import the helper function from script\n",
    "from get_odom_variable import get_odom_variable"
   ]
  },
  {
   "cell_type": "markdown",
   "metadata": {},
   "source": [
    "## \ud83d\ude80 Step 2: Fetch Odometry Values\n",
    "This will get a **single value** from the odometry message for each key variable."
   ]
  },
  {
   "cell_type": "code",
   "execution_count": null,
   "metadata": {},
   "outputs": [],
   "source": [
    "# Position (meters)\n",
    "pos_x = get_odom_variable('pose.pose.position.x')\n",
    "pos_y = get_odom_variable('pose.pose.position.y')\n",
    "pos_z = get_odom_variable('pose.pose.position.z')\n",
    "\n",
    "# Orientation (quaternion)\n",
    "orient_x = get_odom_variable('pose.pose.orientation.x')\n",
    "orient_y = get_odom_variable('pose.pose.orientation.y')\n",
    "orient_z = get_odom_variable('pose.pose.orientation.z')\n",
    "orient_w = get_odom_variable('pose.pose.orientation.w')\n",
    "\n",
    "# Linear velocity (m/s)\n",
    "lin_x = get_odom_variable('twist.twist.linear.x')\n",
    "lin_y = get_odom_variable('twist.twist.linear.y')\n",
    "lin_z = get_odom_variable('twist.twist.linear.z')\n",
    "\n",
    "# Angular velocity (rad/s)\n",
    "ang_x = get_odom_variable('twist.twist.angular.x')\n",
    "ang_y = get_odom_variable('twist.twist.angular.y')\n",
    "ang_z = get_odom_variable('twist.twist.angular.z')"
   ]
  },
  {
   "cell_type": "markdown",
   "metadata": {},
   "source": [
    "## \ud83d\udcca Step 3: Display the Results"
   ]
  },
  {
   "cell_type": "code",
   "execution_count": null,
   "metadata": {},
   "outputs": [],
   "source": [
    "print(f\"\\n\ud83d\udccd Position:\")\n",
    "print(f\"  x = {pos_x:.3f} m, y = {pos_y:.3f} m, z = {pos_z:.3f} m\")\n",
    "\n",
    "print(f\"\\n\ud83d\udd04 Orientation (quaternion):\")\n",
    "print(f\"  x = {orient_x:.3f}, y = {orient_y:.3f}, z = {orient_z:.3f}, w = {orient_w:.3f}\")\n",
    "\n",
    "print(f\"\\n\ud83d\ude97 Linear Velocity:\")\n",
    "print(f\"  x = {lin_x:.3f} m/s, y = {lin_y:.3f} m/s, z = {lin_z:.3f} m/s\")\n",
    "\n",
    "print(f\"\\n\ud83c\udf00 Angular Velocity:\")\n",
    "print(f\"  x = {ang_x:.3f} rad/s, y = {ang_y:.3f} rad/s, z = {ang_z:.3f} rad/s\")"
   ]
  }
 ],
 "metadata": {
  "kernelspec": {
   "display_name": "Python 3",
   "language": "python",
   "name": "python3"
  },
  "language_info": {
   "name": "python"
  }
 },
 "nbformat": 4,
 "nbformat_minor": 5
}