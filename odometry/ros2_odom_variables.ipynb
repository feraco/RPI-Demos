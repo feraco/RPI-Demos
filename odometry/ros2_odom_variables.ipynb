{
 "cells": [
  {
   "cell_type": "markdown",
   "id": "38c900c9",
   "metadata": {},
   "source": [
    "<small>\n",
    "Part of the InnovatED STEM and DroneBlocks Land, Air, and Sea Robotics Curriculum  \n",
    "Licensed for educational use in schools only.  \n",
    "Redistribution, commercial use, or resale is strictly prohibited.  \n",
    "© 2025 InnovatED STEM & DroneBlocks. All rights reserved.\n",
    "</small>"
   ]
  },
  {
   "cell_type": "markdown",
   "id": "adabf702",
   "metadata": {},
   "source": [
    "#  ROS 2 Odometry Variable Fetcher\n",
    "\n",
    "This notebook uses a helper function to subscribe to the `/odom` topic and fetch one value for each major odometry variable.\n",
    "\n",
    "**Ensure your ROS 2 system is running and publishing to `/odom` before executing the cells.**"
   ]
  },
  {
   "cell_type": "code",
   "execution_count": null,
   "id": "88a9b95d",
   "metadata": {},
   "outputs": [],
   "source": [
    "#  Step 1: Import the helper function from script\n",
    "from get_odom_variable import get_odom_variable"
   ]
  },
  {
   "cell_type": "markdown",
   "id": "963367c0",
   "metadata": {},
   "source": [
    "##  Step 2: Fetch Odometry Values\n",
    "This will get a **single value** from the odometry message for each key variable."
   ]
  },
  {
   "cell_type": "code",
   "execution_count": null,
   "id": "96284687",
   "metadata": {},
   "outputs": [],
   "source": [
    "# Position (meters)\n",
    "pos_x = get_odom_variable('pose.pose.position.x')\n",
    "pos_y = get_odom_variable('pose.pose.position.y')\n",
    "pos_z = get_odom_variable('pose.pose.position.z')\n",
    "\n",
    "# Orientation (quaternion)\n",
    "orient_x = get_odom_variable('pose.pose.orientation.x')\n",
    "orient_y = get_odom_variable('pose.pose.orientation.y')\n",
    "orient_z = get_odom_variable('pose.pose.orientation.z')\n",
    "orient_w = get_odom_variable('pose.pose.orientation.w')\n",
    "\n",
    "# Linear velocity (m/s)\n",
    "lin_x = get_odom_variable('twist.twist.linear.x')\n",
    "lin_y = get_odom_variable('twist.twist.linear.y')\n",
    "lin_z = get_odom_variable('twist.twist.linear.z')\n",
    "\n",
    "# Angular velocity (rad/s)\n",
    "ang_x = get_odom_variable('twist.twist.angular.x')\n",
    "ang_y = get_odom_variable('twist.twist.angular.y')\n",
    "ang_z = get_odom_variable('twist.twist.angular.z')"
   ]
  },
  {
   "cell_type": "markdown",
   "id": "7939e4cb",
   "metadata": {},
   "source": [
    "##  Step 3: Display the Results"
   ]
  },
  {
   "cell_type": "code",
   "execution_count": null,
   "id": "ecf139d0",
   "metadata": {},
   "outputs": [],
   "source": [
    "print(f\"\\n Position:\")\n",
    "print(f\"  x = {pos_x:.3f} m, y = {pos_y:.3f} m, z = {pos_z:.3f} m\")\n",
    "\n",
    "print(f\"\\n Orientation (quaternion):\")\n",
    "print(f\"  x = {orient_x:.3f}, y = {orient_y:.3f}, z = {orient_z:.3f}, w = {orient_w:.3f}\")\n",
    "\n",
    "print(f\"\\n Linear Velocity:\")\n",
    "print(f\"  x = {lin_x:.3f} m/s, y = {lin_y:.3f} m/s, z = {lin_z:.3f} m/s\")\n",
    "\n",
    "print(f\"\\n Angular Velocity:\")\n",
    "print(f\"  x = {ang_x:.3f} rad/s, y = {ang_y:.3f} rad/s, z = {ang_z:.3f} rad/s\")"
   ]
  },
  {
   "cell_type": "markdown",
   "id": "1ebc2734",
   "metadata": {},
   "source": [
    "##  Step 4: Collect Variables Over Time\n",
    "This cell collects `position.x` and `angular.z` over time and saves the data to a CSV file."
   ]
  },
  {
   "cell_type": "code",
   "execution_count": null,
   "id": "186cbef3",
   "metadata": {},
   "outputs": [],
   "source": [
    "import pandas as pd\n",
    "import time\n",
    "\n",
    "# Collect N samples at interval (seconds)\n",
    "N = 10  # number of samples\n",
    "interval = 1.0  # seconds between samples\n",
    "\n",
    "log_data = []\n",
    "\n",
    "for i in range(N):\n",
    "    pos_x = get_odom_variable('pose.pose.position.x')\n",
    "    ang_z = get_odom_variable('twist.twist.angular.z')\n",
    "    timestamp = time.time()\n",
    "    log_data.append({'time': timestamp, 'pos_x_m': pos_x, 'ang_z_rad_s': ang_z})\n",
    "    print(f\"[{i+1}/{N}] Logged: pos_x = {pos_x:.3f}, ang_z = {ang_z:.3f}\")\n",
    "    time.sleep(interval)\n",
    "\n",
    "df = pd.DataFrame(log_data)"
   ]
  },
  {
   "cell_type": "markdown",
   "id": "035f591d",
   "metadata": {},
   "source": [
    "##  Step 5: Save Data to CSV"
   ]
  },
  {
   "cell_type": "code",
   "execution_count": null,
   "id": "1cba1d0b",
   "metadata": {},
   "outputs": [],
   "source": [
    "df.to_csv(\"odom_log.csv\", index=False)\n",
    "print(\" Saved to odom_log.csv\")\n",
    "df.head()"
   ]
  }
 ],
 "metadata": {
  "kernelspec": {
   "display_name": "Python 3",
   "language": "python",
   "name": "python3"
  },
  "language_info": {
   "name": "python"
  }
 },
 "nbformat": 4,
 "nbformat_minor": 5
}
