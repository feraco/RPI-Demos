{
 "cells": [
  {
   "cell_type": "markdown",
   "metadata": {},
   "source": [
    "<small>\n",
    "Part of the InnovatED STEM and DroneBlocks Land, Air, and Sea Robotics Curriculum  \n",
    "Licensed for educational use in schools only.  \n",
    "Redistribution, commercial use, or resale is strictly prohibited.  \n",
    "\u00a9 2025 InnovatED STEM & DroneBlocks. All rights reserved.\n",
    "</small>"
   ]
  },
  {
   "cell_type": "markdown",
   "id": "880a2cd5",
   "metadata": {},
   "source": [
    "\n",
    "# \ud83e\udd16 ROS2 Omni-Wheel Robot: Odometry Logging During Motion\n",
    "\n",
    "This notebook demonstrates how to control an omni-wheel robot using ROS2 and collect real-time odometry data **while the robot is moving**.\n",
    "\n",
    "We will:\n",
    "1. Initialize ROS2 and the robot control node\n",
    "2. Start the robot moving forward for 5 seconds\n",
    "3. Log odometry data (position and angular velocity) during that movement\n",
    "4. Display the collected data in a pandas DataFrame\n"
   ]
  },
  {
   "cell_type": "code",
   "execution_count": null,
   "id": "9c5ed2d7",
   "metadata": {},
   "outputs": [],
   "source": [
    "\n",
    "import rclpy\n",
    "from omni_robot_controller import OmniWheelControlNode\n",
    "from get_odom_variable_final import get_odom_variable\n",
    "import time\n",
    "import pandas as pd\n",
    "import threading\n"
   ]
  },
  {
   "cell_type": "markdown",
   "id": "0954ba3f",
   "metadata": {},
   "source": [
    "\n",
    "## \ud83d\udd27 Step 1: Initialize ROS2 and the Robot Node\n",
    "\n",
    "We begin by initializing the ROS2 Python environment (`rclpy`) and creating an instance of our custom omni-wheel robot control node.\n"
   ]
  },
  {
   "cell_type": "code",
   "execution_count": null,
   "id": "19a14cb9",
   "metadata": {},
   "outputs": [],
   "source": [
    "\n",
    "rclpy.init()\n",
    "node = OmniWheelControlNode()\n"
   ]
  },
  {
   "cell_type": "markdown",
   "id": "f2cd3931",
   "metadata": {},
   "source": [
    "\n",
    "## \ud83d\ude80 Step 2: Start the Robot Moving in a Background Thread\n",
    "\n",
    "Since the robot's movement function (`move_forward`) is blocking (i.e. it pauses code execution while running), we use a background thread to run the movement so we can **log odometry data simultaneously** in the main thread.\n"
   ]
  },
  {
   "cell_type": "code",
   "execution_count": null,
   "id": "1607a526",
   "metadata": {},
   "outputs": [],
   "source": [
    "\n",
    "def move_bot():\n",
    "    node.move_forward(0.3, 5.0)  # Move forward at 0.3 RPS for 5 seconds\n",
    "\n",
    "# Start the movement in a separate thread\n",
    "threading.Thread(target=move_bot).start()\n"
   ]
  },
  {
   "cell_type": "markdown",
   "id": "21fc3e95",
   "metadata": {},
   "source": [
    "\n",
    "## \ud83d\udcc8 Step 3: Log Odometry Data While Moving\n",
    "\n",
    "We now collect odometry data every second for 5 seconds **while the robot is moving**. We extract:\n",
    "- `pose.pose.position.x`: the forward position of the robot\n",
    "- `twist.twist.angular.z`: the angular velocity (rotation) around the z-axis\n",
    "\n",
    "This shows how the robot's position and orientation change over time.\n"
   ]
  },
  {
   "cell_type": "code",
   "execution_count": null,
   "id": "1bf089a3",
   "metadata": {},
   "outputs": [],
   "source": [
    "\n",
    "log_data = []\n",
    "\n",
    "for i in range(5):  # Collect one sample per second for 5 seconds\n",
    "    pos_x = get_odom_variable('pose.pose.position.x')\n",
    "    ang_z = get_odom_variable('twist.twist.angular.z')\n",
    "    log_data.append({'time_s': i+1, 'pos_x_m': pos_x, 'ang_z_rad_s': ang_z})\n",
    "    print(f\"[{i+1}s] pos_x = {pos_x:.3f}, ang_z = {ang_z:.3f}\")\n",
    "    time.sleep(1.0)\n"
   ]
  },
  {
   "cell_type": "markdown",
   "id": "80454792",
   "metadata": {},
   "source": [
    "\n",
    "## \ud83d\udcca Step 4: Display the Collected Data\n",
    "\n",
    "Now we convert our odometry log into a pandas DataFrame for easier analysis and display.\n"
   ]
  },
  {
   "cell_type": "code",
   "execution_count": null,
   "id": "1dfd2834",
   "metadata": {},
   "outputs": [],
   "source": [
    "\n",
    "df = pd.DataFrame(log_data)\n",
    "df\n"
   ]
  },
  {
   "cell_type": "markdown",
   "id": "eccbf169",
   "metadata": {},
   "source": [
    "\n",
    "## \u2705 Step 5: Clean Shutdown\n",
    "\n",
    "Finally, we shut down the ROS2 node and environment cleanly.\n"
   ]
  },
  {
   "cell_type": "code",
   "execution_count": null,
   "id": "e078e0d0",
   "metadata": {},
   "outputs": [],
   "source": [
    "\n",
    "node.destroy_node()\n",
    "rclpy.shutdown()\n"
   ]
  },
  {
   "cell_type": "markdown",
   "id": "21a7aeb9",
   "metadata": {},
   "source": [
    "\n",
    "---\n",
    "\n",
    "## \ud83e\uddea Appendix: Alternate Method Using `time.time()` for Logging Control\n",
    "\n",
    "This section shows a slightly more flexible version of odometry logging where we use `time.time()` to manage how long the robot moves and logs, instead of a fixed loop with `range()`.\n",
    "\n",
    "This is useful when you want finer control over how long the bot runs or want to change sampling frequency easily.\n"
   ]
  },
  {
   "cell_type": "code",
   "execution_count": null,
   "id": "44e10156",
   "metadata": {},
   "outputs": [],
   "source": [
    "\n",
    "# Start movement in a thread as before\n",
    "threading.Thread(target=lambda: node.move_forward(0.3, 5.0)).start()\n",
    "\n",
    "# Log odometry for 5 seconds using timestamps\n",
    "start_time = time.time()\n",
    "log_data2 = []\n",
    "\n",
    "while time.time() - start_time < 5.0:\n",
    "    pos_x = get_odom_variable('pose.pose.position.x')\n",
    "    ang_z = get_odom_variable('twist.twist.angular.z')\n",
    "    seconds_elapsed = int(time.time() - start_time)\n",
    "    log_data2.append({'time_s': seconds_elapsed, 'pos_x_m': pos_x, 'ang_z_rad_s': ang_z})\n",
    "    print(f\"[{seconds_elapsed}s] pos_x = {pos_x:.3f}, ang_z = {ang_z:.3f}\")\n",
    "    time.sleep(1.0)\n"
   ]
  },
  {
   "cell_type": "markdown",
   "id": "d5fbf8a7",
   "metadata": {},
   "source": [
    "\n",
    "---\n",
    "\n",
    "## \ud83d\udd0d Appendix: Simple One-Time Odometry Variable Printing\n",
    "\n",
    "This section demonstrates how to use `get_odom_variable()` to retrieve and print specific odometry values manually \u2014 useful for quick debugging or spot checks without logging or looping.\n"
   ]
  },
  {
   "cell_type": "code",
   "execution_count": null,
   "id": "7aeb2f9e",
   "metadata": {},
   "outputs": [],
   "source": [
    "\n",
    "# Get and print individual odometry values\n",
    "x = get_odom_variable('pose.pose.position.x')\n",
    "y = get_odom_variable('pose.pose.position.y')\n",
    "z = get_odom_variable('pose.pose.position.z')\n",
    "yaw_rate = get_odom_variable('twist.twist.angular.z')\n",
    "\n",
    "print(f\"x = {x:.3f} m\")\n",
    "print(f\"y = {y:.3f} m\")\n",
    "print(f\"z = {z:.3f} m\")\n",
    "print(f\"angular z (yaw rate) = {yaw_rate:.3f} rad/s\")\n"
   ]
  }
 ],
 "metadata": {},
 "nbformat": 4,
 "nbformat_minor": 5
}