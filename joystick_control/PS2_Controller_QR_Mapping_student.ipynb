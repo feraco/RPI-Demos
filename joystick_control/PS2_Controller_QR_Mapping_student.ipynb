{
 "cells": [
  {
   "cell_type": "markdown",
   "id": "d6589ece",
   "metadata": {},
   "source": [
    "# QR Code Detection and Generation in Robotics\n",
    "This Jupyter Notebook will guide you through generating and detecting QR codes using Python and mapping them to robot actions."
   ]
  },
  {
   "cell_type": "markdown",
   "id": "eeb631c4",
   "metadata": {},
   "source": [
    "## Part 1: Understanding QR Codes\n",
    "**1. What is a QR Code?**\n",
    "\n",
    "_Write a brief explanation of what a QR code is and how it is used._\n",
    "\n",
    "**2. Why are QR Codes Useful in Robotics?**\n",
    "\n",
    "_List three ways QR codes can be used in robotics._"
   ]
  },
  {
   "cell_type": "markdown",
   "id": "db699cdb",
   "metadata": {},
   "source": [
    "## Part 2: Generating a QR Code\n",
    "**Step 1: Run the QR Code Generator Script**\n",
    "\n",
    "Use the following script to generate a QR code:"
   ]
  },
  {
   "cell_type": "code",
   "execution_count": null,
   "id": "1a21c37c",
   "metadata": {},
   "outputs": [],
   "source": [
    "# Import necessary libraries\n",
    "import time\n",
    "import random\n",
    "\n",
    "\n",
    "\n",
    "import rclpy\n",
    "from qr_code_tools import generate_qr_code\n",
    "from joystick_control import JoystickController  # Ensure this file exists and correctly interfaces with the controller\n",
    "from omni_robot_controller import OmniWheelControlNode  # Ensure this matches your module\n",
    "from image_capture import ImageCaptureNode  # Import image capture controller\n",
    "rclpy.init()\n",
    "node = OmniWheelControlNode()  # Initialize the robot control node\n",
    "image_node = ImageCaptureNode()\n",
    "joystick = JoystickController()  # Initialize joystick control\n"
   ]
  },
  {
   "cell_type": "markdown",
   "id": "5d438ff9",
   "metadata": {},
   "source": [
    "# Prompt user for text input\n"
   ]
  },
  {
   "cell_type": "code",
   "execution_count": null,
   "id": "e1ffa6be",
   "metadata": {},
   "outputs": [],
   "source": [
    "\n",
    "# Prompt user for text input\n",
    "text = input(\"Enter text for QR code: \")\n",
    "generate_qr_code(text, \"my_qr.png\")\n",
    "\n",
    "print(\"QR code generated and saved as my_qr.png. Open it to scan with your phone.\")"
   ]
  },
  {
   "cell_type": "markdown",
   "id": "6bc1ea88",
   "metadata": {},
   "source": [
    "**Step 2: View the Generated QR Code**\n",
    "\n",
    "Locate the generated **my_qr.png** file.\n",
    "Open it and scan the QR code with your phone.\n",
    "\n",
    "**Question:** What data does it show?"
   ]
  },
  {
   "cell_type": "markdown",
   "id": "e1b38c69",
   "metadata": {},
   "source": [
    "## Part 3: Detecting a QR Code\n",
    "**Step 1: Run the QR Code Detector**\n",
    "\n",
    "Use the following script to detect QR codes. Then turn the Mentorpi camera towards the qr code."
   ]
  },
  {
   "cell_type": "code",
   "execution_count": null,
   "id": "9b080564",
   "metadata": {},
   "outputs": [],
   "source": [
    "\n",
    "# Import the QR code detection module\n",
    "from qr_code_tools import generate_qr_code\n",
    "import rclpy\n",
    "\n",
    "# Initialize ROS2 node\n",
    "rclpy.init()\n",
    "detector = QRCodeDetector()\n",
    "\n",
    "# Run the QR code detection process\n",
    "rclpy.spin_once(detector)\n",
    "detected_qr = detector.get_detected_qr_code()\n",
    "\n",
    "print(\"Detected QR Code:\", detected_qr)\n"
   ]
  },
  {
   "cell_type": "markdown",
   "id": "3402e50a",
   "metadata": {},
   "source": [
    "**Step 2: Mapping QR Code Detection to a Joystick Button**\n",
    "\n",
    "Modify the joystick commands to add QR detection to the 'X' button."
   ]
  },
  {
   "cell_type": "code",
   "execution_count": null,
   "id": "55e231a7",
   "metadata": {},
   "outputs": [],
   "source": [
    "\n",
    "# Function to detect QR code when pressing \"X\"\n",
    "def detect_qr_code():\n",
    "    rclpy.spin_once(detector)\n",
    "    detected_qr = detector.get_detected_qr_code()\n",
    "    print(\"Detected QR Code:\", detected_qr)\n",
    "\n",
    "# Map joystick button \"X\" to QR code detection\n",
    "joystick.map_button(\"x\", detect_qr_code)\n",
    "\n",
    "print(\"Button mapping for QR detection set.\")\n"
   ]
  },
  {
   "cell_type": "markdown",
   "id": "5c9121a2",
   "metadata": {},
   "source": [
    "## Part 4: Applying QR Codes in a Robotics Scenario \n",
    "**Scenario:**\n",
    "\n",
    "## Challenge 1- Create a function Access Control Verification\n",
    "- A security robot scans a QR code at a restricted area.\n",
    "- **If access is granted(qr code detected):**  \n",
    "  - The **RGB LED turns green**.  \n",
    "  - The **buzzer beeps once**.  \n",
    "- **If access is denied:**  \n",
    "  - The **RGB LED turns red**.  \n",
    "  - The **buzzer emits three short beeps** as a warning.  \n"
   ]
  },
  {
   "cell_type": "code",
   "execution_count": null,
   "id": "105570a1",
   "metadata": {},
   "outputs": [],
   "source": [
    "\n",
    "# Function to execute robot movement based on detected QR code\n",
    "def qr_code_action():\n",
    "    rclpy.spin_once(detector)\n",
    "    detected_qr = detector.get_detected_qr_code()\n",
    "    \n",
    "   # now write your code logic here\n",
    "\n",
    "# Map joystick button \"X\" to QR code detection and movement\n",
    "joystick.map_button(\"x\", qr_code_action)\n"
   ]
  },
  {
   "cell_type": "markdown",
   "id": "8f3ee90e",
   "metadata": {},
   "source": [
    "\n",
    "\n",
    "## Challenge 2- Create a function Package Sorting Confirmation\n",
    "- A warehouse robot scans a QR code on a package.\n",
    "- **If the package is correctly identified:**  \n",
    "  - The **RGB LED blinks blue**.  \n",
    "  - The **buzzer beeps twice**.  \n",
    "- **If an incorrect package is detected:**  \n",
    "  - The **RGB LED flashes red**.  \n",
    "  - The **buzzer emits a long error beep**."
   ]
  },
  {
   "cell_type": "code",
   "execution_count": null,
   "id": "47b292c1",
   "metadata": {},
   "outputs": [],
   "source": [
    "def qr_code_challenge2():\n",
    "    rclpy.spin_once(detector)\n",
    "    detected_qr = detector.get_detected_qr_code()\n",
    "    # now write your code logic here\n",
    "joystick.map_button(\"y\", qr_code_action)\n"
   ]
  },
  {
   "cell_type": "markdown",
   "id": "b72da214",
   "metadata": {},
   "source": [
    "## Challenge 3- Create a function- Medical Robot Alert\n",
    "- A hospital robot scans a QR code for patient room verification.\n",
    "- **If the code matches the assigned room:**  \n",
    "  - The **RGB LED turns green**.  \n",
    "  - The **buzzer emits a soft chime**.  \n",
    "- **If the code is incorrect:**  \n",
    "  - The **RGB LED turns red**.  \n",
    "  - The **buzzer beeps loudly** to alert staff. "
   ]
  },
  {
   "cell_type": "code",
   "execution_count": null,
   "id": "299c04df",
   "metadata": {},
   "outputs": [],
   "source": [
    "def qr_code_challenge3():\n",
    "    rclpy.spin_once(detector)\n",
    "    detected_qr = detector.get_detected_qr_code()\n",
    "    # now write your code logic here\n",
    "joystick.map_button(\"square\", qr_code_action)\n"
   ]
  },
  {
   "cell_type": "code",
   "execution_count": null,
   "id": "fcbc0f5c",
   "metadata": {},
   "outputs": [],
   "source": [
    "\n",
    "print(\"Button mappings set.\")\n",
    "\n",
    "print(\"Listening for button presses... Press Ctrl+C to stop.\")\n",
    "try:\n",
    "    joystick.listen()  # This function should listen for button presses and execute mapped functions\n",
    "except KeyboardInterrupt:\n",
    "    print(\"Joystick listening stopped.\")\n"
   ]
  },
  {
   "cell_type": "markdown",
   "id": "f95300f1",
   "metadata": {},
   "source": [
    "## Part 5: Reflection\n",
    "**What challenges did you face while implementing QR code detection and generation?**\n",
    "\n",
    "**How can QR codes enhance robotics in real-world applications?**\n",
    "\n",
    "**If you could improve this system, what features would you add?**"
   ]
  },
  {
   "cell_type": "markdown",
   "id": "3d9b0d5f",
   "metadata": {},
   "source": []
  }
 ],
 "metadata": {
  "language_info": {
   "name": "python"
  }
 },
 "nbformat": 4,
 "nbformat_minor": 5
}
