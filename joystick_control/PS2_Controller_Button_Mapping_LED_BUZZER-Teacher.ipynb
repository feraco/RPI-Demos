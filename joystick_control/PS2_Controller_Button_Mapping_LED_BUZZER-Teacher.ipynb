{
 "cells": [
  {
   "cell_type": "markdown",
   "id": "0e5a6a4f",
   "metadata": {},
   "source": [
    "# Mapping PS2 Controller Buttons to LED and Buzzer Functions\n",
    "This Jupyter Notebook guides you through mapping PS2 controller buttons to control LED and buzzer functions on a Raspberry Pi."
   ]
  },
  {
   "cell_type": "markdown",
   "id": "88ecfc8c",
   "metadata": {},
   "source": [
    "## Step 1: Setting Up the Environment\n",
    "Ensure you have connected your PS2 controller and the necessary libraries installed.\n",
    "\n",
    "Run the following command in the terminal to start Jupyter Notebook:\n",
    "\n",
    "```bash\n",
    "cd RPI-Demos\n",
    "code\n",
    "```\n",
    "\n",
    "Now, proceed with the notebook to test the mappings."
   ]
  },
  {
   "cell_type": "markdown",
   "id": "eba16638",
   "metadata": {},
   "source": [
    "## Step 2: Import Required Libraries\n",
    "First, import the necessary modules for joystick control, LEDs, and buzzer functions."
   ]
  },
  {
   "cell_type": "code",
   "execution_count": null,
   "id": "8967a2f0",
   "metadata": {},
   "outputs": [],
   "source": [
    "\n",
    "# Import necessary libraries\n",
    "import time\n",
    "import random\n",
    "from controllers.joystick_control import JoystickController  # Ensure this file exists and correctly interfaces with the controller\n",
    "import rclpy\n",
    "from controllers.omni_robot_controller import OmniWheelControlNode  # Ensure this matches your modufrom joystick_control import JoystickController  # Import joystick controller\n",
    "from controllers.image_capture import ImageCaptureNode\n",
    "\n",
    "# Initialize joystick, LED, and buzzer controllers\n",
    "rclpy.init()\n",
    "node = OmniWheelControlNode()  # Initialize the robot control node\n",
    "image_node = ImageCaptureNode()\n",
    "joystick = JoystickController()  # Initialize joystick control\n",
    "\n",
    "print(\"Joystick, LED, and Buzzer initialized.\")\n"
   ]
  },
  {
   "cell_type": "markdown",
   "id": "7689c7ed",
   "metadata": {},
   "source": [
    "## Step 3: Define LED and Buzzer Functions\n",
    "These functions will be mapped to the PS2 controller buttons."
   ]
  },
  {
   "cell_type": "code",
   "execution_count": null,
   "id": "eb875220",
   "metadata": {},
   "outputs": [],
   "source": [
    "\n",
    "# Function to turn LED red\n",
    "def turn_on_led():\n",
    "    node.set_color(1, 255, 0, 0)  # LED 1 Red\n",
    "    print(\"LED set to Red\")\n",
    "\n",
    "# Function to turn off LED\n",
    "def turn_off_led():\n",
    "    node.set_color(1, 0, 0, 0)  # Off\n",
    "    print(\"LED turned off\")\n",
    "\n",
    "# Function to activate the buzzer\n",
    "def activate_buzzer():\n",
    "    node.play_buzzer(1000, 2.0, 1.0, 1)  # 1000Hz for 2 seconds\n",
    "    print(\"Buzzer activated\")\n",
    "\n",
    "# Function to change buzzer tone\n",
    "def change_buzzer_tone():\n",
    "    node.play_buzzer(800, 1.5, 1.0, 1)  # 800Hz for 1.5 seconds\n",
    "    print(\"Buzzer tone changed\")\n",
    "\n",
    "# Function to change LED to a random color\n",
    "def random_led_color():\n",
    "    r, g, b = random.randint(0, 255), random.randint(0, 255), random.randint(0, 255)\n",
    "    node.set_color(1, r, g, b)\n",
    "    print(f\"LED set to random color: {r}, {g}, {b}\")\n"
   ]
  },
  {
   "cell_type": "markdown",
   "id": "4bd79a63",
   "metadata": {},
   "source": [
    "## Step 4: Map Buttons to Functions\n",
    "Use the `map_button` method to associate buttons with specific functions."
   ]
  },
  {
   "cell_type": "code",
   "execution_count": null,
   "id": "e7f610d3",
   "metadata": {},
   "outputs": [],
   "source": [
    "\n",
    "# Map controller buttons to functions\n",
    "joystick.map_button(\"cross\", turn_on_led)\n",
    "joystick.map_button(\"triangle\", turn_off_led)\n",
    "joystick.map_button(\"square\", activate_buzzer)\n",
    "joystick.map_button(\"circle\", change_buzzer_tone)\n",
    "joystick.map_button(\"r3\", random_led_color)\n",
    "\n",
    "print(\"Button mappings set.\")\n"
   ]
  },
  {
   "cell_type": "markdown",
   "id": "1aab1a67",
   "metadata": {},
   "source": [
    "## Step 5: Run the Joystick Event Loop\n",
    "Start listening for button presses and trigger the corresponding functions."
   ]
  },
  {
   "cell_type": "code",
   "execution_count": null,
   "id": "82fad596",
   "metadata": {},
   "outputs": [],
   "source": [
    "\n",
    "print(\"Listening for button presses... Press Ctrl+C to stop.\")\n",
    "try:\n",
    "    joystick.listen()  # This function should listen for button presses and execute mapped functions\n",
    "except KeyboardInterrupt:\n",
    "    print(\"Joystick listening stopped.\")\n"
   ]
  },
  {
   "cell_type": "markdown",
   "id": "746d5b25",
   "metadata": {},
   "source": [
    "## Step 6: Testing and Debugging\n",
    "Press the following buttons to test the mappings:\n",
    "\n",
    "- **Cross** → LED turns red.\n",
    "- **Triangle** → LED turns off.\n",
    "- **Square** → Buzzer activates.\n",
    "- **Circle** → Buzzer changes tone.\n",
    "- **R3** → LED changes to a random color.\n",
    "\n",
    "**If anything doesn't work, check for errors and restart the script.**"
   ]
  }
 ],
 "metadata": {
  "language_info": {
   "name": "python"
  }
 },
 "nbformat": 4,
 "nbformat_minor": 5
}
