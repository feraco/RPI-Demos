{
 "cells": [
  {
   "cell_type": "markdown",
   "id": "0ee92189",
   "metadata": {},
   "source": [
    "<small>\n",
    "Part of the InnovatED STEM and DroneBlocks Land, Air, and Sea Robotics Curriculum  \n",
    "Licensed for educational use in schools only.  \n",
    "Redistribution, commercial use, or resale is strictly prohibited.  \n",
    "© 2025 InnovatED STEM & DroneBlocks. All rights reserved.\n",
    "</small>"
   ]
  },
  {
   "cell_type": "markdown",
   "id": "8ddebd30",
   "metadata": {},
   "source": [
    "\n",
    "# **PS2 Controller Camera Mapping**\n",
    "\n",
    "## **Overview**\n",
    "This notebook demonstrates how to use a PS2 controller to:\n",
    "- Capture images using the `capture_photo()` function.\n",
    "- Control an RGB LED using `set_color()`.\n",
    "- Play buzzer sounds using `play_buzzer()`.\n",
    "- Map controller buttons to trigger these functions.\n",
    "\n",
    "By the end, you will implement additional features through exercises.\n"
   ]
  },
  {
   "cell_type": "markdown",
   "id": "b216d985",
   "metadata": {},
   "source": [
    "\n",
    "## **Step 1: Importing Necessary Libraries**\n",
    "We need to import the required libraries for controlling the joystick, robot, and image capture system.\n"
   ]
  },
  {
   "cell_type": "code",
   "execution_count": null,
   "id": "9af31feb",
   "metadata": {},
   "outputs": [],
   "source": [
    "\n",
    "# Import necessary libraries\n",
    "import time\n",
    "import random\n",
    "\n",
    "\n",
    "import rclpy\n",
    "from joystick_control import JoystickController  # Ensure this file exists and correctly interfaces with the controller\n",
    "from omni_robot_controller import OmniWheelControlNode  # Ensure this matches your module\n",
    "from image_capture import ImageCaptureNode  # Import image capture controller\n"
   ]
  },
  {
   "cell_type": "markdown",
   "id": "b7bf944e",
   "metadata": {},
   "source": [
    "\n",
    "## **Step 2: Initializing the Controller and Nodes**\n",
    "We initialize the **joystick, LED, and camera controller** so they can be used for different tasks.\n"
   ]
  },
  {
   "cell_type": "code",
   "execution_count": null,
   "id": "acece657",
   "metadata": {},
   "outputs": [],
   "source": [
    "\n",
    "# Initialize joystick, LED, and camera controller\n",
    "rclpy.init()\n",
    "node = OmniWheelControlNode()  # Initialize the robot control node\n",
    "image_node = ImageCaptureNode()\n",
    "joystick = JoystickController()  # Initialize joystick control\n",
    "\n",
    "print(\"Joystick and Camera Controller initialized.\")\n"
   ]
  },
  {
   "cell_type": "markdown",
   "id": "2acec241",
   "metadata": {},
   "source": [
    "\n",
    "## **Step 3: Controlling an RGB LED**\n",
    "We can control an LED using `set_color(led_id, r, g, b)`, where:\n",
    "- `led_id = 1` (Refers to the first LED)\n",
    "- `r, g, b` are values between 0 and 255 (for Red, Green, and Blue).\n",
    "\n",
    "### **Example:**\n",
    "The code below sets the LED to **Red**, then **Green**, and then turns it off.\n"
   ]
  },
  {
   "cell_type": "code",
   "execution_count": null,
   "id": "19768737",
   "metadata": {},
   "outputs": [],
   "source": [
    "\n",
    "# Set the LED to different colors\n",
    "print(\"Setting LED to red...\")\n",
    "node.set_color(1, 255, 0, 0)  # Red\n",
    "time.sleep(2)\n",
    "\n",
    "print(\"Setting LED to green...\")\n",
    "node.set_color(1, 0, 255, 0)  # Green\n",
    "time.sleep(2)\n",
    "\n",
    "print(\"Turning off LED...\")\n",
    "node.set_color(1, 0, 0, 0)  # Turn off LED\n"
   ]
  },
  {
   "cell_type": "markdown",
   "id": "9dd2c093",
   "metadata": {},
   "source": [
    "\n",
    "## **Step 4: Activating a Buzzer**\n",
    "We can activate a buzzer using `play_buzzer(frequency, duration, amplitude, buzzer_id)`, where:\n",
    "- `frequency` is in Hz (e.g., 1000 for 1 kHz).\n",
    "- `duration` is in seconds.\n",
    "- `amplitude` controls volume (0.0 to 1.0).\n",
    "- `buzzer_id = 1` (Refers to the first buzzer).\n",
    "\n",
    "### **Example:**\n",
    "The code below plays a **1000 Hz sound for 1 second** and an **800 Hz sound for 1.5 seconds**.\n"
   ]
  },
  {
   "cell_type": "code",
   "execution_count": null,
   "id": "9915b154",
   "metadata": {},
   "outputs": [],
   "source": [
    "\n",
    "# Play a buzzer sound with different tones\n",
    "print(\"Playing buzzer at 1000Hz for 1 second...\")\n",
    "node.play_buzzer(1000, 1.0, 1.0, 1)  # 1000Hz for 1 second\n",
    "\n",
    "print(\"Playing buzzer at 800Hz for 1.5 seconds...\")\n",
    "node.play_buzzer(800, 1.5, 1.0, 1)  # 800Hz for 1.5 seconds\n"
   ]
  },
  {
   "cell_type": "markdown",
   "id": "750c10af",
   "metadata": {},
   "source": [
    "\n",
    "## **Step 5: Capturing Photos**\n",
    "We capture an image using `capture_photo()`.  \n",
    "To save an image with a timestamp, we update `image_node.save_path` before calling the function.\n",
    "\n",
    "### **Example:**\n",
    "The code below captures a photo and saves it with a timestamp.\n"
   ]
  },
  {
   "cell_type": "code",
   "execution_count": null,
   "id": "eda42fb9",
   "metadata": {},
   "outputs": [],
   "source": [
    "\n",
    "# Function to capture a photo\n",
    "def capture_photo():\n",
    "    image_node.capture_photo()\n",
    "    print(\"Photo captured\")\n",
    "\n",
    "# Function to capture a photo with a timestamp and store it in a specific directory\n",
    "def capture_photo_with_timestamp():\n",
    "    timestamp = time.strftime(\"%Y%m%d-%H%M%S\")\n",
    "    file_path = f\"/home/pi/captured_images/image_{timestamp}.jpg\"\n",
    "    image_node.save_path = file_path  # Update save path dynamically\n",
    "    image_node.capture_photo()\n",
    "    print(f\"Photo saved as {file_path}\")\n"
   ]
  },
  {
   "cell_type": "markdown",
   "id": "ab9ba3a3",
   "metadata": {},
   "source": [
    "\n",
    "## **Step 6: Combining Functions**\n",
    "Now, we can create functions that perform multiple actions, such as **turning on the LED when a photo is captured** or **playing a buzzer sound after taking a picture**.\n",
    "\n",
    "### **Example:**\n",
    "The following functions will:\n",
    "1. Capture a photo and turn the LED green.\n",
    "2. Capture a photo and activate the buzzer.\n"
   ]
  },
  {
   "cell_type": "code",
   "execution_count": null,
   "id": "4cef944b",
   "metadata": {},
   "outputs": [],
   "source": [
    "\n",
    "# Function to capture a photo and turn on an RGB LED\n",
    "def capture_photo_and_led():\n",
    " \n",
    "# Function to capture a photo and activate the buzzer\n",
    "def capture_photo_and_buzzer():\n",
    "   "
   ]
  },
  {
   "cell_type": "markdown",
   "id": "7cc383b1",
   "metadata": {},
   "source": [
    "\n",
    "## **Step 7: Mapping Controller Buttons**\n",
    "We can map controller buttons to call specific functions.  \n",
    "The following mappings allow us to trigger functions using button presses.\n",
    "\n",
    "### **Button Mappings:**\n",
    "- `r3` → Capture a Photo\n",
    "- `triangle` → Capture a Photo when an Obstacle is Detected\n",
    "- `circle` → Capture a Photo and Turn on an LED\n",
    "- `square` → Capture a Photo and Activate the Buzzer\n"
   ]
  },
  {
   "cell_type": "code",
   "execution_count": null,
   "id": "d09d858b",
   "metadata": {},
   "outputs": [],
   "source": [
    "\n",
    "# Map controller buttons to camera functions\n",
    "joystick.map_button(\"r3\", capture_photo)\n",
    "joystick.map_button(\"circle\", capture_photo_and_led)  # Assign LED activation\n",
    "joystick.map_button(\"square\", capture_photo_and_buzzer)  # Assign buzzer activation\n",
    "\n",
    "print(\"Button mappings set.\")\n",
    "\n",
    "print(\"Listening for button presses... Press Ctrl+C to stop.\")\n",
    "try:\n",
    "    joystick.listen()  # This function should listen for button presses and execute mapped functions\n",
    "except KeyboardInterrupt:\n",
    "    print(\"Joystick listening stopped.\")\n"
   ]
  },
  {
   "cell_type": "markdown",
   "id": "93022c44",
   "metadata": {},
   "source": [
    "\n",
    "## **Step 8: Coding Exercises**\n",
    "\n",
    "Try modifying the following functions based on these exercises:\n",
    "\n",
    "\n",
    "\n",
    "1. **Capture a Series of Photos & Blink the LED**  \n",
    "   - Write a function that takes 5 images at 2-second intervals and blinks the LED after each capture.\n",
    "\n",
    "2. **Create a Flashing LED Effect**  \n",
    "   - Modify the LED function to blink 3 times after capturing a photo.\n",
    "\n",
    "3. **Play a Melody on the Buzzer**  \n",
    "   - Write a function that plays a sequence of buzzer tones (e.g., 500Hz, 700Hz, 1000Hz) when a photo is captured.\n",
    "\n",
    "\n",
    "### **Challenge:**\n",
    "Test your modifications by using the controller to trigger different events. \n"
   ]
  },
  {
   "cell_type": "code",
   "execution_count": null,
   "id": "808faabd",
   "metadata": {},
   "outputs": [],
   "source": [
    "#Challenge 1    - Write a function that takes 5 images at 2-second intervals and blinks the LED after each capture.\n",
    "def photo_series_with_led_blink():\n",
    "    \"\"\"Takes 5 photos with a 2-second pause and blinks the LED after each.\"\"\"\n",
    "    for i in range(5):\n",
    "        capture_photo()\n",
    "        led.blink(1, 0, 255, 0, times=1, delay=0.3)  # Blink green once\n",
    "        time.sleep(2)  # Wait before next photo\n",
    "    print(\"5 photos taken with LED blink after each.\")"
   ]
  },
  {
   "cell_type": "code",
   "execution_count": null,
   "id": "7b89973d",
   "metadata": {},
   "outputs": [],
   "source": [
    "# Challenge 2    - Modify the LED function to blink 3 times after capturing a photo.\n",
    "def capture_and_blink_led_three_times():\n",
    "    \"\"\"Captures a photo, then blinks the LED 3 times.\"\"\"\n",
    "    capture_photo()\n",
    "    led.blink(1, 0, 0, 255, times=3, delay=0.2)  # Blink blue 3 times\n",
    "    print(\"Photo captured and LED blinked 3 times.\")"
   ]
  },
  {
   "cell_type": "code",
   "execution_count": null,
   "id": "80f6a262",
   "metadata": {},
   "outputs": [],
   "source": [
    "# Challenge 3       - Write a function that plays a sequence of buzzer tones (e.g., 500Hz, 700Hz, 1000Hz) when a photo is captured.\n",
    "def capture_photo_and_play_melody():\n",
    "    \"\"\"Captures a photo and plays a buzzer melody.\"\"\"\n",
    "    capture_photo()\n",
    "    melody = [(500, 0.3), (700, 0.3), (1000, 0.4)]\n",
    "\n",
    "    for freq, dur in melody:\n",
    "        play_buzzer(freq, dur, 0.8, 1)\n",
    "        time.sleep(0.1)\n"
   ]
  }
 ],
 "metadata": {
  "language_info": {
   "name": "python"
  }
 },
 "nbformat": 4,
 "nbformat_minor": 5
}
