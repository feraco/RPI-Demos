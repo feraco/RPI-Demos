{
 "cells": [
  {
   "cell_type": "markdown",
   "metadata": {},
   "source": [
    "<small>\n",
    "Part of the InnovatED STEM and DroneBlocks Land, Air, and Sea Robotics Curriculum  \n",
    "Licensed for educational use in schools only.  \n",
    "Redistribution, commercial use, or resale is strictly prohibited.  \n",
    "\u00a9 2025 InnovatED STEM & DroneBlocks. All rights reserved.\n",
    "</small>"
   ]
  },
  {
   "cell_type": "markdown",
   "id": "0e5a6a4f",
   "metadata": {},
   "source": [
    "# Mapping PS2 Controller Buttons to LED and Buzzer Functions\n",
    "This Jupyter Notebook guides you through mapping PS2 controller buttons to control LED and buzzer functions on a Raspberry Pi."
   ]
  },
  {
   "cell_type": "markdown",
   "id": "88ecfc8c",
   "metadata": {},
   "source": [
    "## Step 1: Setting Up the Environment\n",
    "Ensure you have connected your PS2 controller and the necessary libraries installed.\n",
    "\n",
    "Run the following command in the terminal to start Jupyter Notebook:\n",
    "\n",
    "```bash\n",
    "cd RPI-Demos\n",
    "code\n",
    "```\n",
    "\n",
    "Now, proceed with the notebook to test the mappings."
   ]
  },
  {
   "cell_type": "markdown",
   "id": "eba16638",
   "metadata": {},
   "source": [
    "## Step 2: Import Required Libraries\n",
    "First, import the necessary modules for joystick control, LEDs, and buzzer functions."
   ]
  },
  {
   "cell_type": "code",
   "execution_count": null,
   "id": "8967a2f0",
   "metadata": {},
   "outputs": [],
   "source": [
    "\n",
    "import time\n",
    "import random\n",
    "\n",
    "\n",
    "\n",
    "import rclpy\n",
    "from qr_code_tools import generate_qr_code\n",
    "from joystick_control import JoystickController  # Ensure this file exists and correctly interfaces with the controller\n",
    "from omni_robot_controller import OmniWheelControlNode  # Ensure this matches your module\n",
    "from image_capture import ImageCaptureNode  # Import image capture controller\n",
    "rclpy.init()\n",
    "# Initialize joystick, LED, and buzzer controllers\n",
    "node = OmniWheelControlNode()  # Initialize the robot control node\n",
    "image_node = ImageCaptureNode()\n",
    "joystick = JoystickController()  # Initialize joystick control\n",
    "\n",
    "print(\"Joystick, LED, and Buzzer initialized.\")\n"
   ]
  },
  {
   "cell_type": "markdown",
   "id": "7689c7ed",
   "metadata": {},
   "source": [
    "## Step 3: Define LED and Buzzer Functions\n",
    "These functions will be mapped to the PS2 controller buttons."
   ]
  },
  {
   "cell_type": "code",
   "execution_count": null,
   "id": "eb875220",
   "metadata": {},
   "outputs": [],
   "source": [
    "\n",
    "# Function to turn LED red\n",
    "def turn_on_led():\n",
    "    print(\"LED set to Red\")\n",
    "\n",
    "# Function to turn off LED\n",
    "def turn_off_led():\n",
    "    print(\"LED turned off\")\n",
    "\n",
    "# Function to activate the buzzer\n",
    "def activate_buzzer():\n",
    "    print(\"Buzzer activated\")\n",
    "\n",
    "# Function to change buzzer tone\n",
    "def change_buzzer_tone():\n",
    "    print(\"Buzzer tone changed\")\n",
    "\n",
    "\n"
   ]
  },
  {
   "cell_type": "markdown",
   "id": "4bd79a63",
   "metadata": {},
   "source": [
    "## Step 4: Map Buttons to Functions\n",
    "Use the `map_button` method to associate buttons with specific functions."
   ]
  },
  {
   "cell_type": "code",
   "execution_count": null,
   "id": "e7f610d3",
   "metadata": {},
   "outputs": [],
   "source": [
    "\n",
    "# Map controller buttons to functions\n",
    "joystick.map_button(\"cross\", turn_on_led)\n",
    "joystick.map_button(\"triangle\", turn_off_led)\n",
    "joystick.map_button(\"square\", activate_buzzer)\n",
    "joystick.map_button(\"circle\", change_buzzer_tone)\n",
    "joystick.map_button(\"r3\", random_led_color)\n",
    "\n",
    "print(\"Button mappings set.\")\n"
   ]
  },
  {
   "cell_type": "markdown",
   "id": "1aab1a67",
   "metadata": {},
   "source": [
    "## Step 5: Run the Joystick Event Loop\n",
    "Start listening for button presses and trigger the corresponding functions."
   ]
  },
  {
   "cell_type": "code",
   "execution_count": null,
   "id": "82fad596",
   "metadata": {},
   "outputs": [],
   "source": [
    "\n",
    "print(\"Listening for button presses... Press Ctrl+C to stop.\")\n",
    "try:\n",
    "    joystick.listen()  # This function should listen for button presses and execute mapped functions\n",
    "except KeyboardInterrupt:\n",
    "    print(\"Joystick listening stopped.\")\n"
   ]
  },
  {
   "cell_type": "markdown",
   "id": "746d5b25",
   "metadata": {},
   "source": [
    "## Step 6: Testing and Debugging\n",
    "Press the following buttons to test the mappings:\n",
    "\n",
    "- **Cross** \u2192 LED turns red.\n",
    "- **Triangle** \u2192 LED turns off.\n",
    "- **Square** \u2192 Buzzer activates.\n",
    "- **Circle** \u2192 Buzzer changes tone.\n",
    "- **R3** \u2192 LED changes to a random color.\n",
    "\n",
    "**If anything doesn't work, check for errors and restart the script.**"
   ]
  }
 ],
 "metadata": {
  "language_info": {
   "name": "python"
  }
 },
 "nbformat": 4,
 "nbformat_minor": 5
}