{
 "cells": [
  {
   "cell_type": "markdown",
   "id": "d6589ece",
   "metadata": {},
   "source": [
    "# QR Code Detection and Generation in Robotics\n",
    "This Jupyter Notebook will guide you through generating and detecting QR codes using Python and mapping them to robot actions."
   ]
  },
  {
   "cell_type": "markdown",
   "id": "eeb631c4",
   "metadata": {},
   "source": [
    "## Part 1: Understanding QR Codes\n",
    "**1. What is a QR Code?**\n",
    "\n",
    "_Write a brief explanation of what a QR code is and how it is used._\n",
    "\n",
    "**2. Why are QR Codes Useful in Robotics?**\n",
    "\n",
    "_List three ways QR codes can be used in robotics._"
   ]
  },
  {
   "cell_type": "markdown",
   "id": "db699cdb",
   "metadata": {},
   "source": [
    "## Part 2: Generating a QR Code\n",
    "**Step 1: Run the QR Code Generator Script**\n",
    "\n",
    "Use the following script to generate a QR code:"
   ]
  },
  {
   "cell_type": "code",
   "execution_count": null,
   "id": "1a21c37c",
   "metadata": {},
   "outputs": [],
   "source": [
    "\n",
    "# Import the QR code generation module\n",
    "from qr_code_tools import generate_qr_code\n",
    "\n",
    "# Prompt user for text input\n",
    "text = input(\"Enter text for QR code: \")\n",
    "generate_qr_code(text, \"my_qr.png\")\n",
    "\n",
    "print(\"QR code generated and saved as my_qr.png. Open it to scan with your phone.\")\n"
   ]
  },
  {
   "cell_type": "markdown",
   "id": "6bc1ea88",
   "metadata": {},
   "source": [
    "**Step 2: View the Generated QR Code**\n",
    "\n",
    "Locate the generated **my_qr.png** file.\n",
    "Open it and scan the QR code with your phone.\n",
    "\n",
    "**Question:** What data does it show?"
   ]
  },
  {
   "cell_type": "markdown",
   "id": "e1b38c69",
   "metadata": {},
   "source": [
    "## Part 3: Detecting a QR Code\n",
    "**Step 1: Run the QR Code Detector**\n",
    "\n",
    "Use the following script to detect QR codes."
   ]
  },
  {
   "cell_type": "code",
   "execution_count": null,
   "id": "9b080564",
   "metadata": {},
   "outputs": [],
   "source": [
    "\n",
    "# Import the QR code detection module\n",
    "from qr_code_tools import QRCodeDetector\n",
    "import rclpy\n",
    "\n",
    "# Initialize ROS2 node\n",
    "rclpy.init()\n",
    "detector = QRCodeDetector()\n",
    "\n",
    "# Run the QR code detection process\n",
    "rclpy.spin_once(detector)\n",
    "detected_qr = detector.get_detected_qr_code()\n",
    "\n",
    "print(\"Detected QR Code:\", detected_qr)\n"
   ]
  },
  {
   "cell_type": "markdown",
   "id": "3402e50a",
   "metadata": {},
   "source": [
    "**Step 2: Mapping QR Code Detection to a Joystick Button**\n",
    "\n",
    "Modify the joystick commands to add QR detection to the 'X' button."
   ]
  },
  {
   "cell_type": "code",
   "execution_count": null,
   "id": "55e231a7",
   "metadata": {},
   "outputs": [],
   "source": [
    "\n",
    "# Function to detect QR code when pressing \"X\"\n",
    "def detect_qr_code():\n",
    "    rclpy.spin_once(detector)\n",
    "    detected_qr = detector.get_detected_qr_code()\n",
    "    print(\"Detected QR Code:\", detected_qr)\n",
    "\n",
    "# Map joystick button \"X\" to QR code detection\n",
    "joystick.map_button(\"x\", detect_qr_code)\n",
    "\n",
    "print(\"Button mapping for QR detection set.\")\n"
   ]
  },
  {
   "cell_type": "markdown",
   "id": "5c9121a2",
   "metadata": {},
   "source": [
    "## Part 4: Applying QR Codes in a Robotics Scenario\n",
    "**Scenario:**\n",
    "\n",
    "_Your robot needs to navigate a warehouse. Each section has a QR code that tells the robot where to go next._\n",
    "\n",
    "**Modify the QR detection function to trigger movement:**"
   ]
  },
  {
   "cell_type": "code",
   "execution_count": null,
   "id": "105570a1",
   "metadata": {},
   "outputs": [],
   "source": [
    "\n",
    "# Function to execute robot movement based on detected QR code\n",
    "def qr_code_action():\n",
    "    rclpy.spin_once(detector)\n",
    "    detected_qr = detector.get_detected_qr_code()\n",
    "    \n",
    "    if detected_qr == \"move_forward\":\n",
    "        movement.move_forward(0.5, 2.0)\n",
    "        print(\"Moving forward\")\n",
    "    elif detected_qr == \"rotate_left\":\n",
    "        movement.rotate_left(0.5, 1.5)\n",
    "        print(\"Rotating left\")\n",
    "\n",
    "# Map joystick button \"X\" to QR code detection and movement\n",
    "joystick.map_button(\"x\", qr_code_action)\n"
   ]
  },
  {
   "cell_type": "markdown",
   "id": "f95300f1",
   "metadata": {},
   "source": [
    "## Part 5: Reflection\n",
    "**What challenges did you face while implementing QR code detection and generation?**\n",
    "\n",
    "**How can QR codes enhance robotics in real-world applications?**\n",
    "\n",
    "**If you could improve this system, what features would you add?**"
   ]
  },
  {
   "cell_type": "markdown",
   "id": "3d9b0d5f",
   "metadata": {},
   "source": [
    "## Submission Instructions\n",
    "- Submit a screenshot of your generated QR code.\n",
    "- Record a short video of the robot detecting and responding to a QR code.\n",
    "- Answer all worksheet questions before submitting.\n",
    "\n",
    "✅ **Completed and ready to submit?** Yes / No"
   ]
  }
 ],
 "metadata": {},
 "nbformat": 4,
 "nbformat_minor": 5
}