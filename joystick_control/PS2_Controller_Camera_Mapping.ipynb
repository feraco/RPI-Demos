{
 "cells": [
  {
   "cell_type": "markdown",
   "id": "baeebd6f",
   "metadata": {},
   "source": [
    "# Mapping PS2 Controller Buttons to Camera Functions\n",
    "This Jupyter Notebook guides you through mapping PS2 controller buttons to control camera functions on a robot."
   ]
  },
  {
   "cell_type": "markdown",
   "id": "4b7f811d",
   "metadata": {},
   "source": [
    "## Step 1: Setting Up the Environment\n",
    "Ensure your PS2 controller is connected and necessary libraries are installed.\n",
    "\n",
    "Run the following command in the terminal to start Jupyter Notebook:\n",
    "\n",
    "```bash\n",
    "cd RPI-Demos\n",
    "jupyter notebook\n",
    "```\n",
    "\n",
    "Now, proceed with the notebook to test the camera mappings."
   ]
  },
  {
   "cell_type": "markdown",
   "id": "dc90d46e",
   "metadata": {},
   "source": [
    "## Step 2: Import Required Libraries\n",
    "First, import the necessary modules for joystick control and camera functions."
   ]
  },
  {
   "cell_type": "code",
   "execution_count": null,
   "id": "f32cdba3",
   "metadata": {},
   "outputs": [],
   "source": [
    "\n",
    "# Import necessary libraries\n",
    "import time\n",
    "from joystick_control import Joystick  # Ensure this file exists and correctly interfaces with the controller\n",
    "from joystick_commands import CameraController\n",
    "\n",
    "# Initialize joystick and camera controller\n",
    "joystick = Joystick()\n",
    "camera = CameraController()\n",
    "\n",
    "print(\"Joystick and Camera Controller initialized.\")\n"
   ]
  },
  {
   "cell_type": "markdown",
   "id": "740728de",
   "metadata": {},
   "source": [
    "## Step 3: Define Camera Functions\n",
    "These functions will be mapped to the PS2 controller buttons."
   ]
  },
  {
   "cell_type": "code",
   "execution_count": null,
   "id": "c3ebe108",
   "metadata": {},
   "outputs": [],
   "source": [
    "\n",
    "# Function to capture a photo\n",
    "def capture_photo():\n",
    "    camera.capture_photo()\n",
    "    print(\"Photo captured\")\n",
    "\n",
    "# Function to capture a photo with a timestamp and store it in a specific directory\n",
    "def capture_photo_with_timestamp():\n",
    "    timestamp = time.strftime(\"%Y%m%d-%H%M%S\")\n",
    "    camera.capture_photo(f\"/home/pi/captured_images/image_{timestamp}.jpg\")\n",
    "    print(f\"Photo saved as image_{timestamp}.jpg\")\n",
    "\n",
    "# Function to capture a photo on obstacle detection\n",
    "def capture_on_obstacle():\n",
    "    if camera.is_obstacle_near(\"front\"):\n",
    "        camera.capture_photo()\n",
    "        print(\"Captured image due to detected obstacle.\")\n"
   ]
  },
  {
   "cell_type": "markdown",
   "id": "8e0d1ddd",
   "metadata": {},
   "source": [
    "## Step 4: Map Buttons to Camera Functions\n",
    "Use the `map_button` method to associate buttons with specific camera functions."
   ]
  },
  {
   "cell_type": "code",
   "execution_count": null,
   "id": "ba4950e2",
   "metadata": {},
   "outputs": [],
   "source": [
    "\n",
    "# Map controller buttons to camera functions\n",
    "joystick.map_button(\"r3\", capture_photo)\n",
    "joystick.map_button(\"triangle\", capture_on_obstacle)\n",
    "\n",
    "print(\"Button mappings set.\")\n"
   ]
  },
  {
   "cell_type": "markdown",
   "id": "a46c63ba",
   "metadata": {},
   "source": [
    "## Step 5: Run the Joystick Event Loop\n",
    "Start listening for button presses and trigger the corresponding camera functions."
   ]
  },
  {
   "cell_type": "code",
   "execution_count": null,
   "id": "4945b7fc",
   "metadata": {},
   "outputs": [],
   "source": [
    "\n",
    "print(\"Listening for button presses... Press Ctrl+C to stop.\")\n",
    "try:\n",
    "    joystick.listen()  # This function should listen for button presses and execute mapped functions\n",
    "except KeyboardInterrupt:\n",
    "    print(\"Joystick listening stopped.\")\n"
   ]
  },
  {
   "cell_type": "markdown",
   "id": "b42b0f55",
   "metadata": {},
   "source": [
    "## Step 6: Testing and Debugging\n",
    "Press the following buttons to test the mappings:\n",
    "\n",
    "- **R3** → Robot takes a photo.\n",
    "- **Triangle** → Robot captures an image only when an obstacle is detected.\n",
    "\n",
    "**If anything doesn't work, check for errors and restart the script.**"
   ]
  },
  {
   "cell_type": "markdown",
   "id": "03994089",
   "metadata": {},
   "source": [
    "## Step 7: Challenge - Auto Capture While Moving\n",
    "Write a function that makes the robot take a picture every 5 seconds while moving."
   ]
  },
  {
   "cell_type": "code",
   "execution_count": null,
   "id": "bd59e38a",
   "metadata": {},
   "outputs": [],
   "source": [
    "\n",
    "# Function to automatically capture images every 5 seconds while moving\n",
    "def auto_capture():\n",
    "    while movement.is_moving():  # Ensure `movement` object is available and can check motion status\n",
    "        capture_photo()\n",
    "        time.sleep(5)\n",
    "\n",
    "print(\"Challenge: Try running auto_capture() when the robot is moving.\")\n"
   ]
  }
 ],
 "metadata": {},
 "nbformat": 4,
 "nbformat_minor": 5
}