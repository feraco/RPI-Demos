{
 "cells": [
  {
   "cell_type": "markdown",
   "id": "a75ed9ac",
   "metadata": {},
   "source": [
    "# Mapping PS2 Controller Buttons to Movement Functions\n",
    "This Jupyter Notebook guides you through mapping PS2 controller buttons to control movement functions on a robot."
   ]
  },
  {
   "cell_type": "markdown",
   "id": "a93e2245",
   "metadata": {},
   "source": [
    "## Step 1: Setting Up the Environment\n",
    "Ensure your PS2 controller is connected and necessary libraries are installed.\n",
    "\n",
    "Run the following command in the terminal to start Jupyter Notebook:\n",
    "\n",
    "```bash\n",
    "cd RPI-Demos\n",
    "jupyter notebook\n",
    "```\n",
    "\n",
    "Now, proceed with the notebook to test the movement mappings."
   ]
  },
  {
   "cell_type": "markdown",
   "id": "c7f40881",
   "metadata": {},
   "source": [
    "## Step 2: Import Required Libraries\n",
    "First, import the necessary modules for joystick control and movement functions."
   ]
  },
  {
   "cell_type": "code",
   "execution_count": null,
   "id": "4ddae2e6",
   "metadata": {},
   "outputs": [],
   "source": [
    "\n",
    "# Import necessary libraries\n",
    "import time\n",
    "from joystick_control import Joystick  # Ensure this file exists and correctly interfaces with the controller\n",
    "from joystick_commands import MovementController\n",
    "\n",
    "# Initialize joystick and movement controller\n",
    "joystick = Joystick()\n",
    "movement = MovementController()\n",
    "\n",
    "print(\"Joystick and Movement Controller initialized.\")\n"
   ]
  },
  {
   "cell_type": "markdown",
   "id": "e3da3b90",
   "metadata": {},
   "source": [
    "## Step 3: Define Movement Functions\n",
    "These functions will be mapped to the PS2 controller buttons."
   ]
  },
  {
   "cell_type": "code",
   "execution_count": null,
   "id": "3c359645",
   "metadata": {},
   "outputs": [],
   "source": [
    "\n",
    "# Function to move forward\n",
    "def move_forward():\n",
    "    movement.move_forward(0.5, 2.0)  # Move forward at speed 0.5 for 2 seconds\n",
    "    print(\"Moving forward\")\n",
    "\n",
    "# Function to move backward\n",
    "def move_backward():\n",
    "    movement.move_backward(0.5, 2.0)  # Move backward at speed 0.5 for 2 seconds\n",
    "    print(\"Moving backward\")\n",
    "\n",
    "# Function to move left\n",
    "def move_left():\n",
    "    movement.move_left(0.5, 2.0)  # Move left at speed 0.5 for 2 seconds\n",
    "    print(\"Moving left\")\n",
    "\n",
    "# Function to move right\n",
    "def move_right():\n",
    "    movement.move_right(0.5, 2.0)  # Move right at speed 0.5 for 2 seconds\n",
    "    print(\"Moving right\")\n",
    "\n",
    "# Function to rotate left\n",
    "def rotate_left():\n",
    "    movement.rotate_left(0.5, 1.5)  # Rotate left at speed 0.5 for 1.5 seconds\n",
    "    print(\"Rotating left\")\n",
    "\n",
    "# Function to rotate right\n",
    "def rotate_right():\n",
    "    movement.rotate_right(0.5, 1.5)  # Rotate right at speed 0.5 for 1.5 seconds\n",
    "    print(\"Rotating right\")\n",
    "\n",
    "# Function to stop all movement\n",
    "def stop_robot():\n",
    "    movement.stop_all_motors()  # Stop all motors immediately\n",
    "    print(\"Robot stopped\")\n",
    "\n",
    "# Function to move faster\n",
    "def move_fast():\n",
    "    movement.move_forward(1.0, 1.5)  # Move forward faster\n",
    "    print(\"Moving forward quickly\")\n",
    "\n",
    "# Function to move diagonally\n",
    "def move_diagonal():\n",
    "    movement.move_diagonal(0.5, 1.5)  # Move diagonally at speed 0.5 for 1.5 seconds\n",
    "    print(\"Moving diagonally\")\n"
   ]
  },
  {
   "cell_type": "markdown",
   "id": "ad535129",
   "metadata": {},
   "source": [
    "## Step 4: Map Buttons to Functions\n",
    "Use the `map_button` method to associate buttons with specific movement functions."
   ]
  },
  {
   "cell_type": "code",
   "execution_count": null,
   "id": "25464ed6",
   "metadata": {},
   "outputs": [],
   "source": [
    "\n",
    "# Map controller buttons to movement functions\n",
    "joystick.map_button(\"cross\", move_forward)\n",
    "joystick.map_button(\"triangle\", move_backward)\n",
    "joystick.map_button(\"square\", move_left)\n",
    "joystick.map_button(\"circle\", move_right)\n",
    "joystick.map_button(\"l1\", rotate_left)\n",
    "joystick.map_button(\"r1\", rotate_right)\n",
    "joystick.map_button(\"start\", stop_robot)\n",
    "joystick.map_button(\"l3\", move_diagonal)\n",
    "\n",
    "print(\"Button mappings set.\")\n"
   ]
  },
  {
   "cell_type": "markdown",
   "id": "5b856861",
   "metadata": {},
   "source": [
    "## Step 5: Run the Joystick Event Loop\n",
    "Start listening for button presses and trigger the corresponding movement functions."
   ]
  },
  {
   "cell_type": "code",
   "execution_count": null,
   "id": "1613e7d5",
   "metadata": {},
   "outputs": [],
   "source": [
    "\n",
    "print(\"Listening for button presses... Press Ctrl+C to stop.\")\n",
    "try:\n",
    "    joystick.listen()  # This function should listen for button presses and execute mapped functions\n",
    "except KeyboardInterrupt:\n",
    "    print(\"Joystick listening stopped.\")\n"
   ]
  },
  {
   "cell_type": "markdown",
   "id": "298c36cf",
   "metadata": {},
   "source": [
    "## Step 6: Testing and Debugging\n",
    "Press the following buttons to test the mappings:\n",
    "\n",
    "- **Cross** → Robot moves forward.\n",
    "- **Triangle** → Robot moves backward.\n",
    "- **Square** → Robot moves left.\n",
    "- **Circle** → Robot moves right.\n",
    "- **L1** → Robot rotates left.\n",
    "- **R1** → Robot rotates right.\n",
    "- **Start** → Robot stops all movement.\n",
    "- **L3** → Robot moves diagonally.\n",
    "\n",
    "**If anything doesn't work, check for errors and restart the script.**"
   ]
  }
 ],
 "metadata": {},
 "nbformat": 4,
 "nbformat_minor": 5
}