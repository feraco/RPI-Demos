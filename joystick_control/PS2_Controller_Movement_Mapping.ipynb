{
 "cells": [
  {
   "cell_type": "markdown",
   "id": "a75ed9ac",
   "metadata": {},
   "source": [
    "# Mapping PS2 Controller Buttons to Movement Functions\n",
    "This Jupyter Notebook guides you through mapping PS2 controller buttons to control movement functions on a robot."
   ]
  },
  {
   "cell_type": "markdown",
   "id": "a93e2245",
   "metadata": {},
   "source": [
    "## Step 1: Setting Up the Environment\n",
    "Ensure your PS2 controller is connected and necessary libraries are installed.\n",
    "\n",
    "Run the following command in the terminal to start Jupyter Notebook:\n",
    "\n",
    "```bash\n",
    "cd RPI-Demos\n",
    "code```\n",
    "\n",
    "Now, proceed with the notebook to test the movement mappings."
   ]
  },
  {
   "cell_type": "markdown",
   "id": "c7f40881",
   "metadata": {},
   "source": [
    "## Step 2: Import Required Libraries\n",
    "First, import the necessary modules for joystick control and movement functions."
   ]
  },
  {
   "cell_type": "code",
   "execution_count": null,
   "id": "4ddae2e6",
   "metadata": {},
   "outputs": [],
   "source": [
    "\n",
    "# Import necessary libraries\n",
    "import time\n",
    "import random\n",
    "\n",
    "\n",
    "import rclpy\n",
    "from joystick_control import JoystickController  # Ensure this file exists and correctly interfaces with the controller\n",
    "from omni_robot_controller import OmniWheelControlNode  # Ensure this matches your modufrom joystick_control import JoystickController  # Import joystick controller\n",
    "from image_capture import ImageCaptureNode\n",
    "\n",
    "# Initialize joystick, LED, and buzzer controllers\n",
    "rclpy.init()\n",
    "movement = OmniWheelControlNode()  # Initialize the robot control node\n",
    "image_node = ImageCaptureNode()\n",
    "joystick = JoystickController()  # Initialize joystick control\n",
    "\n",
    "print(\"Joystick and Movement Controller initialized.\")\n"
   ]
  },
  {
   "cell_type": "markdown",
   "id": "e3da3b90",
   "metadata": {},
   "source": [
    "## Step 3: Define Movement Functions\n",
    "These functions will be mapped to the PS2 controller buttons.\n",
    "## 📌 Movement Commands\n",
    "The robot supports omni-directional movement using the following commands:\n",
    "\n",
    "### 🔹 Forward Movement\n",
    "Moves the robot forward at a specified speed for a given duration.\n",
    "```python\n",
    "move_forward(0.5, 3.0)  # Moves forward at 0.5 m/s for 3 seconds\n",
    "```\n",
    "\n",
    "### 🔹 Backward Movement\n",
    "Moves the robot backward.\n",
    "```python\n",
    "move_backward(0.5, 3.0)  # Moves backward at 0.5 m/s for 3 seconds\n",
    "```\n",
    "\n",
    "### 🔹 Left Movement\n",
    "Moves the robot to the left.\n",
    "```python\n",
    "move_left(0.5, 2.0)  # Moves left at 0.5 m/s for 2 seconds\n",
    "```\n",
    "\n",
    "### 🔹 Right Movement\n",
    "Moves the robot to the right.\n",
    "```python\n",
    "move_right(0.5, 2.0)  # Moves right at 0.5 m/s for 2 seconds\n",
    "```\n",
    "\n",
    "### 🔹 Diagonal Movement\n",
    "Moves the robot diagonally at a specified angle.\n",
    "```python\n",
    "move_in_direction(45, 0.5, 2.0)  # Moves at a 45° angle at 0.5 m/s for 2 seconds\n",
    "```\n",
    "\n",
    "### 🔹 Rotating Left (Counterclockwise)\n",
    "Rotates the robot to the left (CCW).\n",
    "```python\n",
    "rotate_left(0.5, 2.0)  # Rotates CCW at 0.5 RPS for 2 seconds\n",
    "```\n",
    "\n",
    "### 🔹 Rotating Right (Clockwise)\n",
    "Rotates the robot to the right (CW).\n",
    "```python\n",
    "rotate_right(0.5, 2.0)  # Rotates CW at 0.5 RPS for 2 seconds\n",
    "```\n",
    "\n",
    "### 🔹 Stopping All Motors\n",
    "Immediately stops all motors.\n",
    "```python\n",
    "stop_all_motors()  # Stops all motor movement\n",
    "```"
   ]
  },
  {
   "cell_type": "code",
   "execution_count": null,
   "id": "3c359645",
   "metadata": {},
   "outputs": [],
   "source": [
    "\n",
    "# Function to move forward\n",
    "def move_forward():\n",
    "    print(\"Moving forward\")\n",
    "\n",
    "# Function to move backward\n",
    "def move_backward():\n",
    "    print(\"Moving backward\")\n",
    "\n",
    "# Function to move left\n",
    "def move_left():\n",
    "    print(\"Moving left\")\n",
    "\n",
    "# Function to move right\n",
    "def move_right():\n",
    "    print(\"Moving right\")\n",
    "\n",
    "# Function to rotate left\n",
    "def rotate_left():\n",
    "    print(\"Rotating left\")\n",
    "\n",
    "# Function to rotate right\n",
    "def rotate_right():\n",
    "    print(\"Rotating right\")\n",
    "\n",
    "# Function to stop all movement\n",
    "def stop_robot():\n",
    "    print(\"Robot stopped\")\n",
    "\n",
    "# Function to move faster\n",
    "def move_fast():\n",
    "    print(\"Moving forward quickly\")\n",
    "\n",
    "# Function to move diagonally\n",
    "def move_diagonal():\n",
    "    print(\"Moving diagonally\")\n"
   ]
  },
  {
   "cell_type": "markdown",
   "id": "ad535129",
   "metadata": {},
   "source": [
    "## Step 4: Map Buttons to Functions\n",
    "Use the `map_button` method to associate buttons with specific movement functions."
   ]
  },
  {
   "cell_type": "code",
   "execution_count": null,
   "id": "25464ed6",
   "metadata": {},
   "outputs": [],
   "source": [
    "\n",
    "# Map controller buttons to movement functions\n",
    "joystick.map_button(\"cross\", move_forward)\n",
    "joystick.map_button(\"triangle\", move_backward)\n",
    "joystick.map_button(\"square\", move_left)\n",
    "joystick.map_button(\"circle\", move_right)\n",
    "joystick.map_button(\"l1\", rotate_left)\n",
    "joystick.map_button(\"r1\", rotate_right)\n",
    "joystick.map_button(\"start\", stop_robot)\n",
    "joystick.map_button(\"l3\", move_diagonal)\n",
    "\n",
    "print(\"Button mappings set.\")\n"
   ]
  },
  {
   "cell_type": "markdown",
   "id": "5b856861",
   "metadata": {},
   "source": [
    "## Step 5: Run the Joystick Event Loop\n",
    "Start listening for button presses and trigger the corresponding movement functions."
   ]
  },
  {
   "cell_type": "code",
   "execution_count": null,
   "id": "1613e7d5",
   "metadata": {},
   "outputs": [],
   "source": [
    "\n",
    "print(\"Listening for button presses... Press Ctrl+C to stop.\")\n",
    "try:\n",
    "    joystick.listen()  # This function should listen for button presses and execute mapped functions\n",
    "except KeyboardInterrupt:\n",
    "    print(\"Joystick listening stopped.\")\n"
   ]
  },
  {
   "cell_type": "markdown",
   "id": "298c36cf",
   "metadata": {},
   "source": [
    "## Step 6: Testing and Debugging\n",
    "Press the following buttons to test the mappings:\n",
    "\n",
    "- **Cross** → Robot moves forward.\n",
    "- **Triangle** → Robot moves backward.\n",
    "- **Square** → Robot moves left.\n",
    "- **Circle** → Robot moves right.\n",
    "- **L1** → Robot rotates left.\n",
    "- **R1** → Robot rotates right.\n",
    "- **Start** → Robot stops all movement.\n",
    "- **L3** → Robot moves diagonally.\n",
    "\n",
    "**If anything doesn't work, check for errors and restart the script.**"
   ]
  }
 ],
 "metadata": {
  "language_info": {
   "name": "python"
  }
 },
 "nbformat": 4,
 "nbformat_minor": 5
}
