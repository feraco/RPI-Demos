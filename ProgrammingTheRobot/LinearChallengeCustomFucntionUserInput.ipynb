{
 "cells": [
  {
   "cell_type": "markdown",
   "metadata": {},
   "source": [
    "## Linear Motion\n",
    "This notebook will guide you through controlling an **omni-wheel robot** step by step.\n",
    "You'll see an **example**, then try to complete a similar challenge on your own!"
   ]
  },
  {
   "cell_type": "code",
   "execution_count": null,
   "metadata": {},
   "outputs": [],
   "source": [
    "# This part allows VScode to communicate with the robot\n",
    "# This imports the required libraries and then creates a node for our robot\n",
    "import sys\n",
    "import os\n",
    "import time\n",
    "\n",
    "# Add parent directory to the Python path\n",
    "sys.path.insert(0, os.path.abspath('..'))\n",
    "\n",
    "import rclpy\n",
    "from controllers.omni_robot_controller import OmniWheelControlNode  # Import control node\n",
    "\n",
    "# Initialize ROS2 node\n",
    "rclpy.init()\n",
    "node = OmniWheelControlNode()\n"
   ]
  },
  {
   "cell_type": "markdown",
   "metadata": {},
   "source": [
    "# Challenge: Create a Custom Function for user input"
   ]
  },
  {
   "cell_type": "code",
   "execution_count": null,
   "metadata": {},
   "outputs": [],
   "source": [
    "# Challenge\n",
    "# For this challenge you are going to ask the user for an input speed and time\n",
    "# In order to be safe you need to make sure the speed isn't greater than 3 m/s.\n",
    "# You also need to make sure time isn't greater than 3 seconds.\n",
    "\n",
    "\n",
    "# Ask the user for an input speed and/or a time.\n",
    "# You may want to consider using a while loop and if statements to check their time and speed \n",
    "# meet the requirements\n",
    "# Write this code below:\n",
    "\n",
    "\n",
    "\n",
    "\n",
    "# Write the code to execute the robot movement at their speed and time below:\n",
    "\n",
    "\n"
   ]
  },
  {
   "cell_type": "markdown",
   "metadata": {},
   "source": [
    "## Shutting Down the Node\n",
    "Once you're done, **shutdown the node** properly."
   ]
  },
  {
   "cell_type": "code",
   "execution_count": null,
   "metadata": {},
   "outputs": [],
   "source": [
    "node.destroy_node()\n",
    "rclpy.shutdown()"
   ]
  }
 ],
 "metadata": {
  "kernelspec": {
   "display_name": "Python 3",
   "language": "python",
   "name": "python3"
  },
  "language_info": {
   "codemirror_mode": {
    "name": "ipython",
    "version": 3
   },
   "file_extension": ".py",
   "mimetype": "text/x-python",
   "name": "python",
   "nbconvert_exporter": "python",
   "pygments_lexer": "ipython3",
   "version": "3.8.10"
  }
 },
 "nbformat": 4,
 "nbformat_minor": 4
}
