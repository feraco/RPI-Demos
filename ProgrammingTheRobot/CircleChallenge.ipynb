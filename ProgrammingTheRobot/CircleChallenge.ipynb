{
 "cells": [
  {
   "cell_type": "markdown",
   "metadata": {},
   "source": [
    "<small>\n",
    "Part of the InnovatED STEM and DroneBlocks Land, Air, and Sea Robotics Curriculum  \n",
    "Licensed for educational use in schools only.  \n",
    "Redistribution, commercial use, or resale is strictly prohibited.  \n",
    "\u00a9 2025 InnovatED STEM & DroneBlocks. All rights reserved.\n",
    "</small>"
   ]
  },
  {
   "cell_type": "markdown",
   "metadata": {},
   "source": [
    "# Move it in a Circle Challenge\n",
    "### For this challenge you need to program your robot to move in a circle of radius 50 centimeters or 0.5 meters. "
   ]
  },
  {
   "cell_type": "markdown",
   "metadata": {},
   "source": [
    "# Start your nodes using the code below"
   ]
  },
  {
   "cell_type": "code",
   "execution_count": null,
   "metadata": {},
   "outputs": [],
   "source": [
    "# This part allows VScode to communicate with the robot\n",
    "# This imports the required libraries and then creates a node for our robot\n",
    "import sys\n",
    "import os\n",
    "import time\n",
    "\n",
    "# Add parent directory to the Python path\n",
    "sys.path.insert(0, os.path.abspath('..'))\n",
    "\n",
    "import rclpy\n",
    "from controllers.omni_robot_controller import OmniWheelControlNode  # Import control node\n",
    "\n",
    "\n",
    "# Initialize ROS2 node\n",
    "rclpy.init()\n",
    "node = OmniWheelControlNode()\n"
   ]
  },
  {
   "cell_type": "markdown",
   "metadata": {},
   "source": [
    "# Insert your code below"
   ]
  },
  {
   "cell_type": "code",
   "execution_count": null,
   "metadata": {},
   "outputs": [],
   "source": [
    "# Insert your code here"
   ]
  },
  {
   "cell_type": "markdown",
   "metadata": {},
   "source": [
    "# Remember to shut down your node"
   ]
  },
  {
   "cell_type": "code",
   "execution_count": null,
   "metadata": {},
   "outputs": [],
   "source": [
    "node.destroy_node()\n",
    "rclpy.shutdown()"
   ]
  }
 ],
 "metadata": {
  "language_info": {
   "name": "python"
  }
 },
 "nbformat": 4,
 "nbformat_minor": 2
}