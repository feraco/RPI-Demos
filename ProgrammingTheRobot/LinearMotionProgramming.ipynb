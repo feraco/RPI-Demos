{
 "cells": [
  {
   "cell_type": "markdown",
   "metadata": {},
   "source": [
    "<small>\n",
    "Part of the InnovatED STEM and DroneBlocks Land, Air, and Sea Robotics Curriculum  \n",
    "Licensed for educational use in schools only.  \n",
    "Redistribution, commercial use, or resale is strictly prohibited.  \n",
    "\u00a9 2025 InnovatED STEM & DroneBlocks. All rights reserved.\n",
    "</small>"
   ]
  },
  {
   "cell_type": "markdown",
   "metadata": {},
   "source": [
    "# Learning To Program the Robot\n",
    "This notebook will guide you through controlling an **omni-wheel robot** step by step.\n",
    "You'll see an **example**, then try to complete a similar challenge on your own!\n",
    "\n",
    "### Learning Objectives\n",
    "- Understand how to move the robot using Python commands.\n",
    "- Experiment with different speeds, directions, and durations.\n",
    "- Observe and adjust movement patterns to improve control."
   ]
  },
  {
   "cell_type": "code",
   "execution_count": null,
   "metadata": {},
   "outputs": [],
   "source": [
    "# This part allows VScode to communicate with the robot\n",
    "# This imports the required libraries and then creates a node for our robot\n",
    "import sys\n",
    "import os\n",
    "import time\n",
    "\n",
    "# Add parent directory to the Python path\n",
    "sys.path.insert(0, os.path.abspath('..'))\n",
    "\n",
    "import rclpy\n",
    "from controllers.omni_robot_controller import OmniWheelControlNode  # Import control node\n",
    "\n",
    "\n",
    "# Initialize ROS2 node\n",
    "rclpy.init()\n",
    "node = OmniWheelControlNode()\n"
   ]
  },
  {
   "cell_type": "markdown",
   "metadata": {},
   "source": [
    "## Example 1: Moving Forward\n",
    "To move forward you can use the command below\n",
    "\n",
    "node.move_Forward(speed in m/s, duration in seconds) \n"
   ]
  },
  {
   "cell_type": "code",
   "execution_count": null,
   "metadata": {},
   "outputs": [],
   "source": [
    "# Example: This moves the bot forward at 0.5 m/s for 2 seconds.\n",
    "# The bot should cover a distance of 1 meter.\n",
    "# Lay out a meter stick and run this code to check that the bot behaves as expected.\n",
    "\n",
    "node.move_forward(0.5,2)"
   ]
  },
  {
   "cell_type": "markdown",
   "metadata": {},
   "source": [
    "## Challenge 1: Moving Forward"
   ]
  },
  {
   "cell_type": "code",
   "execution_count": null,
   "metadata": {},
   "outputs": [],
   "source": [
    "# Challenge - a student wants a robot to move forward for a distance of 1.5 meters.\n",
    "# They whant this done over a 3 second time span."
   ]
  },
  {
   "cell_type": "markdown",
   "metadata": {},
   "source": [
    "## Example 2: Multi-Motion\n",
    "\n",
    "Sometimes you are going to have to use multiple motions that require starting and stopping motion. \n",
    "You can make the robot wait using the command:\n",
    "\n",
    "time.sleep( insert time to wait )"
   ]
  },
  {
   "cell_type": "code",
   "execution_count": null,
   "metadata": {},
   "outputs": [],
   "source": [
    "# Example: This moves the bot forward at 0.5 m/s for 2 seconds.\n",
    "# The bot then pauses for 5 seconds.\n",
    "# The bot then moves forward at 1 m/s for 1 second.\n",
    "# Run this code to confirm this movement occurs\n",
    "\n",
    "\n",
    "node.move_forward(0.5,2.0)\n",
    "time.sleep(5)\n",
    "node.move_forward(1.0,1.0)"
   ]
  },
  {
   "cell_type": "code",
   "execution_count": null,
   "metadata": {},
   "outputs": [],
   "source": [
    "# Challenge\n",
    "# 1) Move the robot forward at 0.7 m/s for 3 seconds.\n",
    "# 2) The bot should then pause for 3 seconds.\n",
    "# 3) The bot should then cover a distance of 2 meters in 5 seconds.\n",
    "# Write the code below"
   ]
  },
  {
   "cell_type": "markdown",
   "metadata": {},
   "source": [
    "## Example 3: Moving Backward\n",
    "To move backwards you can use the command below\n",
    "\n",
    "node.move_Backward(speed in m/s, duration in seconds) \n"
   ]
  },
  {
   "cell_type": "code",
   "execution_count": null,
   "metadata": {},
   "outputs": [],
   "source": [
    "# Example: This moves the bot forward at 0.5 m/s for 2 seconds.\n",
    "# The bot should cover a distance of 1 meter.\n",
    "# Lay out a meter stick and run this code to check that the bot behaves as expected.\n",
    "\n",
    "node.move_backward(0.5,2)"
   ]
  },
  {
   "cell_type": "markdown",
   "metadata": {},
   "source": [
    "## Challenge 4: Moving Backward"
   ]
  },
  {
   "cell_type": "code",
   "execution_count": null,
   "metadata": {},
   "outputs": [],
   "source": [
    "# Challenge - a student wants a robot to move backward for a distance of 1 meter.\n",
    "# They whant this done over a 2 second time span."
   ]
  },
  {
   "cell_type": "markdown",
   "metadata": {},
   "source": [
    "## Challenge 5: Multi-Motion Movement"
   ]
  },
  {
   "cell_type": "code",
   "execution_count": null,
   "metadata": {},
   "outputs": [],
   "source": [
    "# Challenge\n",
    "# 1) Move the robot forward at 1 m/s for 1 seconds.\n",
    "# 2) The bot should then pause for 5 seconds.\n",
    "# 3) The bot should then move backward at 1 m/s for 1 seconds.\n",
    "# Write the code below"
   ]
  },
  {
   "cell_type": "markdown",
   "metadata": {},
   "source": [
    "## Shutting Down the Node\n",
    "Once you're done, **shutdown the node** properly."
   ]
  },
  {
   "cell_type": "code",
   "execution_count": null,
   "metadata": {},
   "outputs": [],
   "source": [
    "node.destroy_node()\n",
    "rclpy.shutdown()"
   ]
  }
 ],
 "metadata": {
  "kernelspec": {
   "display_name": "Python 3",
   "language": "python",
   "name": "python3"
  },
  "language_info": {
   "codemirror_mode": {
    "name": "ipython",
    "version": 3
   },
   "file_extension": ".py",
   "mimetype": "text/x-python",
   "name": "python",
   "nbconvert_exporter": "python",
   "pygments_lexer": "ipython3",
   "version": "3.8.10"
  }
 },
 "nbformat": 4,
 "nbformat_minor": 4
}