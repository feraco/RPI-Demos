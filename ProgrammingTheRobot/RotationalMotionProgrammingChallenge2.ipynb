{
 "cells": [
  {
   "cell_type": "markdown",
   "metadata": {},
   "source": [
    "# Rotational Motion - Interactive Challenge Notebook\n",
    "This notebook will guide you through controlling an **omni-wheel robot** step by step.\n",
    "You'll see an **example**, then try to complete a similar challenge on your own!\n",
    "\n",
    "### Learning Objectives\n",
    "- Understand how to move the robot using Python commands.\n",
    "- Experiment with different speeds, directions, and durations.\n",
    "- Observe and adjust movement patterns to improve control."
   ]
  },
  {
   "cell_type": "code",
   "execution_count": null,
   "metadata": {},
   "outputs": [],
   "source": [
    "import sys\n",
    "import os\n",
    "import time\n",
    "\n",
    "# Add parent directory to the Python path\n",
    "sys.path.insert(0, os.path.abspath('..'))\n",
    "\n",
    "import rclpy\n",
    "from controllers.omni_robot_controller import OmniWheelControlNode  # Import control node\n",
    "\n",
    "\n",
    "# Initialize ROS2 node\n",
    "rclpy.init()\n",
    "node = OmniWheelControlNode()\n"
   ]
  },
  {
   "cell_type": "markdown",
   "metadata": {},
   "source": [
    "## Example 1: Rotating the Robot\n",
    "Here’s how you can make the robot **rotate counterclockwise** for 1.5 seconds."
   ]
  },
  {
   "cell_type": "code",
   "execution_count": null,
   "metadata": {},
   "outputs": [],
   "source": [
    "# Example: Rotate left at 1 radian per second for 1.5 seconds\n",
    "node.rotate_left(1.0, 1.5)"
   ]
  },
  {
   "cell_type": "markdown",
   "metadata": {},
   "source": [
    "## Example 2: Rotating Clockwise\n",
    "Here’s how you can make the robot **rotate clockwise** for 1.5 seconds."
   ]
  },
  {
   "cell_type": "code",
   "execution_count": null,
   "metadata": {},
   "outputs": [],
   "source": [
    "# Example: Rotate left at 1 radian per second for 1.5 seconds\n",
    "node.rotate_right(1.0, 1.5)"
   ]
  },
  {
   "cell_type": "markdown",
   "metadata": {},
   "source": [
    "## Challenge 1: Programming the robot to complete 1 rotation in 2 seconds"
   ]
  },
  {
   "cell_type": "code",
   "execution_count": null,
   "metadata": {},
   "outputs": [],
   "source": [
    "# Challenge\n",
    "# Have the robot complete one rotation in two seconds\n",
    "# Remember there are 2*pi radians in a full circle\n",
    "\n",
    "#Write your code below"
   ]
  },
  {
   "cell_type": "markdown",
   "metadata": {},
   "source": [
    "## Challenge 2: Rotate back and forth"
   ]
  },
  {
   "cell_type": "code",
   "execution_count": null,
   "metadata": {},
   "outputs": [],
   "source": [
    "# Challenge\n",
    "# Have the robot turn to the left 90 degrees, then pause for 2 seconds\n",
    "# Then have the robot turn right 90 degrees, back to the center, then pause for 2 seconds.\n",
    "# Then have the robot turn right 90 degrees again, then pause for 2 seconds.\n",
    "# Then have the robot turn left 90 degrees, back to the center, then pause for 2 seconds. \n",
    "# Have the robot repeat this 5 times (think loops!)"
   ]
  },
  {
   "cell_type": "markdown",
   "metadata": {},
   "source": [
    "## Shutting Down the Node\n",
    "Once you're done, **shutdown the node** properly."
   ]
  },
  {
   "cell_type": "code",
   "execution_count": null,
   "metadata": {},
   "outputs": [],
   "source": [
    "node.destroy_node()\n",
    "rclpy.shutdown()"
   ]
  }
 ],
 "metadata": {
  "kernelspec": {
   "display_name": "Python 3",
   "language": "python",
   "name": "python3"
  },
  "language_info": {
   "codemirror_mode": {
    "name": "ipython",
    "version": 3
   },
   "file_extension": ".py",
   "mimetype": "text/x-python",
   "name": "python",
   "nbconvert_exporter": "python",
   "pygments_lexer": "ipython3",
   "version": "3.8.10"
  }
 },
 "nbformat": 4,
 "nbformat_minor": 4
}
