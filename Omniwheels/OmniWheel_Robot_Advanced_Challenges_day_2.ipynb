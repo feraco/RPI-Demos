{
 "cells": [
  {
   "cell_type": "markdown",
   "metadata": {},
   "source": [
    "<small>\n",
    "Part of the InnovatED STEM and DroneBlocks Land, Air, and Sea Robotics Curriculum  \n",
    "Licensed for educational use in schools only.  \n",
    "Redistribution, commercial use, or resale is strictly prohibited.  \n",
    "\u00a9 2025 InnovatED STEM & DroneBlocks. All rights reserved.\n",
    "</small>"
   ]
  },
  {
   "cell_type": "markdown",
   "metadata": {},
   "source": [
    "# Omni-Wheel Robot - Advanced Motion Challenges\n",
    "This notebook will help you complete advanced movement challenges using the **omni-wheel robot**.\n",
    "Follow the tasks, experiment with commands, and refine your scripts!\n",
    "\n",
    "### Learning Objectives\n",
    "- Write and test scripts for **precise movement patterns**.\n",
    "- Adjust speed, duration, and direction for **smoother control**.\n",
    "- Analyze how different parameters affect movement."
   ]
  },
  {
   "cell_type": "code",
   "execution_count": null,
   "metadata": {},
   "outputs": [],
   "source": [
    "import time\n",
    "import random\n",
    "import sys\n",
    "import os\n",
    "\n",
    "# Add parent directory to the Python path\n",
    "sys.path.insert(0, os.path.abspath('..'))\n",
    "import rclpy\n",
    "from controllers.omni_robot_controller import OmniWheelControlNode  # Import control node\n",
    "\n",
    "# Initialize ROS2 node\n",
    "rclpy.init()\n",
    "node = OmniWheelControlNode()\n"
   ]
  },
  {
   "cell_type": "markdown",
   "metadata": {},
   "source": [
    "## Challenge 1: Triangle Pattern\n",
    "**Goal:** Move the robot in a triangle shape.\n",
    "- Move forward for **a set distance**.\n",
    "- Rotate **120\u00b0 to the right**.\n",
    "- Repeat the pattern **three times** to complete the triangle.\n",
    "\n",
    "**Example Start:**"
   ]
  },
  {
   "cell_type": "code",
   "execution_count": null,
   "metadata": {},
   "outputs": [],
   "source": [
    "# Example - First step of the triangle\n",
    "node.move_in_direction(0, 0.5, 2)\n",
    "node.rotate_right(120, 1)"
   ]
  },
  {
   "cell_type": "markdown",
   "metadata": {},
   "source": [
    "**Your Challenge:** Complete the full triangle by adding two more movement steps."
   ]
  },
  {
   "cell_type": "code",
   "execution_count": null,
   "metadata": {},
   "outputs": [],
   "source": [
    "# Your code here:\n",
    "# for _ in range(2):\n",
    "#     node.move_in_direction(?, ?, ?)\n",
    "#     node.rotate_right(?, ?)"
   ]
  },
  {
   "cell_type": "markdown",
   "metadata": {},
   "source": [
    "## Challenge 2: Zig-Zag Movement\n",
    "**Goal:** Make the robot move in a **zig-zag pattern**.\n",
    "- Move diagonally **to the right**.\n",
    "- Move diagonally **to the left**.\n",
    "- Repeat the pattern **multiple times**."
   ]
  },
  {
   "cell_type": "code",
   "execution_count": null,
   "metadata": {},
   "outputs": [],
   "source": [
    "# Example - One Zig-Zag movement\n",
    "node.move_in_direction(45, 0.5, 2)\n",
    "node.move_in_direction(135, 0.5, 2)"
   ]
  },
  {
   "cell_type": "markdown",
   "metadata": {},
   "source": [
    "**Your Challenge:** Extend the pattern for multiple repetitions."
   ]
  },
  {
   "cell_type": "code",
   "execution_count": null,
   "metadata": {},
   "outputs": [],
   "source": [
    "# Your code here:\n",
    "# for _ in range(?):\n",
    "#     node.move_in_direction(?, ?, ?)\n",
    "#     node.move_in_direction(?, ?, ?)"
   ]
  },
  {
   "cell_type": "markdown",
   "metadata": {},
   "source": [
    "## Challenge 3: Spiral Path\n",
    "**Goal:** Create a **spiral motion** by gradually increasing movement duration.\n",
    "- Move forward **a small amount**.\n",
    "- Rotate slightly.\n",
    "- Increase movement duration **step by step**."
   ]
  },
  {
   "cell_type": "code",
   "execution_count": null,
   "metadata": {},
   "outputs": [],
   "source": [
    "# Example - Spiral Start\n",
    "for i in range(1, 6):\n",
    "    node.move_in_direction(0, 0.5, i)\n",
    "    node.rotate_right(30, 1)"
   ]
  },
  {
   "cell_type": "markdown",
   "metadata": {},
   "source": [
    "**Your Challenge:** Experiment with different speeds and angles for a smoother spiral."
   ]
  },
  {
   "cell_type": "code",
   "execution_count": null,
   "metadata": {},
   "outputs": [],
   "source": [
    "# Your code here:\n",
    "# for i in range(?):\n",
    "#     node.move_in_direction(?, ?, ?)\n",
    "#     node.rotate_right(?, ?)"
   ]
  },
  {
   "cell_type": "markdown",
   "metadata": {},
   "source": [
    "## Challenge 4: Obstacle Avoidance Simulation\n",
    "**Goal:** Simulate reacting to obstacles by stopping after each movement.\n",
    "- Move forward and **stop immediately**.\n",
    "- Move in another direction and **stop again**.\n",
    "- Experiment with different stopping points."
   ]
  },
  {
   "cell_type": "code",
   "execution_count": null,
   "metadata": {},
   "outputs": [],
   "source": [
    "# Example - Move and stop\n",
    "node.move_in_direction(0, 0.5, 2)\n",
    "node.stop_all_motors()"
   ]
  },
  {
   "cell_type": "markdown",
   "metadata": {},
   "source": [
    "**Your Challenge:** Add multiple movement directions with stops in between."
   ]
  },
  {
   "cell_type": "code",
   "execution_count": null,
   "metadata": {},
   "outputs": [],
   "source": [
    "# Your code here:\n",
    "# node.move_in_direction(?, ?, ?)\n",
    "# node.stop_all_motors()\n",
    "# node.move_in_direction(?, ?, ?)\n",
    "# node.stop_all_motors()"
   ]
  },
  {
   "cell_type": "markdown",
   "metadata": {},
   "source": [
    "## Shutting Down the Node\n",
    "Once you're done, **shutdown the node** properly."
   ]
  },
  {
   "cell_type": "code",
   "execution_count": null,
   "metadata": {},
   "outputs": [],
   "source": [
    "node.destroy_node()\n",
    "rclpy.shutdown()"
   ]
  }
 ],
 "metadata": {
  "kernelspec": {
   "display_name": "Python 3",
   "language": "python",
   "name": "python3"
  },
  "language_info": {
   "codemirror_mode": {
    "name": "ipython",
    "version": 3
   },
   "file_extension": ".py",
   "mimetype": "text/x-python",
   "name": "python",
   "nbconvert_exporter": "python",
   "pygments_lexer": "ipython3",
   "version": "3.8.10"
  }
 },
 "nbformat": 4,
 "nbformat_minor": 4
}