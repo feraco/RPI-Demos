{
 "cells": [
  {
   "cell_type": "markdown",
   "metadata": {},
   "source": [
    "<small>\n",
    "Part of the InnovatED STEM and DroneBlocks Land, Air, and Sea Robotics Curriculum  \n",
    "Licensed for educational use in schools only.  \n",
    "Redistribution, commercial use, or resale is strictly prohibited.  \n",
    "\u00a9 2025 InnovatED STEM & DroneBlocks. All rights reserved.\n",
    "</small>"
   ]
  },
  {
   "cell_type": "markdown",
   "metadata": {},
   "source": [
    "# Omni-Wheel Robot - Motion Tracking & Visualization\n",
    "This notebook will help you **see** how the robot moves!\n",
    "After each movement, we will **plot the robot's path** to visualize the motion.\n",
    "\n",
    "### Learning Objectives\n",
    "- Write and test movement scripts.\n",
    "- Track the robot's position in 2D space.\n",
    "- Visualize how speed, duration, and direction affect movement."
   ]
  },
  {
   "cell_type": "code",
   "execution_count": null,
   "metadata": {},
   "outputs": [],
   "source": [
    "import time\n",
    "import random\n",
    "import sys\n",
    "import os\n",
    "\n",
    "# Add parent directory to the Python path\n",
    "sys.path.insert(0, os.path.abspath('..'))\n",
    "import rclpy\n",
    "import matplotlib.pyplot as plt\n",
    "import numpy as np\n",
    "from controllers.omni_robot_controller import OmniWheelControlNode  # Import control node\n",
    "\n",
    "# Initialize ROS2 node\n",
    "rclpy.init()\n",
    "node = OmniWheelControlNode()\n",
    "\n",
    "# Track the robot's position\n",
    "position = [0, 0]  # Start at origin\n",
    "path = [tuple(position)]  # Store movement history\n",
    "\n",
    "def update_position(direction, speed, duration):\n",
    "    \"\"\"Update the estimated robot position.\"\"\"\n",
    "    global position, path\n",
    "    radian_direction = np.radians(direction)\n",
    "    distance = speed * duration\n",
    "    position[0] += distance * np.cos(radian_direction)\n",
    "    position[1] += distance * np.sin(radian_direction)\n",
    "    path.append(tuple(position))  # Store new position\n",
    "\n",
    "def plot_path():\n",
    "    \"\"\"Plot the robot's movement path.\"\"\"\n",
    "    x_vals, y_vals = zip(*path)\n",
    "    plt.figure(figsize=(6,6))\n",
    "    plt.plot(x_vals, y_vals, marker='o', linestyle='-', color='b', label='Robot Path')\n",
    "    plt.scatter(x_vals[-1], y_vals[-1], color='red', label='Current Position')\n",
    "    plt.xlabel(\"X Position (m)\")\n",
    "    plt.ylabel(\"Y Position (m)\")\n",
    "    plt.legend()\n",
    "    plt.title(\"Robot Movement Path\")\n",
    "    plt.grid(True)\n",
    "    plt.show()\n"
   ]
  },
  {
   "cell_type": "markdown",
   "metadata": {},
   "source": [
    "## Challenge 1: Triangle Pattern\n",
    "**Goal:** Move the robot in a triangle shape and visualize the path."
   ]
  },
  {
   "cell_type": "code",
   "execution_count": null,
   "metadata": {},
   "outputs": [],
   "source": [
    "# Move in a triangle pattern and plot movement\n",
    "for _ in range(3):\n",
    "    node.move_in_direction(0, 0.5, 2)\n",
    "    update_position(0, 0.5, 2)\n",
    "    node.rotate_right(120, 1)\n",
    "    plot_path()  # Visualize after each step"
   ]
  },
  {
   "cell_type": "markdown",
   "metadata": {},
   "source": [
    "## Challenge 2: Zig-Zag Movement\n",
    "**Goal:** Move in a zig-zag pattern and track the motion."
   ]
  },
  {
   "cell_type": "code",
   "execution_count": null,
   "metadata": {},
   "outputs": [],
   "source": [
    "# Move in a zig-zag pattern and plot movement\n",
    "for _ in range(4):\n",
    "    node.move_in_direction(45, 0.5, 2)\n",
    "    update_position(45, 0.5, 2)\n",
    "    plot_path()\n",
    "    node.move_in_direction(135, 0.5, 2)\n",
    "    update_position(135, 0.5, 2)\n",
    "    plot_path()"
   ]
  },
  {
   "cell_type": "markdown",
   "metadata": {},
   "source": [
    "## Challenge 3: Spiral Path\n",
    "**Goal:** Move in a spiral motion and visualize the expanding pattern."
   ]
  },
  {
   "cell_type": "code",
   "execution_count": null,
   "metadata": {},
   "outputs": [],
   "source": [
    "# Move in a spiral pattern and plot movement\n",
    "for i in range(1, 6):\n",
    "    node.move_in_direction(0, 0.5, i)\n",
    "    update_position(0, 0.5, i)\n",
    "    node.rotate_right(30, 1)\n",
    "    plot_path()"
   ]
  },
  {
   "cell_type": "markdown",
   "metadata": {},
   "source": [
    "## Challenge 4: Obstacle Avoidance Simulation\n",
    "**Goal:** Stop after each movement and visualize the movement path."
   ]
  },
  {
   "cell_type": "code",
   "execution_count": null,
   "metadata": {},
   "outputs": [],
   "source": [
    "# Move with stops and plot movement\n",
    "node.move_in_direction(0, 0.5, 2)\n",
    "update_position(0, 0.5, 2)\n",
    "plot_path()\n",
    "node.stop_all_motors()\n",
    "node.move_in_direction(90, 0.5, 2)\n",
    "update_position(90, 0.5, 2)\n",
    "plot_path()"
   ]
  },
  {
   "cell_type": "markdown",
   "metadata": {},
   "source": [
    "## Shutting Down the Node\n",
    "Once you're done, **shutdown the node** properly."
   ]
  },
  {
   "cell_type": "code",
   "execution_count": null,
   "metadata": {},
   "outputs": [],
   "source": [
    "node.destroy_node()\n",
    "rclpy.shutdown()"
   ]
  }
 ],
 "metadata": {
  "kernelspec": {
   "display_name": "Python 3",
   "language": "python",
   "name": "python3"
  },
  "language_info": {
   "codemirror_mode": {
    "name": "ipython",
    "version": 3
   },
   "file_extension": ".py",
   "mimetype": "text/x-python",
   "name": "python",
   "nbconvert_exporter": "python",
   "pygments_lexer": "ipython3",
   "version": "3.8.10"
  }
 },
 "nbformat": 4,
 "nbformat_minor": 4
}