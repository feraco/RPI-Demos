{
 "cells": [
  {
   "cell_type": "markdown",
   "metadata": {},
   "source": [
    "<small>\n",
    "Part of the InnovatED STEM and DroneBlocks Land, Air, and Sea Robotics Curriculum  \n",
    "Licensed for educational use in schools only.  \n",
    "Redistribution, commercial use, or resale is strictly prohibited.  \n",
    "\u00a9 2025 InnovatED STEM & DroneBlocks. All rights reserved.\n",
    "</small>"
   ]
  },
  {
   "cell_type": "markdown",
   "metadata": {},
   "source": [
    "# Omni-Wheel Robot - Interactive Challenge Notebook\n",
    "This notebook will guide you through controlling an **omni-wheel robot** step by step.\n",
    "You'll see an **example**, then try to complete a similar challenge on your own!\n",
    "\n",
    "### Learning Objectives\n",
    "- Understand how to move the robot using Python commands.\n",
    "- Experiment with different speeds, directions, and durations.\n",
    "- Observe and adjust movement patterns to improve control."
   ]
  },
  {
   "cell_type": "code",
   "execution_count": null,
   "metadata": {},
   "outputs": [],
   "source": [
    "import sys\n",
    "import os\n",
    "\n",
    "# Add parent directory to the Python path\n",
    "sys.path.insert(0, os.path.abspath('..'))\n",
    "\n",
    "import rclpy\n",
    "from controllers.omni_robot_controller import OmniWheelControlNode  # Import control node\n",
    "\n",
    "\n",
    "# Initialize ROS2 node\n",
    "rclpy.init()\n",
    "node = OmniWheelControlNode()\n"
   ]
  },
  {
   "cell_type": "markdown",
   "metadata": {},
   "source": [
    "## Example 1: Moving Forward\n",
    "Here\u2019s how you can **move the robot forward** at a slow speed for 2 seconds.\n",
    "Try running this command and observe the behavior."
   ]
  },
  {
   "cell_type": "code",
   "execution_count": null,
   "metadata": {},
   "outputs": [],
   "source": [
    "# Example: Move forward\n",
    "node.move_in_direction(0, 0.5, 2)"
   ]
  },
  {
   "cell_type": "markdown",
   "metadata": {},
   "source": [
    "### Challenge 1: Moving Backward\n",
    "**Now it's your turn!**\n",
    "Write a command that moves the robot **backward** at the same speed for 3 seconds.\n",
    "Fill in the missing values below:"
   ]
  },
  {
   "cell_type": "code",
   "execution_count": null,
   "metadata": {},
   "outputs": [],
   "source": [
    "# Your code here:\n",
    "# node.move_in_direction(?, ?, ?)"
   ]
  },
  {
   "cell_type": "markdown",
   "metadata": {},
   "source": [
    "## Example 2: Rotating the Robot\n",
    "Here\u2019s how you can make the robot **rotate counterclockwise** for 1.5 seconds."
   ]
  },
  {
   "cell_type": "code",
   "execution_count": null,
   "metadata": {},
   "outputs": [],
   "source": [
    "# Example: Rotate left\n",
    "node.rotate_left(30, 1.5)"
   ]
  },
  {
   "cell_type": "markdown",
   "metadata": {},
   "source": [
    "### Challenge 2: Rotating Clockwise\n",
    "Write a command to **rotate the robot clockwise** at the same speed for 2 seconds.\n",
    "Test it and observe the result!"
   ]
  },
  {
   "cell_type": "code",
   "execution_count": null,
   "metadata": {},
   "outputs": [],
   "source": [
    "# Your code here:\n",
    "# node.rotate_right(?, ?)"
   ]
  },
  {
   "cell_type": "markdown",
   "metadata": {},
   "source": [
    "## Example 3: Moving in a Square\n",
    "Robots can follow **patterns** by combining movements.\n",
    "Here\u2019s an example of moving the robot **in a square pattern** (2m per side)."
   ]
  },
  {
   "cell_type": "code",
   "execution_count": null,
   "metadata": {},
   "outputs": [],
   "source": [
    "# Example: Move in a square\n",
    "for _ in range(4):\n",
    "    node.move_in_direction(0, 0.5, 2)\n",
    "    node.rotate_right(90, 1)"
   ]
  },
  {
   "cell_type": "markdown",
   "metadata": {},
   "source": [
    "### Challenge 3: Moving in a Triangle\n",
    "Write a command to move the robot **in a triangle pattern** instead of a square.\n",
    "- Each side should be **3 meters** long.\n",
    "- The robot should rotate **120 degrees** at each turn.\n",
    "Try to complete the loop below!"
   ]
  },
  {
   "cell_type": "code",
   "execution_count": null,
   "metadata": {},
   "outputs": [],
   "source": [
    "# Your code here:\n",
    "# for _ in range(3):\n",
    "#     node.move_in_direction(?, ?, ?)\n",
    "#     node.rotate_right(?, ?)"
   ]
  },
  {
   "cell_type": "markdown",
   "metadata": {},
   "source": [
    "## Final Challenge: Experiment with Speed\n",
    "Now, **experiment!**\n",
    "1. Try increasing the **speed** to 1.0 and see what happens.\n",
    "2. Try decreasing the **duration** to 1 second.\n",
    "How does the robot's behavior change?"
   ]
  },
  {
   "cell_type": "code",
   "execution_count": null,
   "metadata": {},
   "outputs": [],
   "source": [
    "# Your code here:\n",
    "# node.move_in_direction(?, ?, ?)"
   ]
  },
  {
   "cell_type": "markdown",
   "metadata": {},
   "source": [
    "## Shutting Down the Node\n",
    "Once you're done, **shutdown the node** properly."
   ]
  },
  {
   "cell_type": "code",
   "execution_count": null,
   "metadata": {},
   "outputs": [],
   "source": [
    "node.destroy_node()\n",
    "rclpy.shutdown()"
   ]
  }
 ],
 "metadata": {
  "kernelspec": {
   "display_name": "Python 3",
   "language": "python",
   "name": "python3"
  },
  "language_info": {
   "codemirror_mode": {
    "name": "ipython",
    "version": 3
   },
   "file_extension": ".py",
   "mimetype": "text/x-python",
   "name": "python",
   "nbconvert_exporter": "python",
   "pygments_lexer": "ipython3",
   "version": "3.8.10"
  }
 },
 "nbformat": 4,
 "nbformat_minor": 4
}