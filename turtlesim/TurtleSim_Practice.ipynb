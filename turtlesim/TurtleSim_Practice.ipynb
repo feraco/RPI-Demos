{
 "cells": [
  {
   "cell_type": "markdown",
   "metadata": {},
   "source": [
    "<small>\n",
    "Part of the InnovatED STEM and DroneBlocks Land, Air, and Sea Robotics Curriculum  \n",
    "Licensed for educational use in schools only.  \n",
    "Redistribution, commercial use, or resale is strictly prohibited.  \n",
    "\u00a9 2025 InnovatED STEM & DroneBlocks. All rights reserved.\n",
    "</small>"
   ]
  },
  {
   "cell_type": "markdown",
   "metadata": {},
   "source": [
    "# TurtleSim Python Practice Worksheet\n",
    "This notebook will guide you through various exercises to control a turtle using ROS2 commands."
   ]
  },
  {
   "cell_type": "code",
   "execution_count": null,
   "metadata": {},
   "outputs": [],
   "source": [
    "import rclpy\n",
    "import sys\n",
    "import os\n",
    "\n",
    "# Add parent directory to the Python path\n",
    "sys.path.insert(0, os.path.abspath('..'))\n",
    "\n",
    "\n",
    "\n",
    "from controllers.turtlemove import TurtleController  # Import TurtleController class\n",
    "import time\n",
    "\n",
    "# Initialize ROS2 node\n",
    "rclpy.init()\n",
    "turtle = TurtleController()\n",
    "\n",
    "# Function to send movement commands to the turtle\n",
    "def send_command(turtle, linear, angular, duration):\n",
    "    \"\"\"Helper function to move the turtle.\"\"\"\n",
    "    turtle.move_turtle(linear, angular, duration)\n"
   ]
  },
  {
   "cell_type": "markdown",
   "metadata": {},
   "source": [
    "## Task 1: Move Backward\n",
    "Make the turtle move backward at 1.5 m/s for 4 seconds.\n",
    "Fill in the missing parameters."
   ]
  },
  {
   "cell_type": "code",
   "execution_count": null,
   "metadata": {},
   "outputs": [],
   "source": [
    "# send_command(turtle, ?, ?, ?)"
   ]
  },
  {
   "cell_type": "markdown",
   "metadata": {},
   "source": [
    "## Task 2: Rotate Clockwise\n",
    "Make the turtle rotate clockwise at 2 rad/s for 3 seconds."
   ]
  },
  {
   "cell_type": "code",
   "execution_count": null,
   "metadata": {},
   "outputs": [],
   "source": [
    "# send_command(turtle, ?, ?, ?)"
   ]
  },
  {
   "cell_type": "markdown",
   "metadata": {},
   "source": [
    "## Task 3: Move in a Circle\n",
    "Make the turtle move in a circle with a linear velocity of 1 m/s and an angular velocity of 0.5 rad/s for 6 seconds."
   ]
  },
  {
   "cell_type": "code",
   "execution_count": null,
   "metadata": {},
   "outputs": [],
   "source": [
    "# send_command(turtle, ?, ?, ?)"
   ]
  },
  {
   "cell_type": "markdown",
   "metadata": {},
   "source": [
    "## Task 4: Move in a Square Pattern\n",
    "Complete the loop below to move the turtle in a square pattern."
   ]
  },
  {
   "cell_type": "code",
   "execution_count": null,
   "metadata": {},
   "outputs": [],
   "source": [
    "# for _ in range(4):\n",
    "#     send_command(turtle, ?, ?, ?)\n",
    "#     send_command(turtle, ?, ?, ?)"
   ]
  },
  {
   "cell_type": "markdown",
   "metadata": {},
   "source": [
    "## Task 5: Zigzag Pattern\n",
    "Complete the loop to make the turtle move in a zigzag pattern."
   ]
  },
  {
   "cell_type": "code",
   "execution_count": null,
   "metadata": {},
   "outputs": [],
   "source": [
    "# for _ in range(4):\n",
    "#     send_command(turtle, ?, ?, ?)\n",
    "#     send_command(turtle, ?, ?, ?)"
   ]
  },
  {
   "cell_type": "markdown",
   "metadata": {},
   "source": [
    "## Task 6: Triangle Pattern\n",
    "Complete the loop to make the turtle move in a triangular pattern."
   ]
  },
  {
   "cell_type": "code",
   "execution_count": null,
   "metadata": {},
   "outputs": [],
   "source": [
    "# for _ in range(3):\n",
    "#     send_command(turtle, ?, ?, ?)\n",
    "#     send_command(turtle, ?, ?, ?)"
   ]
  },
  {
   "cell_type": "markdown",
   "metadata": {},
   "source": [
    "## Cleanup\n",
    "Shutdown the ROS2 node after completing tasks."
   ]
  },
  {
   "cell_type": "code",
   "execution_count": null,
   "metadata": {},
   "outputs": [],
   "source": [
    "turtle.destroy_node()\n",
    "rclpy.shutdown()"
   ]
  }
 ],
 "metadata": {
  "kernelspec": {
   "display_name": "Python 3",
   "language": "python",
   "name": "python3"
  },
  "language_info": {
   "codemirror_mode": {
    "name": "ipython",
    "version": 3
   },
   "file_extension": ".py",
   "mimetype": "text/x-python",
   "name": "python",
   "nbconvert_exporter": "python",
   "pygments_lexer": "ipython3",
   "version": "3.8.10"
  }
 },
 "nbformat": 4,
 "nbformat_minor": 4
}