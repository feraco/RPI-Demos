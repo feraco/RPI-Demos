{
 "cells": [
  {
   "cell_type": "markdown",
   "metadata": {},
   "source": [
    "<small>\n",
    "Part of the InnovatED STEM and DroneBlocks Land, Air, and Sea Robotics Curriculum  \n",
    "Licensed for educational use in schools only.  \n",
    "Redistribution, commercial use, or resale is strictly prohibited.  \n",
    "\u00a9 2025 InnovatED STEM & DroneBlocks. All rights reserved.\n",
    "</small>"
   ]
  },
  {
   "cell_type": "markdown",
   "metadata": {},
   "source": [
    "# **LiDAR Functions Testing Notebook**\n",
    "This notebook will allow you to test the **LiDAR sensor functions** using Python and ROS2.\n",
    "\n",
    "### **Objectives**\n",
    "- Start and stop the LiDAR sensor.\n",
    "- Subscribe to the LiDAR data stream and analyze real-time readings.\n",
    "- Detect obstacles using LiDAR distance data.\n",
    "- Visualize the LiDAR scan using a 2D plot."
   ]
  },
  {
   "cell_type": "code",
   "execution_count": null,
   "metadata": {},
   "outputs": [],
   "source": [
    "# Import necessary libraries\n",
    "import rclpy\n",
    "from rclpy.node import Node\n",
    "from sensor_msgs.msg import LaserScan\n",
    "import numpy as np\n",
    "import matplotlib.pyplot as plt\n"
   ]
  },
  {
   "cell_type": "markdown",
   "metadata": {},
   "source": [
    "## **1\ufe0f\u20e3 Start LiDAR Sensor**\n",
    "Run the following cell to start the **LiDAR launch file**."
   ]
  },
  {
   "cell_type": "code",
   "execution_count": null,
   "metadata": {},
   "outputs": [],
   "source": [
    "!ros2 launch your_package lidar.launch.py"
   ]
  },
  {
   "cell_type": "markdown",
   "metadata": {},
   "source": [
    "## **2\ufe0f\u20e3 Subscribe to LiDAR Data**\n",
    "The following cell will create a **LiDAR reader node** and print distance values."
   ]
  },
  {
   "cell_type": "code",
   "execution_count": null,
   "metadata": {},
   "outputs": [],
   "source": [
    "class LidarReader(Node):\n",
    "    def __init__(self):\n",
    "        super().__init__('lidar_reader')\n",
    "        self.subscription = self.create_subscription(\n",
    "            LaserScan, '/scan_raw', self.lidar_callback, 10)\n",
    "        self.subscription  # Prevent unused variable warning\n",
    "    \n",
    "    def lidar_callback(self, msg):\n",
    "        print(f\"Received LiDAR Data: {msg.ranges[:10]}\")  # Print first 10 readings\n",
    "\n",
    "rclpy.init()\n",
    "lidar_node = LidarReader()\n",
    "rclpy.spin_once(lidar_node)  # Process LiDAR data"
   ]
  },
  {
   "cell_type": "markdown",
   "metadata": {},
   "source": [
    "## **3\ufe0f\u20e3 Detect Obstacles**\n",
    "If any obstacle is within **0.5 meters**, the function will display a warning."
   ]
  },
  {
   "cell_type": "code",
   "execution_count": null,
   "metadata": {},
   "outputs": [],
   "source": [
    "def check_obstacle(lidar_msg):\n",
    "    min_distance = min(lidar_msg.ranges)\n",
    "    if min_distance < 0.5:\n",
    "        print(\"\ud83d\udea8 Obstacle detected within 0.5 meters!\")\n",
    "    else:\n",
    "        print(\"\u2705 No obstacles detected within 0.5 meters.\")\n",
    "\n",
    "rclpy.spin_once(lidar_node)  # Process data\n",
    "check_obstacle(lidar_node)"
   ]
  },
  {
   "cell_type": "markdown",
   "metadata": {},
   "source": [
    "## **4\ufe0f\u20e3 Visualize LiDAR Data**\n",
    "This function will generate a **2D scatter plot** of the LiDAR readings."
   ]
  },
  {
   "cell_type": "code",
   "execution_count": null,
   "metadata": {},
   "outputs": [],
   "source": [
    "def plot_lidar(lidar_msg):\n",
    "    angles = np.linspace(-np.pi, np.pi, len(lidar_msg.ranges))\n",
    "    x = np.array(lidar_msg.ranges) * np.cos(angles)\n",
    "    y = np.array(lidar_msg.ranges) * np.sin(angles)\n",
    "    \n",
    "    plt.scatter(x, y, s=1)\n",
    "    plt.xlabel(\"X (meters)\")\n",
    "    plt.ylabel(\"Y (meters)\")\n",
    "    plt.title(\"LiDAR Scan\")\n",
    "    plt.show()\n",
    "\n",
    "rclpy.spin_once(lidar_node)\n",
    "plot_lidar(lidar_node)"
   ]
  },
  {
   "cell_type": "markdown",
   "metadata": {},
   "source": [
    "## **5\ufe0f\u20e3 Stop LiDAR Sensor**\n",
    "Run this cell to **stop the LiDAR process** and free system resources."
   ]
  },
  {
   "cell_type": "code",
   "execution_count": null,
   "metadata": {},
   "outputs": [],
   "source": [
    "!ros2 service call /lidar_app/exit std_srvs/srv/Trigger"
   ]
  },
  {
   "cell_type": "markdown",
   "metadata": {},
   "source": [
    "## **6\ufe0f\u20e3 Shutdown Node**\n",
    "Always **shutdown** the ROS2 node to prevent memory leaks."
   ]
  },
  {
   "cell_type": "code",
   "execution_count": null,
   "metadata": {},
   "outputs": [],
   "source": [
    "lidar_node.destroy_node()\n",
    "rclpy.shutdown()\n",
    "print('LiDAR Node Shutdown Complete.')"
   ]
  }
 ],
 "metadata": {
  "kernelspec": {
   "display_name": "Python 3",
   "language": "python"
  },
  "language_info": {
   "name": "python",
   "version": "3.8.10"
  }
 },
 "nbformat": 4,
 "nbformat_minor": 4
}