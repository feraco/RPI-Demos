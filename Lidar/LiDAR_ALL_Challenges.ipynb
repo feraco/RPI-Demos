{
 "cells": [
  {
   "cell_type": "markdown",
   "id": "2a76e93e",
   "metadata": {},
   "source": [
    "<small>\n",
    "Part of the InnovatED STEM and DroneBlocks Land, Air, and Sea Robotics Curriculum  \n",
    "Licensed for educational use in schools only.  \n",
    "Redistribution, commercial use, or resale is strictly prohibited.  \n",
    "© 2025 InnovatED STEM & DroneBlocks. All rights reserved.\n",
    "</small>"
   ]
  },
  {
   "cell_type": "markdown",
   "id": "0f331929",
   "metadata": {},
   "source": [
    "### LiDAR Challenge Notebook\n",
    "This notebook has been modified to include ROS2 setup and restructured to present each challenge with its own code cell."
   ]
  },
  {
   "cell_type": "code",
   "execution_count": null,
   "id": "86234aa1",
   "metadata": {},
   "outputs": [],
   "source": [
    "#  Import and start ROS2 control node and Lidar utility\n",
    "import rclpy\n",
    "from omni_robot_controller import OmniWheelControlNode\n",
    "from lidar_utils import LidarFunctions\n",
    "\n",
    "rclpy.init()\n",
    "node = OmniWheelControlNode()\n",
    "lidar = LidarFunctions()\n",
    "rclpy.spin_once(lidar)  # Get LiDAR data once"
   ]
  },
  {
   "cell_type": "code",
   "execution_count": null,
   "id": "2bada4c7",
   "metadata": {},
   "outputs": [],
   "source": [
    "#  Launch LiDAR Node in background\n",
    "import subprocess\n",
    "\n",
    "lidar_process = subprocess.Popen(\n",
    "    \"source /opt/ros/humble/setup.bash && \"\n",
    "    \"source ~/ros2_ws/install/setup.bash && \"\n",
    "    \"ros2 launch app lidar_node.launch.py debug:=true\",\n",
    "    shell=True,\n",
    "    executable=\"/bin/bash\"\n",
    ")"
   ]
  },
  {
   "cell_type": "markdown",
   "id": "dc0811fe",
   "metadata": {},
   "source": [
    "#  LiDAR Hardware Challenge with RGB LED & Buzzer (ROS2)\n",
    "This notebook launches a LiDAR node, reads distance data, and reacts with:\n",
    "- RGB LED color changes\n",
    "- Buzzer alerts\n",
    "\n",
    "It uses both `LidarFunctions` (from `lidar_utils.py`) and `OmniWheelControlNode`."
   ]
  },
  {
   "cell_type": "markdown",
   "id": "6b96a354",
   "metadata": {},
   "source": [
    "##  Print LiDAR Distances (front, left, right, back)"
   ]
  },
  {
   "cell_type": "markdown",
   "id": "c5d53321",
   "metadata": {},
   "source": [
    "##  Challenge 1: Use RGB LED Based on Distance"
   ]
  },
  {
   "cell_type": "code",
   "execution_count": null,
   "id": "6ae18db2",
   "metadata": {},
   "outputs": [],
   "source": [
    "#  Solution code here"
   ]
  },
  {
   "cell_type": "markdown",
   "id": "7b5025c8",
   "metadata": {},
   "source": [
    "##  Challenge 2: Buzzer Alert for Very Close Obstacles"
   ]
  },
  {
   "cell_type": "code",
   "execution_count": null,
   "id": "9b5f7136",
   "metadata": {},
   "outputs": [],
   "source": [
    "#  Solution code here"
   ]
  },
  {
   "cell_type": "markdown",
   "id": "99b4d8de",
   "metadata": {},
   "source": [
    "##  Final Challenge: Custom Logic\n",
    "- Combine LED & buzzer\n",
    "- Try using `get_closest_obstacle()` or `avoid_obstacles()`"
   ]
  },
  {
   "cell_type": "markdown",
   "id": "7a4a3a9f",
   "metadata": {},
   "source": [
    "##  Challenge 3: Blink RGB LED if obstacle detected on the left or right\n",
    "- Use `blink(led_id, r, g, b, repeat, delay)` to warn\n"
   ]
  },
  {
   "cell_type": "code",
   "execution_count": null,
   "id": "4662b670",
   "metadata": {},
   "outputs": [],
   "source": [
    "#  Solution code here"
   ]
  },
  {
   "cell_type": "markdown",
   "id": "64a08c81",
   "metadata": {},
   "source": [
    "##  Challenge 4: Use `get_closest_obstacle()` to report and react\n",
    "- Display the closest direction\n",
    "- Change LED to red if obstacle < 0.25m"
   ]
  },
  {
   "cell_type": "code",
   "execution_count": null,
   "id": "0322404c",
   "metadata": {},
   "outputs": [],
   "source": [
    "#  Solution code here"
   ]
  },
  {
   "cell_type": "markdown",
   "id": "142cc059",
   "metadata": {},
   "source": [
    "##  Challenge 5: Use `avoid_obstacles()` for decision making\n",
    "- Print navigation advice\n",
    "- Optional: Use LED colors for guidance"
   ]
  },
  {
   "cell_type": "code",
   "execution_count": null,
   "id": "19e81c60",
   "metadata": {},
   "outputs": [],
   "source": [
    "#  Solution code here"
   ]
  },
  {
   "cell_type": "markdown",
   "id": "ea6bfbc3",
   "metadata": {},
   "source": [
    "##  Challenge: Multi-zone Reaction System\n",
    "- Create a system that:\n",
    "  - Blinks red for < 0.2m (danger)\n",
    "  - Solid yellow for 0.2–0.4m (caution)\n",
    "  - Green if all clear"
   ]
  }
 ],
 "metadata": {},
 "nbformat": 4,
 "nbformat_minor": 5
}
