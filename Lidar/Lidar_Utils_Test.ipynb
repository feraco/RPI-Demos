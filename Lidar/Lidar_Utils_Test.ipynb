{
 "cells": [
  {
   "cell_type": "markdown",
   "metadata": {},
   "source": [
    "# **Testing LiDAR Utility Functions**\n",
    "This notebook will help you test and understand the **LiDAR utility functions**.\n",
    "\n",
    "### **Objectives**\n",
    "- Load and use `lidar_utils.py`.\n",
    "- Test functions for extracting LiDAR distances.\n",
    "- Identify the closest obstacles and interpret their meaning.\n",
    "- Simulate obstacle avoidance logic."
   ]
  },
  {
   "cell_type": "code",
   "execution_count": null,
   "metadata": {},
   "outputs": [],
   "source": [
    "# Import necessary libraries\n",
    "import time\n",
    "import random\n",
    "import sys\n",
    "import os\n",
    "\n",
    "# Add parent directory to the Python path\n",
    "sys.path.insert(0, os.path.abspath('..'))\n",
    "import rclpy\n",
    "from controllers.lidar_utils import LidarFunctions  # Importing our LiDAR utilities\n"
   ]
  },
  {
   "cell_type": "markdown",
   "metadata": {},
   "source": [
    "## **1️⃣ Initialize LiDAR Node**\n",
    "Start the LiDAR utility node to receive data."
   ]
  },
  {
   "cell_type": "code",
   "execution_count": null,
   "metadata": {},
   "outputs": [],
   "source": [
    "# Initialize ROS2 and LiDAR node\n",
    "rclpy.init()\n",
    "lidar_node = LidarFunctions()\n",
    "print(\"✅ LiDAR Node Initialized.\")"
   ]
  },
  {
   "cell_type": "markdown",
   "metadata": {},
   "source": [
    "## **2️⃣ Get and Print LiDAR Distances**\n",
    "This function retrieves the **front, left, right, and back distances** from the LiDAR sensor.\n",
    "\n",
    "**Expected Output:**\n",
    "- 📡 **Front**: Distance in meters (e.g., 1.2m)\n",
    "- 🔹 **Left/Right**: Detects obstacles on the sides.\n",
    "- 🔸 **Back**: Checks space behind the LandBot."
   ]
  },
  {
   "cell_type": "code",
   "execution_count": null,
   "metadata": {},
   "outputs": [],
   "source": [
    "# Read LiDAR distances\n",
    "rclpy.spin_once(lidar_node)  # Process LiDAR data once\n",
    "distances = lidar_node.get_lidar_distances()\n",
    "print(\"📡 LiDAR Distances:\", distances)"
   ]
  },
  {
   "cell_type": "markdown",
   "metadata": {},
   "source": [
    "## **3️⃣ Check If Path Is Clear**\n",
    "This function determines whether there are **any obstacles within a given threshold distance**.\n",
    "\n",
    "**Expected Output:**\n",
    "- ✅ **True**: No obstacles nearby, safe to move.\n",
    "- 🚨 **False**: Obstacles detected, movement should be adjusted."
   ]
  },
  {
   "cell_type": "code",
   "execution_count": null,
   "metadata": {},
   "outputs": [],
   "source": [
    "# Check if there are obstacles within 0.5 meters\n",
    "path_clear = lidar_node.is_path_clear(threshold=0.5)\n",
    "print(\"🛤️ Is the path clear?\", path_clear)"
   ]
  },
  {
   "cell_type": "markdown",
   "metadata": {},
   "source": [
    "## **4️⃣ Find the Closest Obstacle**\n",
    "This function identifies **where the nearest obstacle is located**.\n",
    "\n",
    "**Expected Output:**\n",
    "- 🔴 **Closest obstacle direction** (e.g., `'front'`, `'left'`, `'right'`, `'back'`).\n",
    "- 📏 **Distance** to the closest obstacle in meters."
   ]
  },
  {
   "cell_type": "code",
   "execution_count": null,
   "metadata": {},
   "outputs": [],
   "source": [
    "# Find the closest obstacle direction and distance\n",
    "closest_obstacle = lidar_node.get_closest_obstacle()\n",
    "print(\"🔴 Closest Obstacle:\", closest_obstacle)"
   ]
  },
  {
   "cell_type": "markdown",
   "metadata": {},
   "source": [
    "## **5️⃣ Navigation Decision: Avoid Obstacles**\n",
    "This function provides **suggestions on how to navigate based on detected obstacles**.\n",
    "\n",
    "**Expected Output:**\n",
    "- 🚨 **Obstacle warnings** (e.g., \"Obstacle in front! Turn left or right!\")\n",
    "- ✅ **Safe movement suggestions** (e.g., \"All clear! Proceed forward.\")"
   ]
  },
  {
   "cell_type": "code",
   "execution_count": null,
   "metadata": {},
   "outputs": [],
   "source": [
    "# Get navigation recommendations based on LiDAR readings\n",
    "lidar_node.avoid_obstacles()"
   ]
  },
  {
   "cell_type": "markdown",
   "metadata": {},
   "source": [
    "## **6️⃣ Shutdown LiDAR Node**\n",
    "Always **shutdown** the ROS2 node when done to free system resources."
   ]
  },
  {
   "cell_type": "code",
   "execution_count": null,
   "metadata": {},
   "outputs": [],
   "source": [
    "lidar_node.destroy_node()\n",
    "rclpy.shutdown()\n",
    "print('✅ LiDAR Node Shutdown Complete.')"
   ]
  }
 ],
 "metadata": {
  "kernelspec": {
   "display_name": "Python 3",
   "language": "python3"
  },
  "language_info": {
   "name": "python",
   "version": "3.8.10"
  }
 },
 "nbformat": 4,
 "nbformat_minor": 4
}
