{
 "cells": [
  {
   "cell_type": "markdown",
   "metadata": {},
   "source": [
    "<small>\n",
    "Part of the InnovatED STEM and DroneBlocks Land, Air, and Sea Robotics Curriculum  \n",
    "Licensed for educational use in schools only.  \n",
    "Redistribution, commercial use, or resale is strictly prohibited.  \n",
    "\u00a9 2025 InnovatED STEM & DroneBlocks. All rights reserved.\n",
    "</small>"
   ]
  },
  {
   "cell_type": "markdown",
   "metadata": {},
   "source": [
    "# **Experimenting with LiDAR Obstacle Avoidance**\n",
    "This Jupyter Notebook will allow you to test and experiment with the obstacle avoidance features using LiDAR in ROS2.\n",
    "\n",
    "## **\ud83d\udd39 Learning Objectives**\n",
    "- Understand how LiDAR detects obstacles.\n",
    "- Learn to retrieve and analyze LiDAR data.\n",
    "- Implement obstacle avoidance behaviors.\n",
    "- Visualize LiDAR distance data.\n"
   ]
  },
  {
   "cell_type": "markdown",
   "metadata": {},
   "source": [
    "## **1\ufe0f\u20e3 Setting Up the Environment**\n",
    "Before running the experiment, ensure that ROS2 and your LiDAR node are correctly set up and running.\n",
    "Run the following command in the terminal to launch the LiDAR node:\n",
    "```bash\n",
    "ros2 launch app lidar_node.launch.py debug:=true\n",
    "```\n",
    "\n",
    "**Import necessary libraries and initialize the node:**"
   ]
  },
  {
   "cell_type": "code",
   "execution_count": null,
   "metadata": {},
   "outputs": [],
   "source": [
    "import time\n",
    "import random\n",
    "import sys\n",
    "import os\n",
    "\n",
    "# Add parent directory to the Python path\n",
    "sys.path.insert(0, os.path.abspath('..'))\n",
    "import rclpy\n",
    "from controllers.lidar_controller import LidarController  # Ensure this file is in the same directory\n",
    "\n",
    "# Initialize ROS2\n",
    "rclpy.init()\n",
    "node = LidarController(\"lidar_experiment\")\n",
    "print(\"\u2705 LiDAR Node Initialized\")"
   ]
  },
  {
   "cell_type": "markdown",
   "metadata": {},
   "source": [
    "## **2\ufe0f\u20e3 Retrieving LiDAR Data**\n",
    "To understand obstacle avoidance, we need to retrieve LiDAR distance data from different directions.\n",
    "\n",
    "Run the following cell to check the distances from the front, back, left, and right."
   ]
  },
  {
   "cell_type": "code",
   "execution_count": null,
   "metadata": {},
   "outputs": [],
   "source": [
    "# Print LiDAR distances in different directions\n",
    "rclpy.spin_once(node)  # Process LiDAR data\n",
    "print(f'Front Distance: {node.front_distance:.2f} meters')\n",
    "print(f'Back Distance: {node.back_distance:.2f} meters')\n",
    "print(f'Left Distance: {node.left_distance:.2f} meters')\n",
    "print(f'Right Distance: {node.right_distance:.2f} meters')"
   ]
  },
  {
   "cell_type": "markdown",
   "metadata": {},
   "source": [
    "## **3\ufe0f\u20e3 Implementing Basic Obstacle Avoidance**\n",
    "The robot should move forward if there are no obstacles. If an obstacle is detected, it should stop and turn left."
   ]
  },
  {
   "cell_type": "code",
   "execution_count": null,
   "metadata": {},
   "outputs": [],
   "source": [
    "# Simple obstacle avoidance logic\n",
    "if node.front_distance < 0.5:\n",
    "    print('\ud83d\udea8 Obstacle detected! Stopping and turning left.')\n",
    "    node.move_left(0.5, 2.0)\n",
    "else:\n",
    "    print('\u2705 No obstacles. Moving forward.')\n",
    "    node.move_forward(0.5, 2.0)"
   ]
  },
  {
   "cell_type": "markdown",
   "metadata": {},
   "source": [
    "## **4\ufe0f\u20e3 Visualizing LiDAR Data**\n",
    "A bar graph will help us understand the distance data in different directions."
   ]
  },
  {
   "cell_type": "code",
   "execution_count": null,
   "metadata": {},
   "outputs": [],
   "source": [
    "import matplotlib.pyplot as plt\n",
    "\n",
    "# Retrieve distances\n",
    "distances = {\n",
    "    'Front': node.front_distance,\n",
    "    'Back': node.back_distance,\n",
    "    'Left': node.left_distance,\n",
    "    'Right': node.right_distance\n",
    "}\n",
    "\n",
    "# Plot the distances\n",
    "plt.figure(figsize=(6,4))\n",
    "plt.bar(distances.keys(), distances.values(), color=['red', 'blue', 'green', 'purple'])\n",
    "plt.xlabel('Direction')\n",
    "plt.ylabel('Distance (m)')\n",
    "plt.title('LiDAR Distance Readings')\n",
    "plt.show()"
   ]
  },
  {
   "cell_type": "markdown",
   "metadata": {},
   "source": [
    "## **5\ufe0f\u20e3 Advanced Challenge**\n",
    "Modify the code to make the robot turn **right** instead of left when detecting an obstacle."
   ]
  },
  {
   "cell_type": "code",
   "execution_count": null,
   "metadata": {},
   "outputs": [],
   "source": [
    "# Modify this code to turn right instead of left\n",
    "if node.front_distance < 0.5:\n",
    "    print('\ud83d\udea8 Obstacle detected! Turning RIGHT instead.')\n",
    "    node.move_right(0.5, 2.0)\n",
    "else:\n",
    "    print('\u2705 No obstacles. Moving forward.')\n",
    "    node.move_forward(0.5, 2.0)"
   ]
  },
  {
   "cell_type": "markdown",
   "metadata": {},
   "source": [
    "## **6\ufe0f\u20e3 Shutting Down the LiDAR Node**\n",
    "Once you're done, shut down the LiDAR node to free system resources."
   ]
  },
  {
   "cell_type": "code",
   "execution_count": null,
   "metadata": {},
   "outputs": [],
   "source": [
    "# Shutdown ROS2 node\n",
    "node.destroy_node()\n",
    "rclpy.shutdown()\n",
    "print('\u2705 Node shutdown complete.')"
   ]
  }
 ],
 "metadata": {
  "kernelspec": {
   "display_name": "Python 3",
   "language": "python"
  },
  "language_info": {
   "name": "python",
   "version": "3.8.10"
  }
 },
 "nbformat": 4,
 "nbformat_minor": 4
}