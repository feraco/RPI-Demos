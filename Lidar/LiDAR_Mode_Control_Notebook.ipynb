{
 "cells": [
  {
   "cell_type": "markdown",
   "id": "dcda95a7",
   "metadata": {},
   "source": [
    "# LiDAR Mode Control Notebook\n",
    "This notebook explains and demonstrates how to control different LiDAR modes (Obstacle Avoidance, Follow Mode, and Guarding Mode) using ROS2 on the MentorPi robot."
   ]
  },
  {
   "cell_type": "markdown",
   "id": "2c0df782",
   "metadata": {},
   "source": [
    "## Learning Objectives\n",
    "By the end of this notebook, you will be able to:\n",
    "1. **Understand the fundamental principles of LiDAR technology**, including how it detects objects using laser beams and the components involved in a LiDAR system.\n",
    "2. **Identify and differentiate between the three primary LiDAR modes**—Obstacle Avoidance, Follow Mode, and Guarding Mode—and explain how each mode utilizes LiDAR data for autonomous behavior.\n",
    "3. **Demonstrate the ability to initiate and control different LiDAR modes** on the MentorPi robot using both the WondePi app and ROS2 command-line interface."
   ]
  },
  {
   "cell_type": "markdown",
   "id": "df47e8bf",
   "metadata": {},
   "source": [
    "## Environment Setup\n",
    "Before running any LiDAR commands, make sure you are connected to the robot via VNC or SSH, and that your ROS2 environment is properly sourced."
   ]
  },
  {
   "cell_type": "code",
   "execution_count": null,
   "id": "1de71388",
   "metadata": {},
   "outputs": [],
   "source": [
    "# Optional: Stop the default app if it's running\n",
    "!~/.stop_ros.sh"
   ]
  },
  {
   "cell_type": "markdown",
   "id": "95b614a3",
   "metadata": {},
   "source": [
    "## Start LiDAR Node\n",
    "Launch the LiDAR control node so the robot can process LiDAR sensor data."
   ]
  },
  {
   "cell_type": "code",
   "execution_count": null,
   "id": "360c4cbe",
   "metadata": {},
   "outputs": [],
   "source": [
    "# Start LiDAR node (non-blocking)\n",
    "!ros2 launch app lidar_node.launch.py debug:=true"
   ]
  },
  {
   "cell_type": "markdown",
   "id": "d9c8753e",
   "metadata": {},
   "source": [
    "## Enter LiDAR Game\n",
    "This prepares the robot to accept a LiDAR mode."
   ]
  },
  {
   "cell_type": "code",
   "execution_count": null,
   "id": "97778dbc",
   "metadata": {},
   "outputs": [],
   "source": [
    "!ros2 service call /lidar_app/enter std_srvs/srv/Trigger {}"
   ]
  },
  {
   "cell_type": "markdown",
   "id": "3d1d7a09",
   "metadata": {},
   "source": [
    "## Obstacle Avoidance Mode (Mode 1)\n",
    "The robot will detect objects and avoid them using LiDAR."
   ]
  },
  {
   "cell_type": "code",
   "execution_count": null,
   "id": "d4586874",
   "metadata": {},
   "outputs": [],
   "source": [
    "!ros2 service call /lidar_app/set_running interfaces/srv/SetInt64 \"{data: 1}\""
   ]
  },
  {
   "cell_type": "markdown",
   "id": "499e086e",
   "metadata": {},
   "source": [
    "## Follow Mode (Mode 2)\n",
    "The robot will attempt to follow the closest object in front."
   ]
  },
  {
   "cell_type": "code",
   "execution_count": null,
   "id": "4d37994b",
   "metadata": {},
   "outputs": [],
   "source": [
    "!ros2 service call /lidar_app/set_running interfaces/srv/SetInt64 \"{data: 2}\""
   ]
  },
  {
   "cell_type": "markdown",
   "id": "1ff941dd",
   "metadata": {},
   "source": [
    "## Guarding Mode (Mode 3)\n",
    "The robot remains stationary and watches for any intrusions in its scan zone."
   ]
  },
  {
   "cell_type": "code",
   "execution_count": null,
   "id": "d5047a5e",
   "metadata": {},
   "outputs": [],
   "source": [
    "!ros2 service call /lidar_app/set_running interfaces/srv/SetInt64 \"{data: 3}\""
   ]
  },
  {
   "cell_type": "markdown",
   "id": "48567679",
   "metadata": {},
   "source": [
    "## Stop Current Mode\n",
    "Stops the currently running LiDAR behavior."
   ]
  },
  {
   "cell_type": "code",
   "execution_count": null,
   "id": "7943b70e",
   "metadata": {},
   "outputs": [],
   "source": [
    "!ros2 service call /lidar_app/set_running interfaces/srv/SetInt64 \"{data: 0}\""
   ]
  },
  {
   "cell_type": "markdown",
   "id": "7b9a076d",
   "metadata": {},
   "source": [
    "## Restart App Service (Optional)\n",
    "Use this to restart the app service if needed."
   ]
  },
  {
   "cell_type": "code",
   "execution_count": null,
   "id": "de8752b7",
   "metadata": {},
   "outputs": [],
   "source": [
    "!sudo systemctl restart start_node.service"
   ]
  }
 ],
 "metadata": {},
 "nbformat": 4,
 "nbformat_minor": 5
}