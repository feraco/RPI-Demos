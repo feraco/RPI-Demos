{
 "cells": [
  {
   "cell_type": "markdown",
   "id": "5f0c2524",
   "metadata": {},
   "source": [
    "<small>\n",
    "Part of the InnovatED STEM and DroneBlocks Land, Air, and Sea Robotics Curriculum  \n",
    "Licensed for educational use in schools only.  \n",
    "Redistribution, commercial use, or resale is strictly prohibited.  \n",
    "© 2025 InnovatED STEM & DroneBlocks. All rights reserved.\n",
    "</small>"
   ]
  },
  {
   "cell_type": "markdown",
   "id": "dc0811fe",
   "metadata": {},
   "source": [
    "#  LiDAR Hardware Challenge with RGB LED & Buzzer (ROS2)\n",
    "This notebook launches a LiDAR node, reads distance data, and reacts with:\n",
    "- RGB LED color changes\n",
    "- Buzzer alerts\n",
    "\n",
    "It uses both `LidarFunctions` (from `lidar_utils.py`) and `OmniWheelControlNode`."
   ]
  },
  {
   "cell_type": "code",
   "execution_count": null,
   "id": "44bff14f",
   "metadata": {},
   "outputs": [],
   "source": [
    "#  Launch LiDAR Node in background\n",
    "import subprocess\n",
    "\n",
    "lidar_process = subprocess.Popen(\n",
    "    \"source /opt/ros/humble/setup.bash && \"\n",
    "    \"source ~/ros2_ws/install/setup.bash && \"\n",
    "    \"ros2 launch app lidar_node.launch.py debug:=true\",\n",
    "    shell=True,\n",
    "    executable=\"/bin/bash\"\n",
    ")"
   ]
  },
  {
   "cell_type": "code",
   "execution_count": null,
   "id": "c3f9a1c3",
   "metadata": {},
   "outputs": [],
   "source": [
    "#  Import and start ROS2 control node and Lidar utility\n",
    "import rclpy\n",
    "from omni_robot_controller import OmniWheelControlNode\n",
    "from lidar_utils import LidarFunctions\n",
    "\n",
    "rclpy.init()\n",
    "node = OmniWheelControlNode()\n",
    "lidar = LidarFunctions()\n",
    "rclpy.spin_once(lidar)  # Get LiDAR data once\n"
   ]
  },
  {
   "cell_type": "markdown",
   "id": "6b96a354",
   "metadata": {},
   "source": [
    "##  Print LiDAR Distances (front, left, right, back)"
   ]
  },
  {
   "cell_type": "code",
   "execution_count": null,
   "id": "7c9bcdfa",
   "metadata": {},
   "outputs": [],
   "source": [
    "distances = lidar.get_lidar_distances()\n",
    "print(\"Distances:\", distances)"
   ]
  },
  {
   "cell_type": "markdown",
   "id": "f7ddd962",
   "metadata": {},
   "source": [
    "##  Task 1: Use RGB LED Based on Distance"
   ]
  },
  {
   "cell_type": "code",
   "execution_count": null,
   "id": "72f1704e",
   "metadata": {},
   "outputs": [],
   "source": [
    "if distances:\n",
    "    if distances['front'] < 0.3:\n",
    "        node.set_color(1, 255, 0, 0)  # RED\n",
    "    elif distances['left'] < 0.3 or distances['right'] < 0.3:\n",
    "        node.set_color(1, 255, 255, 0)  # YELLOW\n",
    "    else:\n",
    "        node.set_color(1, 0, 255, 0)  # GREEN\n",
    "else:\n",
    "    print(\" No LiDAR data available\")"
   ]
  },
  {
   "cell_type": "markdown",
   "id": "d26905e2",
   "metadata": {},
   "source": [
    "##  Task 2: Buzzer Alert for Very Close Obstacles"
   ]
  },
  {
   "cell_type": "code",
   "execution_count": null,
   "id": "97d15c8a",
   "metadata": {},
   "outputs": [],
   "source": [
    "if distances and any(d < 0.2 for d in distances.values()):\n",
    "    node.play_buzzer(1000, 0.5, 0.5, 2)"
   ]
  },
  {
   "cell_type": "markdown",
   "id": "99b4d8de",
   "metadata": {},
   "source": [
    "##  Final Challenge: Custom Logic\n",
    "- Combine LED & buzzer\n",
    "- Try using `get_closest_obstacle()` or `avoid_obstacles()`"
   ]
  },
  {
   "cell_type": "code",
   "execution_count": null,
   "id": "7fe8dd5e",
   "metadata": {},
   "outputs": [],
   "source": [
    "#  Your custom reactive code below\n"
   ]
  },
  {
   "cell_type": "markdown",
   "id": "ce50bd17",
   "metadata": {},
   "source": [
    "##  Task 3: Blink RGB LED if obstacle detected on the left or right\n",
    "- Use `blink(led_id, r, g, b, repeat, delay)` to warn\n"
   ]
  },
  {
   "cell_type": "code",
   "execution_count": null,
   "id": "c3b0beb9",
   "metadata": {},
   "outputs": [],
   "source": [
    "if distances:\n",
    "    if distances['left'] < 0.3 or distances['right'] < 0.3:\n",
    "        node.blink(1, 255, 255, 0, 3, 0.3)  # Yellow blink\n"
   ]
  },
  {
   "cell_type": "markdown",
   "id": "037eae63",
   "metadata": {},
   "source": [
    "##  Task 4: Use `get_closest_obstacle()` to report and react\n",
    "- Display the closest direction\n",
    "- Change LED to red if obstacle < 0.25m"
   ]
  },
  {
   "cell_type": "code",
   "execution_count": null,
   "id": "2340a9f3",
   "metadata": {},
   "outputs": [],
   "source": [
    "direction, distance = lidar.get_closest_obstacle()\n",
    "print(f\" Closest obstacle: {direction} ({distance:.2f}m)\")\n",
    "\n",
    "if distance < 0.25:\n",
    "    node.set_color(1, 255, 0, 0)  # Red alert\n",
    "    node.play_buzzer(1500, 0.3, 0.5, 2)\n"
   ]
  },
  {
   "cell_type": "markdown",
   "id": "49e68b40",
   "metadata": {},
   "source": [
    "##  Task 5: Use `avoid_obstacles()` for decision making\n",
    "- Print navigation advice\n",
    "- Optional: Use LED colors for guidance"
   ]
  },
  {
   "cell_type": "code",
   "execution_count": null,
   "id": "f65e685b",
   "metadata": {},
   "outputs": [],
   "source": [
    "lidar.avoid_obstacles()  # Prints advice (e.g., Turn left or right)\n",
    "\n",
    "# Optional visual cue\n",
    "if distances and distances['front'] < 0.3:\n",
    "    node.set_color(1, 255, 165, 0)  # Orange - front warning\n"
   ]
  },
  {
   "cell_type": "markdown",
   "id": "ea6bfbc3",
   "metadata": {},
   "source": [
    "##  Challenge: Multi-zone Reaction System\n",
    "- Create a system that:\n",
    "  - Blinks red for < 0.2m (danger)\n",
    "  - Solid yellow for 0.2–0.4m (caution)\n",
    "  - Green if all clear"
   ]
  },
  {
   "cell_type": "code",
   "execution_count": null,
   "id": "009f6562",
   "metadata": {},
   "outputs": [],
   "source": [
    "#  Your advanced reactive logic here:\n"
   ]
  }
 ],
 "metadata": {
  "language_info": {
   "name": "python"
  }
 },
 "nbformat": 4,
 "nbformat_minor": 5
}
