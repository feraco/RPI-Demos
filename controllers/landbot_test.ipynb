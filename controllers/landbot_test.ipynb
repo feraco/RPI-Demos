{
 "cells": [
  {
   "cell_type": "markdown",
   "metadata": {},
   "source": [
    "<small>\n",
    "Part of the InnovatED STEM and DroneBlocks Land, Air, and Sea Robotics Curriculum  \n",
    "Licensed for educational use in schools only.  \n",
    "Redistribution, commercial use, or resale is strictly prohibited.  \n",
    "© 2025 InnovatED STEM & DroneBlocks. All rights reserved.\n",
    "</small>"
   ]
  },
  {
   "cell_type": "markdown",
   "metadata": {},
   "source": [
    "#  LandBot Simulator & ROS2 Control\n",
    "This notebook tests the **LandBot Simulator** and can also send commands to a **real ROS2 LandBot**.\n",
    "\n",
    "### ** Instructions:**\n",
    "1. **Set `USE_REAL_LANDBOT = False`** to run in **simulation mode**.\n",
    "2. **Set `USE_REAL_LANDBOT = True`** to send commands to a **real LandBot via ROS2**.\n",
    "3. **Each movement updates the cumulative movement plot.**\n",
    "4. **Ensure `landbot_sim.py` is in the same directory.**\n"
   ]
  },
  {
   "cell_type": "code",
   "execution_count": null,
   "metadata": {},
   "outputs": [],
   "source": [
    "# Import necessary modules\n",
    "import time\n",
    "from landbot_sim import LandBotSimulator  # Ensure this file is accessible\n",
    "import matplotlib.pyplot as plt\n"
   ]
  },
  {
   "cell_type": "code",
   "execution_count": null,
   "metadata": {},
   "outputs": [],
   "source": [
    "#  Set mode: False for simulation, True for real LandBot\n",
    "USE_REAL_LANDBOT = False  # Change to True to control the real robot\n",
    "\n",
    "# Initialize LandBot Simulator (or real ROS2 LandBot)\n",
    "landbot = LandBotSimulator(real=USE_REAL_LANDBOT)\n",
    "print(\"\\n LandBot Testing Started\")"
   ]
  },
  {
   "cell_type": "code",
   "execution_count": null,
   "metadata": {},
   "outputs": [],
   "source": [
    "#  Move Forward\n",
    "landbot.move_forward(1.0, 2.0)\n",
    "time.sleep(2)\n",
    "landbot.plot_flight_path()  # Plot cumulative movement"
   ]
  },
  {
   "cell_type": "code",
   "execution_count": null,
   "metadata": {},
   "outputs": [],
   "source": [
    "#  Rotate Right 90 Degrees\n",
    "landbot.rotate_right(90)\n",
    "time.sleep(2)\n",
    "landbot.plot_bearing()  # Plot rotation in degrees"
   ]
  },
  {
   "cell_type": "code",
   "execution_count": null,
   "metadata": {},
   "outputs": [],
   "source": [
    "#  Move Forward Again\n",
    "landbot.move_forward(1.0, 2.0)\n",
    "time.sleep(2)\n",
    "landbot.plot_flight_path()  # Plot cumulative movement"
   ]
  },
  {
   "cell_type": "code",
   "execution_count": null,
   "metadata": {},
   "outputs": [],
   "source": [
    "#  Move Left\n",
    "landbot.move_left(0.5, 1.5)\n",
    "time.sleep(2)\n",
    "landbot.plot_flight_path()"
   ]
  },
  {
   "cell_type": "code",
   "execution_count": null,
   "metadata": {},
   "outputs": [],
   "source": [
    "#  Rotate Left 45 Degrees\n",
    "landbot.rotate_left(45)\n",
    "time.sleep(2)\n",
    "landbot.plot_bearing()  # Plot rotation in degrees"
   ]
  },
  {
   "cell_type": "code",
   "execution_count": null,
   "metadata": {},
   "outputs": [],
   "source": [
    "#  Move Backward\n",
    "landbot.move_backward(1.0, 2.0)\n",
    "time.sleep(2)\n",
    "landbot.plot_flight_path()  # Plot final movement path"
   ]
  },
  {
   "cell_type": "code",
   "execution_count": null,
   "metadata": {},
   "outputs": [],
   "source": [
    "#  Final Plot\n",
    "landbot.plot_flight_path()  # Show all movements in one final cumulative plot"
   ]
  }
 ],
 "metadata": {
  "kernelspec": {
   "display_name": "Python 3",
   "language": "python",
   "name": "python3"
  },
  "language_info": {
   "name": "python",
   "version": "3.8"
  }
 },
 "nbformat": 4,
 "nbformat_minor": 4
}
