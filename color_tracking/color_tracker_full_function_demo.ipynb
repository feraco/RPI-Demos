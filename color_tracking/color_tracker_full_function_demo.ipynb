{
 "cells": [
  {
   "cell_type": "markdown",
   "id": "c6cabf51",
   "metadata": {},
   "source": [
    "# Color Tracker Function Demos\n",
    "This notebook demonstrates all the major functions available in `color_tracker_notebook_friendly.py`, including live color tracking and object info extraction.\n",
    "You'll learn how to:\n",
    "- Use the `ColorTracker` class directly\n",
    "- Use `is_color_detected()` with a single command\n",
    "- Use `get_detected_objects_info()`\n",
    "- Use the full `run_color_tracking()` loop for real-time display"
   ]
  },
  {
   "cell_type": "code",
   "execution_count": null,
   "id": "9b22a343",
   "metadata": {},
   "outputs": [],
   "source": [
    "import rclpy\n",
    "from color_tracker_notebook_friendly import ColorTracker, is_color_detected, run_color_tracking\n",
    "import cv2, time\n",
    "import matplotlib.pyplot as plt\n",
    "from IPython.display import display, clear_output"
   ]
  },
  {
   "cell_type": "markdown",
   "id": "3db047ed",
   "metadata": {},
   "source": [
    "## Create a Tracker Node for 'green'"
   ]
  },
  {
   "cell_type": "code",
   "execution_count": null,
   "id": "9d90003a",
   "metadata": {},
   "outputs": [],
   "source": [
    "rclpy.init()\n",
    "tracker = ColorTracker(color_name='green')"
   ]
  },
  {
   "cell_type": "markdown",
   "id": "21f98ebf",
   "metadata": {},
   "source": [
    "## Grab and Process a Frame"
   ]
  },
  {
   "cell_type": "code",
   "execution_count": null,
   "id": "985c1773",
   "metadata": {},
   "outputs": [],
   "source": [
    "rclpy.spin_once(tracker, timeout_sec=0.1)\n",
    "if not tracker.image_queue.empty():\n",
    "    frame = tracker.image_queue.get()\n",
    "    tracker.process_frame(frame)\n",
    "    print(\"Frame processed.\")"
   ]
  },
  {
   "cell_type": "markdown",
   "id": "f2eba946",
   "metadata": {},
   "source": [
    "## Use `is_color_detected()` Method"
   ]
  },
  {
   "cell_type": "code",
   "execution_count": null,
   "id": "c9590829",
   "metadata": {},
   "outputs": [],
   "source": [
    "if tracker.is_color_detected():\n",
    "    print(\"Color detected!\")\n",
    "else:\n",
    "    print(\"No color detected.\")"
   ]
  },
  {
   "cell_type": "markdown",
   "id": "2e057288",
   "metadata": {},
   "source": [
    "## Show Processed Frame"
   ]
  },
  {
   "cell_type": "code",
   "execution_count": null,
   "id": "d8a1a1ac",
   "metadata": {},
   "outputs": [],
   "source": [
    "rgb = cv2.cvtColor(tracker.processed_frame, cv2.COLOR_BGR2RGB)\n",
    "plt.figure(figsize=(8, 6))\n",
    "plt.imshow(rgb)\n",
    "plt.title(\"Tracked Frame\")\n",
    "plt.axis('off')\n",
    "plt.show()"
   ]
  },
  {
   "cell_type": "markdown",
   "id": "d39ffd12",
   "metadata": {},
   "source": [
    "## Use `get_detected_objects_info()`"
   ]
  },
  {
   "cell_type": "code",
   "execution_count": null,
   "id": "6f155b07",
   "metadata": {},
   "outputs": [],
   "source": [
    "print(tracker.get_detected_objects_info())"
   ]
  },
  {
   "cell_type": "markdown",
   "id": "18ce5386",
   "metadata": {},
   "source": [
    "## Cleanup ROS Node"
   ]
  },
  {
   "cell_type": "code",
   "execution_count": null,
   "id": "a0391a45",
   "metadata": {},
   "outputs": [],
   "source": [
    "tracker.destroy_node()\n",
    "rclpy.shutdown()"
   ]
  },
  {
   "cell_type": "markdown",
   "id": "3476e1c9",
   "metadata": {},
   "source": [
    "## Use Top-Level `is_color_detected()` Wrapper"
   ]
  },
  {
   "cell_type": "code",
   "execution_count": null,
   "id": "f925ad22",
   "metadata": {},
   "outputs": [],
   "source": [
    "# Simple one-line detection using a helper function\n",
    "if is_color_detected('blue', duration=5):\n",
    "    print(\"Blue was detected!\")\n",
    "else:\n",
    "    print(\"Blue was not detected.\")"
   ]
  },
  {
   "cell_type": "markdown",
   "id": "3aaa8a75",
   "metadata": {},
   "source": [
    "## Use `run_color_tracking()` for Live Visualization"
   ]
  },
  {
   "cell_type": "code",
   "execution_count": null,
   "id": "3a720719",
   "metadata": {},
   "outputs": [],
   "source": [
    "# This function gives live updates with bounding circles and prints info if color is detected\n",
    "run_color_tracking(color='yellow', duration=6)"
   ]
  }
 ],
 "metadata": {},
 "nbformat": 4,
 "nbformat_minor": 5
}
