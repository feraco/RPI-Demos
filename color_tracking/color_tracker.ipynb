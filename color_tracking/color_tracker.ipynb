{
 "cells": [
  {
   "cell_type": "markdown",
   "id": "714757d8",
   "metadata": {},
   "source": [
    "# ROS2 Color Tracker via Helper Functions\n",
    "This notebook uses helper functions from the `color_tracker_ros2.py` file to detect and display color-tracked objects in real-time."
   ]
  },
  {
   "cell_type": "code",
   "execution_count": null,
   "id": "54ddba60",
   "metadata": {},
   "outputs": [],
   "source": [
    "import sys\n",
    "import os\n",
    "import time\n",
    "import cv2\n",
    "import matplotlib.pyplot as plt\n",
    "from IPython.display import clear_output, display\n",
    "\n",
    "sys.path.append(os.path.abspath('.'))\n",
    "\n",
    "from color_tracker_ros2 import run_color_tracking\n"
   ]
  },
  {
   "cell_type": "markdown",
   "id": "ce1ce5f6",
   "metadata": {},
   "source": [
    "## Run Color Detection"
   ]
  },
  {
   "cell_type": "code",
   "execution_count": null,
   "id": "cb588892",
   "metadata": {},
   "outputs": [],
   "source": [
    "# Track red objects for 5 seconds\n",
    "run_color_tracking(color='red', duration=5)\n"
   ]
  },
  {
   "cell_type": "code",
   "execution_count": null,
   "id": "189af99f",
   "metadata": {},
   "outputs": [],
   "source": [
    "# Track blue objects for 5 seconds\n",
    "run_color_tracking(color='blue', duration=5)\n"
   ]
  },
  {
   "cell_type": "code",
   "execution_count": null,
   "id": "35afe324",
   "metadata": {},
   "outputs": [],
   "source": [
    "# Track green objects for 5 seconds\n",
    "run_color_tracking(color='green', duration=5)\n"
   ]
  }
 ],
 "metadata": {},
 "nbformat": 4,
 "nbformat_minor": 5
}