{
 "cells": [
  {
   "cell_type": "markdown",
   "metadata": {},
   "source": [
    "<small>\n",
    "Part of the InnovatED STEM and DroneBlocks Land, Air, and Sea Robotics Curriculum  \n",
    "Licensed for educational use in schools only.  \n",
    "Redistribution, commercial use, or resale is strictly prohibited.  \n",
    "© 2025 InnovatED STEM & DroneBlocks. All rights reserved.\n",
    "</small>"
   ]
  },
  {
   "cell_type": "markdown",
   "metadata": {},
   "source": [
    "# Color Tracking Tutorial\n",
    "\n",
    "This notebook will guide you through using the **color tracking** module to detect and track colored objects with a camera.\n",
    "\n",
    "### Learning Objectives\n",
    "- Understand how color detection works using HSV color space\n",
    "- Learn to track specific colors in a video stream\n",
    "- Process information about detected objects\n",
    "- Create simple applications that respond to colored objects"
   ]
  },
  {
   "cell_type": "markdown",
   "metadata": {},
   "source": [
    "## Setup\n",
    "\n",
    "First, let's import the necessary modules and initialize our color tracker."
   ]
  },
  {
   "cell_type": "code",
   "execution_count": null,
   "metadata": {},
   "outputs": [],
   "source": [
    "import sys\n",
    "import os\n",
    "import time\n",
    "import cv2\n",
    "import numpy as np\n",
    "import matplotlib.pyplot as plt\n",
    "from IPython.display import clear_output, display\n",
    "\n",
    "# Add parent directory to the Python path\n",
    "sys.path.insert(0, os.path.abspath('..'))\n",
    "\n",
    "# Import our color tracking module\n",
    "from color_tracking.color_tracker import ColorTracker, PID, find_largest_object"
   ]
  },
  {
   "cell_type": "markdown",
   "metadata": {},
   "source": [
    "## Initialize the Color Tracker\n",
    "\n",
    "Let's create a ColorTracker object and start it. This will initialize the camera and begin processing frames."
   ]
  },
  {
   "cell_type": "code",
   "execution_count": null,
   "metadata": {},
   "outputs": [],
   "source": [
    "# Create a ColorTracker object (camera index 0 is usually the default camera)\n",
    "tracker = ColorTracker(camera_index=0)\n",
    "\n",
    "# Start the tracker\n",
    "tracker.start()\n",
    "\n",
    "# Give it a moment to initialize\n",
    "time.sleep(1)"
   ]
  },
  {
   "cell_type": "markdown",
   "metadata": {},
   "source": [
    "## Display the Camera Feed\n",
    "\n",
    "Let's see what the camera is seeing. We'll display both the raw camera feed and the processed image with detected objects highlighted."
   ]
  },
  {
   "cell_type": "code",
   "execution_count": null,
   "metadata": {},
   "outputs": [],
   "source": [
    "# Function to display images in the notebook\n",
    "def display_frames(tracker, duration=5):\n",
    "    \"\"\"Display the raw and processed frames for a specified duration.\"\"\"\n",
    "    start_time = time.time()\n",
    "    \n",
    "    while time.time() - start_time < duration:\n",
    "        # Get the frames\n",
    "        raw_frame = tracker.get_frame()\n",
    "        processed_frame = tracker.get_processed_frame()\n",
    "        \n",
    "        if raw_frame is None or processed_frame is None:\n",
    "            print(\"No frames available yet.\")\n",
    "            time.sleep(0.5)\n",
    "            continue\n",
    "        \n",
    "        # Convert from BGR to RGB for matplotlib\n",
    "        raw_rgb = cv2.cvtColor(raw_frame, cv2.COLOR_BGR2RGB)\n",
    "        processed_rgb = cv2.cvtColor(processed_frame, cv2.COLOR_BGR2RGB)\n",
    "        \n",
    "        # Create a figure with two subplots\n",
    "        plt.figure(figsize=(12, 6))\n",
    "        \n",
    "        plt.subplot(1, 2, 1)\n",
    "        plt.imshow(raw_rgb)\n",
    "        plt.title('Raw Camera Feed')\n",
    "        plt.axis('off')\n",
    "        \n",
    "        plt.subplot(1, 2, 2)\n",
    "        plt.imshow(processed_rgb)\n",
    "        plt.title(f'Processed Image - Tracking {tracker.current_color}')\n",
    "        plt.axis('off')\n",
    "        \n",
    "        # Display the figure\n",
    "        clear_output(wait=True)\n",
    "        display(plt.gcf())\n",
    "        plt.close()\n",
    "        \n",
    "        # Short delay\n",
    "        time.sleep(0.1)\n",
    "\n",
    "# Display frames for 5 seconds\n",
    "display_frames(tracker, duration=5)"
   ]
  },
  {
   "cell_type": "markdown",
   "metadata": {},
   "source": [
    "## Example 1: Changing the Tracked Color\n",
    "\n",
    "By default, the tracker is set to track red objects. Let's change it to track a different color."
   ]
  },
  {
   "cell_type": "code",
   "execution_count": null,
   "metadata": {},
   "outputs": [],
   "source": [
    "# Change to track green objects\n",
    "tracker.set_color('green')\n",
    "\n",
    "# Display frames for 5 seconds\n",
    "display_frames(tracker, duration=5)"
   ]
  },
  {
   "cell_type": "markdown",
   "metadata": {},
   "source": [
    "### Challenge 1: Track a Different Color\n",
    "\n",
    "Now it's your turn! Change the tracker to detect blue objects instead.\n",
    "Fill in the missing code below:"
   ]
  },
  {
   "cell_type": "code",
   "execution_count": null,
   "metadata": {},
   "outputs": [],
   "source": [
    "# Your code here:\n",
    "# tracker.set_color(?)\n",
    "\n",
    "# Display frames for 5 seconds\n",
    "# display_frames(tracker, duration=5)"
   ]
  },
  {
   "cell_type": "markdown",
   "metadata": {},
   "source": [
    "## Example 2: Getting Information About Detected Objects\n",
    "\n",
    "Let's see how to get information about the objects that are detected."
   ]
  },
  {
   "cell_type": "code",
   "execution_count": null,
   "metadata": {},
   "outputs": [],
   "source": [
    "# Set color to red for this example\n",
    "tracker.set_color('red')\n",
    "\n",
    "# Wait a moment for the tracker to adjust\n",
    "time.sleep(1)\n",
    "\n",
    "# Get information about detected objects\n",
    "objects = tracker.get_detected_objects()\n",
    "\n",
    "# Print information about each detected object\n",
    "print(f\"Detected {len(objects)} red objects:\")\n",
    "for i, obj in enumerate(objects):\n",
    "    print(f\"Object {i+1}:\")\n",
    "    print(f\"  Position: ({obj['x']:.1f}, {obj['y']:.1f})\")\n",
    "    print(f\"  Radius: {obj['radius']:.1f} pixels\")\n",
    "    print(f\"  Area: {obj['area']:.1f} square pixels\")\n",
    "    print()"
   ]
  },
  {
   "cell_type": "markdown",
   "metadata": {},
   "source": [
    "### Challenge 2: Find the Largest Object\n",
    "\n",
    "Write code to find and display information about only the largest detected object.\n",
    "Use the `find_largest_object` function we imported earlier."
   ]
  },
  {
   "cell_type": "code",
   "execution_count": null,
   "metadata": {},
   "outputs": [],
   "source": [
    "# Your code here:\n",
    "# objects = tracker.get_detected_objects()\n",
    "# largest = find_largest_object(objects)\n",
    "\n",
    "# if largest:\n",
    "#     print(\"Largest object:\")\n",
    "#     print(f\"  Position: ({largest['x']:.1f}, {largest['y']:.1f})\")\n",
    "#     print(f\"  Radius: {largest['radius']:.1f} pixels\")\n",
    "#     print(f\"  Area: {largest['area']:.1f} square pixels\")\n",
    "# else:\n",
    "#     print(\"No objects detected.\")"
   ]
  },
  {
   "cell_type": "markdown",
   "metadata": {},
   "source": [
    "## Example 3: Creating a Custom Color Range\n",
    "\n",
    "Sometimes you might want to track a specific color that's not in the predefined list. Let's see how to define a custom color range."
   ]
  },
  {
   "cell_type": "code",
   "execution_count": null,
   "metadata": {},
   "outputs": [],
   "source": [
    "# Define a custom color range for orange\n",
    "# HSV values: [hue, saturation, value]\n",
    "# Hue range: 0-180 in OpenCV (not 0-360)\n",
    "orange_lower = [10, 100, 100]  # Lower bound of orange in HSV\n",
    "orange_upper = [25, 255, 255]  # Upper bound of orange in HSV\n",
    "\n",
    "# Add the custom color to the tracker\n",
    "tracker.add_custom_color('orange', orange_lower, orange_upper)\n",
    "\n",
    "# Set the tracker to track the new color\n",
    "tracker.set_color('orange')\n",
    "\n",
    "# Display frames for 5 seconds\n",
    "display_frames(tracker, duration=5)"
   ]
  },
  {
   "cell_type": "markdown",
   "metadata": {},
   "source": [
    "### Challenge 3: Create Your Own Custom Color\n",
    "\n",
    "Now it's your turn to create a custom color! Try defining a range for purple or any other color you'd like to track.\n",
    "Remember that in OpenCV, the HSV hue range is 0-180 (not 0-360 as in some other systems)."
   ]
  },
  {
   "cell_type": "code",
   "execution_count": null,
   "metadata": {},
   "outputs": [],
   "source": [
    "# Your code here:\n",
    "# Define HSV range for your custom color\n",
    "# custom_lower = [?, ?, ?]\n",
    "# custom_upper = [?, ?, ?]\n",
    "\n",
    "# Add the custom color to the tracker\n",
    "# tracker.add_custom_color('my_color', custom_lower, custom_upper)\n",
    "\n",
    "# Set the tracker to track the new color\n",
    "# tracker.set_color('my_color')\n",
    "\n",
    "# Display frames for 5 seconds\n",
    "# display_frames(tracker, duration=5)"
   ]
  },
  {
   "cell_type": "markdown",
   "metadata": {},
   "source": [
    "## Example 4: Simple Object Following\n",
    "\n",
    "Let's create a simple simulation of how a robot might follow a colored object. We'll use a PID controller to calculate how the robot should move to keep the object centered in the frame."
   ]
  },
  {
   "cell_type": "code",
   "execution_count": null,
   "metadata": {},
   "outputs": [],
   "source": [
    "# Set up PID controllers for x and y directions\n",
    "pid_x = PID(p=0.1, i=0.01, d=0.05)\n",
    "pid_y = PID(p=0.1, i=0.01, d=0.05)\n",
    "\n",
    "# Set the color to track\n",
    "tracker.set_color('red')\n",
    "\n",
    "# Function to simulate robot following\n",
    "def simulate_following(duration=10):\n",
    "    start_time = time.time()\n",
    "    \n",
    "    # Get frame dimensions to set the center point\n",
    "    frame = tracker.get_frame()\n",
    "    if frame is None:\n",
    "        print(\"No frame available yet.\")\n",
    "        return\n",
    "        \n",
    "    height, width = frame.shape[:2]\n",
    "    center_x = width // 2\n",
    "    center_y = height // 2\n",
    "    \n",
    "    # Set PID target to the center of the frame\n",
    "    pid_x.SetPoint = center_x\n",
    "    pid_y.SetPoint = center_y\n",
    "    \n",
    "    while time.time() - start_time < duration:\n",
    "        # Get the largest object\n",
    "        objects = tracker.get_detected_objects()\n",
    "        largest = find_largest_object(objects)\n",
    "        \n",
    "        # Get the processed frame\n",
    "        processed_frame = tracker.get_processed_frame()\n",
    "        if processed_frame is None:\n",
    "            time.sleep(0.1)\n",
    "            continue\n",
    "            \n",
    "        # Create a copy for drawing\n",
    "        display_frame = processed_frame.copy()\n",
    "        \n",
    "        # Draw the center of the frame\n",
    "        cv2.circle(display_frame, (center_x, center_y), 10, (255, 255, 255), 2)\n",
    "        cv2.line(display_frame, (center_x - 20, center_y), (center_x + 20, center_y), (255, 255, 255), 2)\n",
    "        cv2.line(display_frame, (center_x, center_y - 20), (center_x, center_y + 20), (255, 255, 255), 2)\n",
    "        \n",
    "        # Calculate robot movement if an object is detected\n",
    "        if largest:\n",
    "            # Update PID controllers\n",
    "            pid_x.update(largest['x'])\n",
    "            pid_y.update(largest['y'])\n",
    "            \n",
    "            # Calculate movement values\n",
    "            move_x = -pid_x.output  # Negative because moving right decreases error\n",
    "            move_y = -pid_y.output  # Negative because moving down decreases error\n",
    "            \n",
    "            # Draw a line showing the direction to move\n",
    "            end_x = center_x + int(move_x * 5)  # Scale for visualization\n",
    "            end_y = center_y + int(move_y * 5)  # Scale for visualization\n",
    "            cv2.arrowedLine(display_frame, (center_x, center_y), (end_x, end_y), (0, 255, 255), 3)\n",
    "            \n",
    "            # Display movement information\n",
    "            cv2.putText(\n",
    "                display_frame,\n",
    "                f\"Move X: {move_x:.2f}, Y: {move_y:.2f}\",\n",
    "                (10, height - 20),\n",
    "                cv2.FONT_HERSHEY_SIMPLEX,\n",
    "                0.7,\n",
    "                (0, 255, 255),\n",
    "                2\n",
    "            )\n",
    "        else:\n",
    "            # Display \"No object detected\" message\n",
    "            cv2.putText(\n",
    "                display_frame,\n",
    "                \"No object detected\",\n",
    "                (10, height - 20),\n",
    "                cv2.FONT_HERSHEY_SIMPLEX,\n",
    "                0.7,\n",
    "                (0, 0, 255),\n",
    "                2\n",
    "            )\n",
    "        \n",
    "        # Convert from BGR to RGB for matplotlib\n",
    "        display_rgb = cv2.cvtColor(display_frame, cv2.COLOR_BGR2RGB)\n",
    "        \n",
    "        # Display the frame\n",
    "        plt.figure(figsize=(10, 8))\n",
    "        plt.imshow(display_rgb)\n",
    "        plt.title('Object Following Simulation')\n",
    "        plt.axis('off')\n",
    "        \n",
    "        clear_output(wait=True)\n",
    "        display(plt.gcf())\n",
    "        plt.close()\n",
    "        \n",
    "        time.sleep(0.1)\n",
    "\n",
    "# Run the simulation for 10 seconds\n",
    "simulate_following(duration=10)"
   ]
  },
  {
   "cell_type": "markdown",
   "metadata": {},
   "source": [
    "### Challenge 4: Modify the Following Behavior\n",
    "\n",
    "Try modifying the PID parameters to change how the simulated robot follows the object. What happens if you increase or decrease the proportional (p) value?"
   ]
  },
  {
   "cell_type": "code",
   "execution_count": null,
   "metadata": {},
   "outputs": [],
   "source": [
    "# Your code here:\n",
    "# Create new PID controllers with different parameters\n",
    "# pid_x = PID(p=?, i=?, d=?)\n",
    "# pid_y = PID(p=?, i=?, d=?)\n",
    "\n",
    "# Run the simulation again\n",
    "# simulate_following(duration=10)"
   ]
  },
  {
   "cell_type": "markdown",
   "metadata": {},
   "source": [
    "## Cleanup\n",
    "\n",
    "When you're done, make sure to stop the tracker to release the camera."
   ]
  },
  {
   "cell_type": "code",
   "execution_count": null,
   "metadata": {},
   "outputs": [],
   "source": [
    "# Stop the tracker\n",
    "tracker.stop()\n",
    "print(\"Tracker stopped and camera released.\")"
   ]
  },
  {
   "cell_type": "markdown",
   "metadata": {},
   "source": [
    "## Conclusion\n",
    "\n",
    "In this tutorial, you've learned:\n",
    "\n",
    "1. How to initialize and use a color tracker\n",
    "2. How to change the color being tracked\n",
    "3. How to get information about detected objects\n",
    "4. How to create custom color ranges\n",
    "5. How to simulate a simple object following behavior\n",
    "\n",
    "These skills can be applied to various robotics projects, such as:\n",
    "- Creating a robot that follows a colored ball\n",
    "- Building a sorting system that separates objects by color\n",
    "- Developing interactive games that respond to colored objects\n",
    "\n",
    "Try experimenting with different colors and objects to see how the tracker responds!"
   ]
  }
 ],
 "metadata": {
  "kernelspec": {
   "display_name": "Python 3",
   "language": "python",
   "name": "python3"
  },
  "language_info": {
   "codemirror_mode": {
    "name": "ipython",
    "version": 3
   },
   "file_extension": ".py",
   "mimetype": "text/x-python",
   "name": "python",
   "nbconvert_exporter": "python",
   "pygments_lexer": "ipython3",
   "version": "3.8.10"
  }
 },
 "nbformat": 4,
 "nbformat_minor": 4
}