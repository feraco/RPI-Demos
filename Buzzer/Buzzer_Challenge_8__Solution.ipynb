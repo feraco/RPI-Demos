{
 "cells": [
  {
   "cell_type": "markdown",
   "id": "8220b24d",
   "metadata": {},
   "source": [
    "# Buzzer_Challenge_8__Solution\n",
    "\n",
    "This notebook contains **Challenge 2: Countdown Timer**."
   ]
  },
  {
   "cell_type": "code",
   "execution_count": null,
   "id": "63b96b72",
   "metadata": {},
   "outputs": [],
   "source": [
    "import rclpy\n",
    "from omni_robot_controller import OmniWheelControlNode  # Import control node\n",
    "\n",
    "# Initialize ROS2 node\n",
    "rclpy.init()\n",
    "node = OmniWheelControlNode()"
   ]
  },
  {
   "cell_type": "markdown",
   "id": "ffaa7cb9",
   "metadata": {},
   "source": [
    "### ℹ️ **ROS2 Node Initialization**\n",
    "This cell includes the correct libraries and initializes the `OmniWheelControlNode` for use with the challenges.\n",
    "**Make sure ROS2 is installed and sourced in your environment.**"
   ]
  },
  {
   "cell_type": "markdown",
   "id": "6dce6389",
   "metadata": {},
   "source": [
    "## Challenge 2: Countdown Timer\n",
    "- Program the buzzer to **beep once per second** for **10 seconds**.\n",
    "- After 10 seconds, play a **final long beep** to indicate time is up.\n",
    "- Use a loop with **time.sleep()** to create the effect.\n",
    "\n",
    "## Objective\n",
    "\n",
    "Create a countdown timer using the buzzer. The buzzer should beep once per second for 10 seconds. After the countdown is complete, it should play a final long beep to indicate time is up.\n",
    "\n",
    "## Instructions\n",
    "\n",
    "### 1️⃣ Use a Loop to Control Timing\n",
    "\n",
    "- Use a `for` loop to repeat the buzzer sound 10 times (once per second).\n",
    "- Use `time.sleep(1)` to create the delay between each beep.\n",
    "\n",
    "### 2️⃣ Play a Short Beep\n",
    "\n",
    "- Call the buzzer function inside the loop.\n",
    "- Use an appropriate frequency for a short beep.\n",
    "- Adjust the `on_time` and `off_time` to ensure the beep is clear.\n",
    "\n",
    "### 3️⃣ Play a Final Long Beep\n",
    "\n",
    "- After the loop finishes, play one final beep that is longer than the previous beeps.\n",
    "- Choose a different frequency to make it distinguishable.\n",
    "\n",
    "\n"
   ]
  },
  {
   "cell_type": "code",
   "execution_count": null,
   "id": "44516d4c",
   "metadata": {},
   "outputs": [],
   "source": [
    "# Your code here:\n",
    "for i in range(10):\n",
    "    node.play_buzzer(1000, 0.5, 0.5, 2)\n",
    "    time.sleep(1)\n",
    "node.play_buzzer(500, 0.5, 0.5, 1)  # Final long beep"
   ]
  }
 ],
 "metadata": {},
 "nbformat": 4,
 "nbformat_minor": 5
}
