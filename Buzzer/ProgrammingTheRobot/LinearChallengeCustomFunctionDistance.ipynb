{
 "cells": [
  {
   "cell_type": "markdown",
   "metadata": {},
   "source": [
    "## Linear Motion\n",
    "This notebook will guide you through controlling an **omni-wheel robot** step by step.\n",
    "You'll see an **example**, then try to complete a similar challenge on your own!"
   ]
  },
  {
   "cell_type": "code",
   "execution_count": null,
   "metadata": {},
   "outputs": [],
   "source": [
    "# This part allows VScode to communicate with the robot\n",
    "# This imports the required libraries and then creates a node for our robot\n",
    "import sys\n",
    "import os\n",
    "import time\n",
    "\n",
    "# Add parent directory to the Python path\n",
    "sys.path.insert(0, os.path.abspath('..'))\n",
    "\n",
    "import rclpy\n",
    "from controllers.omni_robot_controller import OmniWheelControlNode  # Import control node\n",
    "\n",
    "# Initialize ROS2 node\n",
    "rclpy.init()\n",
    "node = OmniWheelControlNode()\n"
   ]
  },
  {
   "cell_type": "markdown",
   "metadata": {},
   "source": [
    "# Challenge: Create a Custom Function for Distance"
   ]
  },
  {
   "cell_type": "code",
   "execution_count": null,
   "metadata": {},
   "outputs": [],
   "source": [
    "# Challenge\n",
    "# For this challenge you need to write a custom function called move_Distance_AverageSpeed( insert_distance )\n",
    "# 1) You will ask the user for an input distance\n",
    "# 2) You will then have to call the function you created to move that distance\n",
    "\n",
    "# I have outlined the function below:\n",
    "\n",
    "def move_Distance_AvereageSpeed(distance):\n",
    "    # An Average speed is considered 0.5 m/s\n",
    "    # You may want to refer back to kinematics for how to find the required time\n",
    "    node.move_forward(1.0,need_required_time)\n",
    "\n",
    "# You need to write the code to have the user input occur below: \n",
    "\n",
    "\n",
    "\n",
    "# You need to write the code to have the function called below:"
   ]
  },
  {
   "cell_type": "markdown",
   "metadata": {},
   "source": [
    "## Shutting Down the Node\n",
    "Once you're done, **shutdown the node** properly."
   ]
  },
  {
   "cell_type": "code",
   "execution_count": null,
   "metadata": {},
   "outputs": [],
   "source": [
    "node.destroy_node()\n",
    "rclpy.shutdown()"
   ]
  }
 ],
 "metadata": {
  "kernelspec": {
   "display_name": "Python 3",
   "language": "python",
   "name": "python3"
  },
  "language_info": {
   "codemirror_mode": {
    "name": "ipython",
    "version": 3
   },
   "file_extension": ".py",
   "mimetype": "text/x-python",
   "name": "python",
   "nbconvert_exporter": "python",
   "pygments_lexer": "ipython3",
   "version": "3.8.10"
  }
 },
 "nbformat": 4,
 "nbformat_minor": 4
}
