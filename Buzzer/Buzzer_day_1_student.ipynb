{
 "cells": [
  {
   "cell_type": "markdown",
   "metadata": {},
   "source": [
    "<small>\n",
    "Part of the InnovatED STEM and DroneBlocks Land, Air, and Sea Robotics Curriculum  \n",
    "Licensed for educational use in schools only.  \n",
    "Redistribution, commercial use, or resale is strictly prohibited.  \n",
    "\u00a9 2025 InnovatED STEM & DroneBlocks. All rights reserved.\n",
    "</small>"
   ]
  },
  {
   "cell_type": "markdown",
   "metadata": {},
   "source": [
    "# Using the Buzzer on the RRC Lite Board - Interactive Notebook\n",
    "This notebook will guide you through controlling a **buzzer** using the **RRC Lite Board** in **ROS2**.\n",
    "\n",
    "### Learning Objectives\n",
    "- Understand the difference between **active** and **passive** buzzers.\n",
    "- Learn how to use ROS2 commands to control a buzzer.\n",
    "- Experiment with different frequencies and sound patterns.\n",
    "- Reference functions from **OmniWheelControlNode** for buzzer operations."
   ]
  },
  {
   "cell_type": "code",
   "execution_count": null,
   "metadata": {},
   "outputs": [],
   "source": [
    "\n",
    "import rclpy\n",
    "from omni_robot_controller import OmniWheelControlNode  # Import control node\n",
    "\n",
    "# Initialize ROS2 node\n",
    "rclpy.init()\n",
    "node = OmniWheelControlNode()"
   ]
  },
  {
   "cell_type": "markdown",
   "metadata": {},
   "source": [
    "## 1. Definitions\n",
    "Fill in the definitions for the following terms:\n",
    "- **Buzzer:** \n",
    "- **Active Buzzer:** \n",
    "- **Passive Buzzer:** \n",
    "- **Frequency:** \n",
    "- **ROS2:** \n"
   ]
  },
  {
   "cell_type": "markdown",
   "metadata": {},
   "source": [
    "## 2. How Does a Buzzer Work?\n",
    "Explain how a buzzer converts **electrical signals** into **sound waves**."
   ]
  },
  {
   "cell_type": "markdown",
   "metadata": {},
   "source": [
    "## 3. Why Use Buzzers in Robotics?\n",
    "List three reasons why buzzers are useful in robotics:\n",
    "1. \n",
    "2. \n",
    "3. \n"
   ]
  },
  {
   "cell_type": "markdown",
   "metadata": {},
   "source": [
    "## 4. ROS2 Buzzer Commands\n",
    "Match the commands to their functions:\n",
    "- `node.play_buzzer(freq, on_time, off_time, repeat)`: \n",
    "- `node.stop_buzzer()`: \n"
   ]
  },
  {
   "cell_type": "markdown",
   "metadata": {},
   "source": [
    "## 5. Coding Tasks\n",
    "### Task 1: Play a Sound\n",
    "**Goal:** Make the buzzer play a **1000Hz sound for 3 cycles**."
   ]
  },
  {
   "cell_type": "code",
   "execution_count": null,
   "metadata": {},
   "outputs": [],
   "source": [
    "# Play a 1000Hz sound for 3 cycles using ROS2 command\n",
    "# Your code here:\n",
    "# node.play_buzzer(?, ?, ?, ?)"
   ]
  },
  {
   "cell_type": "markdown",
   "metadata": {},
   "source": [
    "### Task 2: Stop the Buzzer\n",
    "**Goal:** Write the Python command to stop the buzzer."
   ]
  },
  {
   "cell_type": "code",
   "execution_count": null,
   "metadata": {},
   "outputs": [],
   "source": [
    "# Stop the buzzer using ROS2 command\n",
    "# Your code here:\n",
    "# node.stop_buzzer()"
   ]
  },
  {
   "cell_type": "markdown",
   "metadata": {},
   "source": [
    "### Task 3: Try Different Frequencies\n",
    "**Goal:** Play different frequencies in sequence (100Hz, 200Hz, 300Hz, 400Hz)."
   ]
  },
  {
   "cell_type": "code",
   "execution_count": null,
   "metadata": {},
   "outputs": [],
   "source": [
    "# Play different frequencies sequentially using ROS2 command\n",
    "# Your code here:\n",
    "# node.play_buzzer(?, ?, ?, ?)\n",
    "# node.play_buzzer(?, ?, ?, ?)\n",
    "# node.play_buzzer(?, ?, ?, ?)\n",
    "# node.play_buzzer(?, ?, ?, ?)"
   ]
  },
  {
   "cell_type": "markdown",
   "metadata": {},
   "source": [
    "## 6. Student Challenge\n",
    "Choose one of the challenges and implement it in your code."
   ]
  },
  {
   "cell_type": "markdown",
   "metadata": {},
   "source": [
    "### Challenge 1: Robot Alerts\n",
    "- Play a **short beep** when the robot **starts moving**.\n",
    "- Play a **longer beep** when the robot **stops moving**."
   ]
  },
  {
   "cell_type": "code",
   "execution_count": null,
   "metadata": {},
   "outputs": [],
   "source": [
    "# Your code here:\n",
    "# if robot_moving:\n",
    "#     node.play_buzzer(?, ?, ?, ?)\n",
    "# else:\n",
    "#     node.play_buzzer(?, ?, ?, ?)"
   ]
  },
  {
   "cell_type": "markdown",
   "metadata": {},
   "source": [
    "### Challenge 2: Custom Sound Patterns\n",
    "- Play a **low tone (500Hz)** when moving forward.\n",
    "- Play a **high tone (2000Hz)** when rotating."
   ]
  },
  {
   "cell_type": "code",
   "execution_count": null,
   "metadata": {},
   "outputs": [],
   "source": [
    "# Your code here:\n",
    "# if moving_forward:\n",
    "#     node.play_buzzer(?, ?, ?, ?)\n",
    "# elif rotating:\n",
    "#     node.play_buzzer(?, ?, ?, ?)"
   ]
  },
  {
   "cell_type": "markdown",
   "metadata": {},
   "source": [
    "## 7. Debugging & Troubleshooting\n",
    "Fill in the missing solutions:\n",
    "| Issue | Solution |\n",
    "|--------|---------|\n",
    "| Buzzer not playing? | |\n",
    "| No sound? | |\n",
    "| Syntax errors? | |\n"
   ]
  },
  {
   "cell_type": "markdown",
   "metadata": {},
   "source": [
    "## 8. Reflection\n",
    "- What was the most challenging part of this activity? How did you solve it?\n",
    "- What are some ways you could use the buzzer in future robotics projects?"
   ]
  },
  {
   "cell_type": "code",
   "execution_count": null,
   "metadata": {},
   "outputs": [],
   "source": [
    "node.destroy_node()\n",
    "rclpy.shutdown()"
   ]
  }
 ],
 "metadata": {
  "kernelspec": {
   "display_name": "Python 3",
   "language": "python"
  },
  "language_info": {
   "name": "python",
   "version": "3.8.10"
  }
 },
 "nbformat": 4,
 "nbformat_minor": 4
}