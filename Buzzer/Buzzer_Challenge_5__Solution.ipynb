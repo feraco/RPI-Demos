{
 "cells": [
  {
   "cell_type": "markdown",
   "id": "81aedf4a",
   "metadata": {},
   "source": [
    "# Buzzer_Challenge_5__Solution\n",
    "\n",
    "This notebook contains **Challenge 5: Melodic Robot Tune**."
   ]
  },
  {
   "cell_type": "code",
   "execution_count": null,
   "id": "63b96b72",
   "metadata": {},
   "outputs": [],
   "source": [
    "import rclpy\n",
    "from omni_robot_controller import OmniWheelControlNode  # Import control node\n",
    "\n",
    "# Initialize ROS2 node\n",
    "rclpy.init()\n",
    "node = OmniWheelControlNode()"
   ]
  },
  {
   "cell_type": "markdown",
   "id": "ffaa7cb9",
   "metadata": {},
   "source": [
    "### ℹ️ **ROS2 Node Initialization**\n",
    "This cell includes the correct libraries and initializes the `OmniWheelControlNode` for use with the challenges.\n",
    "**Make sure ROS2 is installed and sourced in your environment.**"
   ]
  },
  {
   "cell_type": "markdown",
   "id": "9c520bb9",
   "metadata": {},
   "source": [
    "# **Challenge 5: Melodic Robot Tune**\n",
    "\n",
    "## **Objective**\n",
    "Program the buzzer to **play a simple melody** using a sequence of frequencies.\n",
    "\n",
    "---\n",
    "\n",
    "## **Instructions**\n",
    "### **1️⃣ Create a Melody**\n",
    "- Define a **list of frequencies** that represent musical notes.\n",
    "- Use different values to create a **simple melody**.\n",
    "\n",
    "### **2️⃣ Play Each Note**\n",
    "- Use a **loop** to play each frequency in the melody.\n",
    "- Each frequency should play for **0.3 seconds**.\n",
    "\n",
    "### **3️⃣ Add Pauses Between Notes**\n",
    "- Insert **0.1 seconds of silence** between each note to create rhythm.\n",
    "\n",
    "---\n",
    "\n",
    "## **Available Functions & How to Use Them**\n",
    "### **🔹 Define a Melody**\n",
    "Store the sequence of frequencies in a list:\n",
    "```python\n",
    "melody = [500, 700, 900, 700, 500]\n",
    "```\n",
    "\n",
    "### **🔹 Play a Note**\n",
    "```python\n",
    "node.play_buzzer(frequency, on_time, off_time, repeat)\n",
    "```\n",
    "**Parameters:**\n",
    "- `frequency`: The note frequency in Hz.\n",
    "- `on_time`: Duration the note plays (`0.3` seconds).\n",
    "- `off_time`: Delay before the next note (`0.1` seconds).\n",
    "- `repeat`: Number of times the note plays.\n",
    "\n",
    "### **🔹 Add a Pause Between Notes**\n",
    "```python\n",
    "time.sleep(0.1)\n",
    "```\n",
    "Creates a short silence between each note.\n",
    "\n",
    "---\n",
    "\n",
    "## **Hints**\n",
    "✅ Store the melody frequencies in a list.  \n",
    "✅ Use a `for` loop to play each note.  \n",
    "✅ Set `on_time = 0.3s` and `off_time = 0.1s` to maintain rhythm.  \n",
    "✅ Experiment with different frequencies to create unique tunes.  \n",
    "\n",
    "---\n",
    "\n",
    "## **🔹 Example (Not a Solution)**\n",
    "*\"The robot should play a sequence of five tones, each lasting 0.3 seconds with a 0.1-second break in between.\"*\n",
    "\n"
   ]
  },
  {
   "cell_type": "code",
   "execution_count": null,
   "id": "7d6f2ac5",
   "metadata": {},
   "outputs": [],
   "source": [
    "# Your code here:\n",
    "melody = [500, 700, 900, 700, 500]\n",
    "for freq in melody:\n",
    "    node.play_buzzer(freq, 1.0, 1.0, 2)\n",
    "    time.sleep(0.1)"
   ]
  },
  {
   "cell_type": "markdown",
   "id": "f6bc9bd6",
   "metadata": {},
   "source": [
    "## 3. Debugging & Troubleshooting\n",
    "Fill in the missing solutions:\n",
    "| Issue | Solution |\n",
    "|--------|---------|\n",
    "| Buzzer not playing? | |\n",
    "| No sound? | |\n",
    "| Syntax errors? | |\n"
   ]
  },
  {
   "cell_type": "markdown",
   "id": "71bc4802",
   "metadata": {},
   "source": [
    "## 4. Reflection\n",
    "- What was the most **challenging** part of these activities?\n",
    "- How can you **improve** your buzzer functions for **real-world applications**?\n",
    "- What **new ideas** do you have for buzzer-based interactions in robotics?"
   ]
  },
  {
   "cell_type": "code",
   "execution_count": null,
   "id": "1388a336",
   "metadata": {},
   "outputs": [],
   "source": [
    "node.destroy_node()\n",
    "rclpy.shutdown()"
   ]
  }
 ],
 "metadata": {},
 "nbformat": 4,
 "nbformat_minor": 5
}
