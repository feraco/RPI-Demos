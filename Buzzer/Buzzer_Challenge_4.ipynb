{
 "cells": [
  {
   "cell_type": "markdown",
   "metadata": {},
   "source": [
    "<small>\n",
    "Part of the InnovatED STEM and DroneBlocks Land, Air, and Sea Robotics Curriculum  \n",
    "Licensed for educational use in schools only.  \n",
    "Redistribution, commercial use, or resale is strictly prohibited.  \n",
    "\u00a9 2025 InnovatED STEM & DroneBlocks. All rights reserved.\n",
    "</small>"
   ]
  },
  {
   "cell_type": "markdown",
   "id": "e30b67cd",
   "metadata": {},
   "source": [
    "# \ud83c\udfb5 Challenge 4: Custom Sound Patterns for Robot Actions\n",
    "---\n",
    "\n",
    "In this challenge, you'll play different tones for different robot actions:\n",
    "- A **low tone (500Hz)** when the robot moves forward.\n",
    "- A **high tone (2000Hz)** when the robot rotates."
   ]
  },
  {
   "cell_type": "code",
   "execution_count": null,
   "id": "f9b09b75",
   "metadata": {},
   "outputs": [],
   "source": [
    "\n",
    "import rclpy\n",
    "from omni_robot_controller import OmniWheelControlNode  # Import control node\n",
    "\n",
    "# Initialize ROS2 node\n",
    "rclpy.init()\n",
    "node = OmniWheelControlNode()\n"
   ]
  },
  {
   "cell_type": "markdown",
   "id": "c68385d7",
   "metadata": {},
   "source": [
    "## \ud83e\udde0 Step-by-step Instructions:\n",
    "- Use 500 Hz for the forward motion tone.\n",
    "- Use 2000 Hz for the rotation tone.\n",
    "- You can change the duration and number of repetitions too!"
   ]
  },
  {
   "cell_type": "code",
   "execution_count": null,
   "id": "e12bdd35",
   "metadata": {},
   "outputs": [],
   "source": [
    "# \ud83d\udd27 Try it here:\n",
    "# Example starter code:\n",
    "\n",
    "\n",
    "node.play_buzzer("
   ]
  }
 ],
 "metadata": {
  "language_info": {
   "name": "python"
  }
 },
 "nbformat": 4,
 "nbformat_minor": 5
}