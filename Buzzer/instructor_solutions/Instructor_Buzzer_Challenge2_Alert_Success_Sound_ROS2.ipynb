{
 "cells": [
  {
   "cell_type": "markdown",
   "metadata": {},
   "source": [
    "<small>\n",
    "Part of the InnovatED STEM and DroneBlocks Land, Air, and Sea Robotics Curriculum  \n",
    "Licensed for educational use in schools only.  \n",
    "Redistribution, commercial use, or resale is strictly prohibited.  \n",
    "\u00a9 2025 InnovatED STEM & DroneBlocks. All rights reserved.\n",
    "</small>"
   ]
  },
  {
   "cell_type": "markdown",
   "id": "11e5d7e5",
   "metadata": {},
   "source": [
    "# \u2705 Robot Alert \u2013 Success Sound\n",
    "---\n",
    "\n",
    "Create a short, high-pitched tone repeated twice to indicate **SUCCESS**.\n",
    "\n",
    "### \ud83c\udfaf Objective:\n",
    "Write a command using `node.play_buzzer(freq, on_time, off_time, repeat)` to produce a sound that clearly indicates **Success**."
   ]
  },
  {
   "cell_type": "code",
   "execution_count": null,
   "id": "a99deec7",
   "metadata": {},
   "outputs": [],
   "source": [
    "\n",
    "import rclpy\n",
    "from omni_robot_controller import OmniWheelControlNode  # Import control node\n",
    "\n",
    "# Initialize ROS2 node\n",
    "rclpy.init()\n",
    "node = OmniWheelControlNode()\n"
   ]
  },
  {
   "cell_type": "markdown",
   "id": "e7be96fb",
   "metadata": {},
   "source": [
    "## \ud83e\udde0 Step-by-step Instructions\n",
    "1. Decide on a **frequency** based on the tone you want (higher = sharper, lower = deeper)\n",
    "2. Set how long the sound plays (`on_time`) and how long it's off between beeps (`off_time`)\n",
    "3. Choose how many times it should repeat (`repeat`)\n"
   ]
  },
  {
   "cell_type": "markdown",
   "id": "bbbe717f",
   "metadata": {},
   "source": [
    "\ud83d\udca1 **Hint:** Use a high frequency (e.g., 1000 Hz), short duration (0.2s), and repeat it twice."
   ]
  },
  {
   "cell_type": "code",
   "execution_count": null,
   "id": "e0508fe0",
   "metadata": {},
   "outputs": [],
   "source": [
    "# \ud83d\udd27 Write your buzzer command below:\n",
    "# Example:\n",
    "\n",
    "node.play_buzzer("
   ]
  },
  {
   "cell_type": "code",
   "execution_count": null,
   "id": "5cfa5b22",
   "metadata": {},
   "outputs": [],
   "source": [
    "# \u2705 Instructor Answer\n",
    "play_buzzer_sim(1500, 0.1, 0.1, 2)\n",
    "play_buzzer_sim(2000, 0.2, 0.05, 2)\n"
   ]
  }
 ],
 "metadata": {
  "language_info": {
   "name": "python"
  }
 },
 "nbformat": 4,
 "nbformat_minor": 5
}