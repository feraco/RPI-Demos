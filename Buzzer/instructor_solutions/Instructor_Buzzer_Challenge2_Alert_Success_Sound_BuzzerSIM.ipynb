{
 "cells": [
  {
   "cell_type": "markdown",
   "id": "8feeac94",
   "metadata": {},
   "source": [
    "<small>\n",
    "Part of the InnovatED STEM and DroneBlocks Land, Air, and Sea Robotics Curriculum  \n",
    "Licensed for educational use in schools only.  \n",
    "Redistribution, commercial use, or resale is strictly prohibited.  \n",
    "© 2025 InnovatED STEM & DroneBlocks. All rights reserved.\n",
    "</small>"
   ]
  },
  {
   "cell_type": "markdown",
   "id": "11e5d7e5",
   "metadata": {},
   "source": [
    "#  Robot Alert – Success Sound\n",
    "---\n",
    "\n",
    "Create a short, high-pitched tone repeated twice to indicate **SUCCESS**.\n",
    "\n",
    "###  Objective:\n",
    "Write a command using `node.play_buzzer(freq, on_time, off_time, repeat)` to produce a sound that clearly indicates **Success**."
   ]
  },
  {
   "cell_type": "code",
   "execution_count": null,
   "id": "792c90d8",
   "metadata": {},
   "outputs": [],
   "source": [
    "#  Import buzzer simulator\n",
    "from buzzer_sim import play_buzzer_sim"
   ]
  },
  {
   "cell_type": "markdown",
   "id": "e7be96fb",
   "metadata": {},
   "source": [
    "##  Step-by-step Instructions\n",
    "1. Decide on a **frequency** based on the tone you want (higher = sharper, lower = deeper)\n",
    "2. Set how long the sound plays (`on_time`) and how long it's off between beeps (`off_time`)\n",
    "3. Choose how many times it should repeat (`repeat`)\n"
   ]
  },
  {
   "cell_type": "markdown",
   "id": "bbbe717f",
   "metadata": {},
   "source": [
    " **Hint:** Use a high frequency (e.g., 1000 Hz), short duration (0.2s), and repeat it twice."
   ]
  },
  {
   "cell_type": "code",
   "execution_count": null,
   "id": "e0508fe0",
   "metadata": {},
   "outputs": [],
   "source": [
    "#  Write your buzzer command below:\n",
    "# Example:\n",
    "\n",
    "play_buzzer_sim("
   ]
  },
  {
   "cell_type": "code",
   "execution_count": null,
   "id": "e96b5b33",
   "metadata": {},
   "outputs": [],
   "source": [
    "#  Instructor Answer\n",
    "play_buzzer_sim(1500, 0.1, 0.1, 2)  # Quick success chirp\n",
    "play_buzzer_sim(2000, 0.2, 0.05, 2) # Follow-up higher pitch\n"
   ]
  }
 ],
 "metadata": {},
 "nbformat": 4,
 "nbformat_minor": 5
}
