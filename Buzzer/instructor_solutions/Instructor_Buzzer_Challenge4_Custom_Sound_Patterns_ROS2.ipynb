{
 "cells": [
  {
   "cell_type": "markdown",
   "id": "e30b67cd",
   "metadata": {},
   "source": [
    "# 🎵 Challenge 4: Custom Sound Patterns for Robot Actions\n",
    "---\n",
    "\n",
    "In this challenge, you'll play different tones for different robot actions:\n",
    "- A **low tone (500Hz)** when the robot moves forward.\n",
    "- A **high tone (2000Hz)** when the robot rotates."
   ]
  },
  {
   "cell_type": "code",
   "execution_count": null,
   "id": "f9b09b75",
   "metadata": {},
   "outputs": [],
   "source": [
    "\n",
    "import rclpy\n",
    "from omni_robot_controller import OmniWheelControlNode  # Import control node\n",
    "\n",
    "# Initialize ROS2 node\n",
    "rclpy.init()\n",
    "node = OmniWheelControlNode()\n"
   ]
  },
  {
   "cell_type": "markdown",
   "id": "c68385d7",
   "metadata": {},
   "source": [
    "## 🧠 Step-by-step Instructions:\n",
    "- Use 500 Hz for the forward motion tone.\n",
    "- Use 2000 Hz for the rotation tone.\n",
    "- You can change the duration and number of repetitions too!"
   ]
  },
  {
   "cell_type": "code",
   "execution_count": null,
   "id": "e12bdd35",
   "metadata": {},
   "outputs": [],
   "source": [
    "# 🔧 Try it here:\n",
    "# Example starter code:\n",
    "\n",
    "\n",
    "node.play_buzzer("
   ]
  },
  {
   "cell_type": "code",
   "execution_count": null,
   "id": "479dcc5d",
   "metadata": {},
   "outputs": [],
   "source": [
    "# ✅ Instructor Answer\n",
    "play_buzzer_sim(500, 0.4, 0.1, 1)\n",
    "bot.move_forward(0.4, 2)\n",
    "\n",
    "play_buzzer_sim(2000, 0.3, 0.1, 2)\n",
    "bot.rotate_left(90)\n",
    "\n",
    "play_buzzer_sim(500, 0.3, 0.1, 1)\n",
    "bot.move_forward(0.3, 1)\n",
    "bot.stop()\n"
   ]
  }
 ],
 "metadata": {
  "language_info": {
   "name": "python"
  }
 },
 "nbformat": 4,
 "nbformat_minor": 5
}
