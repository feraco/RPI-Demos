{
 "cells": [
  {
   "cell_type": "markdown",
   "id": "97e0f8bf",
   "metadata": {},
   "source": [
    "<small>\n",
    "Part of the InnovatED STEM and DroneBlocks Land, Air, and Sea Robotics Curriculum  \n",
    "Licensed for educational use in schools only.  \n",
    "Redistribution, commercial use, or resale is strictly prohibited.  \n",
    "© 2025 InnovatED STEM & DroneBlocks. All rights reserved.\n",
    "</small>"
   ]
  },
  {
   "cell_type": "markdown",
   "id": "497d52da",
   "metadata": {},
   "source": [
    "#  Challenge 3: Robot Alerts on Movement\n",
    "---\n",
    "\n",
    "In this challenge, you'll create two sound alerts:\n",
    "- A **short beep** when the robot **starts moving**.\n",
    "- A **longer beep** when the robot **stops moving**."
   ]
  },
  {
   "cell_type": "code",
   "execution_count": null,
   "id": "4e88bc14",
   "metadata": {},
   "outputs": [],
   "source": [
    "\n",
    "import rclpy\n",
    "from omni_robot_controller import OmniWheelControlNode  # Import control node\n",
    "\n",
    "# Initialize ROS2 node\n",
    "rclpy.init()\n",
    "node = OmniWheelControlNode()\n"
   ]
  },
  {
   "cell_type": "markdown",
   "id": "e7b66fe7",
   "metadata": {},
   "source": [
    "##  Step-by-step Instructions:\n",
    "- Use a short duration (e.g., 0.2s) for the movement start sound.\n",
    "- Use a longer duration (e.g., 1.0s) for the stop sound."
   ]
  },
  {
   "cell_type": "code",
   "execution_count": null,
   "id": "18353497",
   "metadata": {},
   "outputs": [],
   "source": [
    "#  Try it here:\n",
    "# Example starter code:\n",
    "\n",
    "\n",
    "node.play_buzzer("
   ]
  },
  {
   "cell_type": "code",
   "execution_count": null,
   "id": "46f99732",
   "metadata": {},
   "outputs": [],
   "source": [
    "#  Instructor Answer\n",
    "play_buzzer_sim(1000, 0.2, 0.1, 1)\n",
    "bot.move_forward(0.5, 1.5)\n",
    "bot.stop()\n",
    "play_buzzer_sim(1000, 1.0, 0.0, 1)\n"
   ]
  }
 ],
 "metadata": {
  "language_info": {
   "name": "python"
  }
 },
 "nbformat": 4,
 "nbformat_minor": 5
}
