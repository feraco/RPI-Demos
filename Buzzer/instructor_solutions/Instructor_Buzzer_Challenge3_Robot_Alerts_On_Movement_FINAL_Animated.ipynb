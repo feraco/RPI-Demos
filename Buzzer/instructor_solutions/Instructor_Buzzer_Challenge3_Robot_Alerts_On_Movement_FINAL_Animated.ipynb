{
 "cells": [
  {
   "cell_type": "markdown",
   "id": "265e1d85",
   "metadata": {},
   "source": [
    "<small>\n",
    "Part of the InnovatED STEM and DroneBlocks Land, Air, and Sea Robotics Curriculum  \n",
    "Licensed for educational use in schools only.  \n",
    "Redistribution, commercial use, or resale is strictly prohibited.  \n",
    "© 2025 InnovatED STEM & DroneBlocks. All rights reserved.\n",
    "</small>"
   ]
  },
  {
   "cell_type": "markdown",
   "id": "a08cb098",
   "metadata": {},
   "source": [
    "#  Final Challenge 3: Robot Alerts on Movement (Animated)\n",
    "---\n",
    "\n",
    "Play a short beep before the robot moves, and a longer beep after it stops. Then visualize the path in a 2D animation."
   ]
  },
  {
   "cell_type": "code",
   "execution_count": null,
   "id": "f4a27734",
   "metadata": {},
   "outputs": [],
   "source": [
    "#  Setup\n",
    "from buzzer_sim import play_buzzer_sim\n",
    "from landbot_sim_slider import LandBotSimulator\n",
    "bot = LandBotSimulator()"
   ]
  },
  {
   "cell_type": "markdown",
   "id": "65586d36",
   "metadata": {},
   "source": [
    "##  Use these commands:\n",
    "- `play_buzzer_sim(freq, duration, pause, repeat)` to simulate buzzer sounds\n",
    "- `bot.move_forward(speed, duration)`, `bot.rotate_left(degrees)`, etc.\n",
    "- `bot.animate_2d_path()` to animate the full movement"
   ]
  },
  {
   "cell_type": "code",
   "execution_count": null,
   "id": "96fc1bac",
   "metadata": {},
   "outputs": [],
   "source": [
    "# Beep before starting\n",
    "play_buzzer_sim(1000, 0.2, 0.1, 1)\n",
    "\n",
    "# Move the robot\n",
    "bot.move_forward(0.5, 1.5)\n",
    "\n",
    "# Beep after stopping\n",
    "bot.stop()\n",
    "play_buzzer_sim(1000, 1.0, 0.0, 1)\n",
    "\n",
    "# Animate the path\n",
    "bot.animate_2d_path()\n"
   ]
  },
  {
   "cell_type": "code",
   "execution_count": null,
   "id": "03a04f33",
   "metadata": {},
   "outputs": [],
   "source": [
    "#  Now try your own version:\n"
   ]
  },
  {
   "cell_type": "code",
   "execution_count": null,
   "id": "abf69f74",
   "metadata": {},
   "outputs": [],
   "source": [
    "#  Instructor Answer\n",
    "play_buzzer_sim(1000, 0.2, 0.1, 1)\n",
    "bot.move_forward(0.5, 1.5)\n",
    "bot.stop()\n",
    "play_buzzer_sim(1000, 1.0, 0.0, 1)\n",
    "bot.animate_2d_path()\n"
   ]
  }
 ],
 "metadata": {},
 "nbformat": 4,
 "nbformat_minor": 5
}
