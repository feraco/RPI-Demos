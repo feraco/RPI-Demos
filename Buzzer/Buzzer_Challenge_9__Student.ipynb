{
 "cells": [
  {
   "cell_type": "markdown",
   "id": "610f04f9",
   "metadata": {},
   "source": [
    "# Buzzer_Challenge_9__Student\n",
    "\n",
    "This is the **student version** of **Challenge 1: Buzzer Alert Based on Distance**.\n",
    "\n",
    "Follow the instructions to complete the challenge on your own."
   ]
  },
  {
   "cell_type": "code",
   "execution_count": null,
   "id": "63b96b72",
   "metadata": {},
   "outputs": [],
   "source": [
    "import rclpy\n",
    "from omni_robot_controller import OmniWheelControlNode  # Import control node\n",
    "\n",
    "# Initialize ROS2 node\n",
    "rclpy.init()\n",
    "node = OmniWheelControlNode()"
   ]
  },
  {
   "cell_type": "markdown",
   "id": "ffaa7cb9",
   "metadata": {},
   "source": [
    "### ℹ️ **ROS2 Node Initialization**\n",
    "This cell includes the correct libraries and initializes the `OmniWheelControlNode` for use with the challenges.\n",
    "**Make sure ROS2 is installed and sourced in your environment.**"
   ]
  },
  {
   "cell_type": "markdown",
   "id": "5a97998d",
   "metadata": {},
   "source": [
    "# **Challenge 1: Buzzer Alert Based on Distance**\n",
    "\n",
    "## **Objective**\n",
    "Write a loop that continuously reads the robot's front distance sensor and adjusts the buzzer frequency based on the detected distance.\n",
    "\n",
    "---\n",
    "\n",
    "## **Instructions**\n",
    "### **1️⃣ Read Sensor Data**\n",
    "- Retrieve the **distance** measurement from the LiDAR sensor.\n",
    "- Use the appropriate **distance variable** from the robot’s `OmniWheelControlNode` class.\n",
    "\n",
    "### **2️⃣ Calculate Buzzer Frequency**\n",
    "- Create a function that **maps the distance to a buzzer frequency**.\n",
    "- Consider that **closer objects** should have a **higher pitch**, and farther objects a **lower pitch**.\n",
    "- Think about using a **linear or exponential mapping function** to adjust the frequency.\n",
    "\n",
    "### **3️⃣ Play the Buzzer Based on Distance**\n",
    "- Use the **robot’s buzzer function** to generate sound.\n",
    "- Ensure that the buzzer plays **with intervals** and **stops when needed**.\n",
    "\n",
    "### **4️⃣ Use a Loop to Continuously Check Distance**\n",
    "- Continuously update the distance and adjust the buzzer.\n",
    "- Stop the buzzer when no object is detected or when the robot moves beyond a threshold.\n",
    "\n",
    "---\n",
    "\n",
    "## **Available Functions & How to Use Them**\n",
    "Here are the key functions from the `OmniWheelControlNode` class that you can use:\n",
    "\n",
    "### **🔹 Read Distance**\n",
    "- **Use one of the following variables to get distance:**\n",
    "  - `node.front_distance`\n",
    "  - `node.back_distance`\n",
    "  - `node.left_distance`\n",
    "  - `node.right_distance`\n",
    "  \n",
    "- These variables update automatically with sensor readings.\n",
    "\n",
    "### **🔹 Play a Buzzer Sound**\n",
    "```python\n",
    "node.play_buzzer(frequency, on_time, off_time, repeat)\n"
   ]
  },
  {
   "cell_type": "code",
   "execution_count": null,
   "id": "90c56e09",
   "metadata": {},
   "outputs": [],
   "source": [
    "# ✏️ Write your solution here"
   ]
  }
 ],
 "metadata": {},
 "nbformat": 4,
 "nbformat_minor": 5
}
