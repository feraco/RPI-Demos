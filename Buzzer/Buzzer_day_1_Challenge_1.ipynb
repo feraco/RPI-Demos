{
 "cells": [
  {
   "cell_type": "markdown",
   "id": "16fbab2d",
   "metadata": {},
   "source": [
    "<small>\n",
    "Part of the InnovatED STEM and DroneBlocks Land, Air, and Sea Robotics Curriculum  \n",
    "Licensed for educational use in schools only.  \n",
    "Redistribution, commercial use, or resale is strictly prohibited.  \n",
    "© 2025 InnovatED STEM & DroneBlocks. All rights reserved.\n",
    "</small>"
   ]
  },
  {
   "cell_type": "markdown",
   "id": "90265782",
   "metadata": {},
   "source": [
    "#  Robot Alert – Error Sound\n",
    "---\n",
    "\n",
    "Create a long, low-pitched sound to indicate an **ERROR**.\n",
    "\n",
    "###  Objective:\n",
    "Write a command using `node.play_buzzer(freq, on_time, off_time, repeat)` to produce a sound that clearly indicates **Error**."
   ]
  },
  {
   "cell_type": "code",
   "execution_count": null,
   "id": "a99deec7",
   "metadata": {},
   "outputs": [],
   "source": [
    "\n",
    "import rclpy\n",
    "from omni_robot_controller import OmniWheelControlNode  # Import control node\n",
    "\n",
    "# Initialize ROS2 node\n",
    "rclpy.init()\n",
    "node = OmniWheelControlNode()\n"
   ]
  },
  {
   "cell_type": "markdown",
   "id": "ce5c69f8",
   "metadata": {},
   "source": [
    "##  Step-by-step Instructions\n",
    "1. Decide on a **frequency** based on the tone you want (higher = sharper, lower = deeper)\n",
    "2. Set how long the sound plays (`on_time`) and how long it's off between beeps (`off_time`)\n",
    "3. Choose how many times it should repeat (`repeat`)\n"
   ]
  },
  {
   "cell_type": "markdown",
   "id": "f8116fe2",
   "metadata": {},
   "source": [
    " **Hint:** Try a low frequency (e.g., 300 Hz) with a longer duration (1s) and repeat once."
   ]
  },
  {
   "cell_type": "code",
   "execution_count": null,
   "id": "a5b00290",
   "metadata": {},
   "outputs": [],
   "source": [
    "#  Write your buzzer command below:\n",
    "# Example:\n",
    "# node.play_buzzer(1000, 0.2, 0.1, 2)\n",
    "\n",
    "node.play_buzzer("
   ]
  }
 ],
 "metadata": {},
 "nbformat": 4,
 "nbformat_minor": 5
}
