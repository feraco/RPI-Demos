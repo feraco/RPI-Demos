{
 "cells": [
  {
   "cell_type": "markdown",
   "id": "e6e3cd91",
   "metadata": {},
   "source": [
    "# Buzzer_Challenge_6__Solution\n",
    "\n",
    "This notebook contains **Challenge 4: Sudden Stop Buzzer Alert**."
   ]
  },
  {
   "cell_type": "code",
   "execution_count": null,
   "id": "63b96b72",
   "metadata": {},
   "outputs": [],
   "source": [
    "import rclpy\n",
    "from omni_robot_controller import OmniWheelControlNode  # Import control node\n",
    "\n",
    "# Initialize ROS2 node\n",
    "rclpy.init()\n",
    "node = OmniWheelControlNode()"
   ]
  },
  {
   "cell_type": "markdown",
   "id": "ffaa7cb9",
   "metadata": {},
   "source": [
    "### ℹ️ **ROS2 Node Initialization**\n",
    "This cell includes the correct libraries and initializes the `OmniWheelControlNode` for use with the challenges.\n",
    "**Make sure ROS2 is installed and sourced in your environment.**"
   ]
  },
  {
   "cell_type": "markdown",
   "id": "1a52080d",
   "metadata": {},
   "source": [
    "## **Challenge 4: Sudden Stop Buzzer Alert**\n",
    "\n",
    "### **Objective**\n",
    "Detect when the robot **suddenly stops** due to an obstacle and trigger a **buzzer alert**.\n",
    "\n",
    "---\n",
    "\n",
    "## **Instructions**\n",
    "### **1️⃣ Detect a Sudden Stop**\n",
    "- Use the **LiDAR sensor** to monitor the front distance.\n",
    "- Check if the **front distance** is **less than the critical distance** (`node.critical_distance`).\n",
    "- If the robot is **too close to an obstacle**, trigger the alert.\n",
    "\n",
    "### **2️⃣ Trigger the Buzzer Alert**\n",
    "- If the condition is met, the buzzer should **beep 5 times** to signal the sudden stop.\n",
    "- Use the **buzzer function** to play a short beep.\n",
    "- Add a **brief pause** between beeps for clarity.\n",
    "\n",
    "---\n",
    "\n",
    "## **Available Functions & How to Use Them**\n",
    "### **🔹 Read Distance from the LiDAR Sensor**\n",
    "Use the `front_distance` variable to check the distance ahead:\n",
    "```python\n",
    "node.front_distance\n",
    "```\n",
    "The critical threshold is:\n",
    "```python\n",
    "node.critical_distance\n",
    "```\n",
    "\n",
    "### **🔹 Play a Buzzer Sound**\n",
    "```python\n",
    "node.play_buzzer(frequency, on_time, off_time, repeat)\n",
    "```\n",
    "**Parameters:**\n",
    "- `frequency`: The beep frequency in Hz (e.g., `1000`).\n",
    "- `on_time`: How long the buzzer stays ON (in seconds).\n",
    "- `off_time`: How long the buzzer stays OFF before repeating.\n",
    "- `repeat`: Number of times the buzzer plays.\n",
    "\n",
    "### **🔹 Pause Between Beeps**\n",
    "```python\n",
    "time.sleep(0.2)\n",
    "```\n",
    "Adds a short delay between buzzer sounds.\n",
    "\n",
    "---\n",
    "\n",
    "## **Hints**\n",
    "✅ Use an `if` condition to check `front_distance < critical_distance`.  \n",
    "✅ Beep **5 times** if an obstacle is too close.  \n",
    "✅ Use `time.sleep(0.2)` to add a pause between alerts.  \n",
    "✅ Test different values to find an appropriate alert duration.  \n",
    "\n",
    "---\n",
    "\n",
    "## **🔹 Example (Not a Solution)**\n",
    "*\"If the robot detects an obstacle closer than 10 cm, it should beep rapidly 5 times to warn the user.\"*"
   ]
  },
  {
   "cell_type": "code",
   "execution_count": null,
   "id": "72f7f747",
   "metadata": {},
   "outputs": [],
   "source": [
    "if node.front_distance < node.critical_distance:  # Check if an obstacle is too close\n",
    "    for _ in range(5):\n",
    "        node.play_buzzer(1000, 0.1, 0.1, 1)  # Adjust frequency and duration\n",
    "        time.sleep(0.2)"
   ]
  }
 ],
 "metadata": {},
 "nbformat": 4,
 "nbformat_minor": 5
}
