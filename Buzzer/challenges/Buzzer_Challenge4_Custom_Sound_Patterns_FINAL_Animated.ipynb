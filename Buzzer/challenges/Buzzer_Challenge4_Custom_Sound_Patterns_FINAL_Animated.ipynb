{
 "cells": [
  {
   "cell_type": "markdown",
   "id": "1d0d3707",
   "metadata": {},
   "source": [
    "# 🎵 Final Challenge 4: Custom Sound Patterns (Animated)\n",
    "---\n",
    "\n",
    "Play a low tone when moving forward and a high tone when rotating. Then animate the path in 2D."
   ]
  },
  {
   "cell_type": "code",
   "execution_count": null,
   "id": "40ed8a45",
   "metadata": {},
   "outputs": [],
   "source": [
    "# ✅ Setup\n",
    "from buzzer_sim import play_buzzer_sim\n",
    "from landbot_sim_slider import LandBotSimulator\n",
    "bot = LandBotSimulator()"
   ]
  },
  {
   "cell_type": "markdown",
   "id": "0aa737ae",
   "metadata": {},
   "source": [
    "## 💡 Use these commands:\n",
    "- `play_buzzer_sim(freq, duration, pause, repeat)` to simulate buzzer sounds\n",
    "- `bot.move_forward(speed, duration)`, `bot.rotate_left(degrees)`, etc.\n",
    "- `bot.animate_2d_path()` to animate the full movement"
   ]
  },
  {
   "cell_type": "code",
   "execution_count": null,
   "id": "6fbaa5b6",
   "metadata": {},
   "outputs": [],
   "source": [
    "# Forward movement\n",
    "play_buzzer_sim(500, 0.3, 0.1, 1)\n",
    "bot.move_forward(0.4, 2)\n",
    "\n",
    "# Rotation\n",
    "play_buzzer_sim(2000, 0.3, 0.1, 2)\n",
    "bot.rotate_left(90)\n",
    "\n",
    "# More movement\n",
    "play_buzzer_sim(500, 0.3, 0.1, 1)\n",
    "bot.move_forward(0.3, 1)\n",
    "bot.stop()\n",
    "\n",
    "# Show path animation\n",
    "bot.animate_2d_path()\n"
   ]
  },
  {
   "cell_type": "code",
   "execution_count": null,
   "id": "95118a52",
   "metadata": {},
   "outputs": [],
   "source": [
    "# 🧪 Now try your own version:\n"
   ]
  }
 ],
 "metadata": {},
 "nbformat": 4,
 "nbformat_minor": 5
}
