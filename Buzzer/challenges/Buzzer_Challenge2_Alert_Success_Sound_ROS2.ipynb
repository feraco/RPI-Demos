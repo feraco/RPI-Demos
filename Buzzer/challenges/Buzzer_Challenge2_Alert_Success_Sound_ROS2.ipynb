{
 "cells": [
  {
   "cell_type": "markdown",
   "id": "11e5d7e5",
   "metadata": {},
   "source": [
    "# ✅ Robot Alert – Success Sound\n",
    "---\n",
    "\n",
    "Create a short, high-pitched tone repeated twice to indicate **SUCCESS**.\n",
    "\n",
    "### 🎯 Objective:\n",
    "Write a command using `node.play_buzzer(freq, on_time, off_time, repeat)` to produce a sound that clearly indicates **Success**."
   ]
  },
  {
   "cell_type": "code",
   "execution_count": null,
   "id": "a99deec7",
   "metadata": {},
   "outputs": [],
   "source": [
    "\n",
    "import rclpy\n",
    "from omni_robot_controller import OmniWheelControlNode  # Import control node\n",
    "\n",
    "# Initialize ROS2 node\n",
    "rclpy.init()\n",
    "node = OmniWheelControlNode()\n"
   ]
  },
  {
   "cell_type": "markdown",
   "id": "e7be96fb",
   "metadata": {},
   "source": [
    "## 🧠 Step-by-step Instructions\n",
    "1. Decide on a **frequency** based on the tone you want (higher = sharper, lower = deeper)\n",
    "2. Set how long the sound plays (`on_time`) and how long it's off between beeps (`off_time`)\n",
    "3. Choose how many times it should repeat (`repeat`)\n"
   ]
  },
  {
   "cell_type": "markdown",
   "id": "bbbe717f",
   "metadata": {},
   "source": [
    "💡 **Hint:** Use a high frequency (e.g., 1000 Hz), short duration (0.2s), and repeat it twice."
   ]
  },
  {
   "cell_type": "code",
   "execution_count": null,
   "id": "e0508fe0",
   "metadata": {},
   "outputs": [],
   "source": [
    "# 🔧 Write your buzzer command below:\n",
    "# Example:\n",
    "\n",
    "node.play_buzzer("
   ]
  }
 ],
 "metadata": {
  "language_info": {
   "name": "python"
  }
 },
 "nbformat": 4,
 "nbformat_minor": 5
}
