{
 "cells": [
  {
   "cell_type": "markdown",
   "id": "497d52da",
   "metadata": {},
   "source": [
    "# 🔊 Challenge 3: Robot Alerts on Movement\n",
    "---\n",
    "\n",
    "In this challenge, you'll create two sound alerts:\n",
    "- A **short beep** when the robot **starts moving**.\n",
    "- A **longer beep** when the robot **stops moving**."
   ]
  },
  {
   "cell_type": "code",
   "execution_count": null,
   "id": "4e88bc14",
   "metadata": {},
   "outputs": [],
   "source": [
    "\n",
    "import rclpy\n",
    "from omni_robot_controller import OmniWheelControlNode  # Import control node\n",
    "\n",
    "# Initialize ROS2 node\n",
    "rclpy.init()\n",
    "node = OmniWheelControlNode()\n"
   ]
  },
  {
   "cell_type": "markdown",
   "id": "e7b66fe7",
   "metadata": {},
   "source": [
    "## 🧠 Step-by-step Instructions:\n",
    "- Use a short duration (e.g., 0.2s) for the movement start sound.\n",
    "- Use a longer duration (e.g., 1.0s) for the stop sound."
   ]
  },
  {
   "cell_type": "code",
   "execution_count": null,
   "id": "18353497",
   "metadata": {},
   "outputs": [],
   "source": [
    "# 🔧 Try it here:\n",
    "# Example starter code:\n",
    "\n",
    "\n",
    "node.play_buzzer("
   ]
  }
 ],
 "metadata": {
  "language_info": {
   "name": "python"
  }
 },
 "nbformat": 4,
 "nbformat_minor": 5
}
